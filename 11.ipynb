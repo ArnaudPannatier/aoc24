{
 "cells": [
  {
   "cell_type": "code",
   "execution_count": null,
   "metadata": {},
   "outputs": [
    {
     "name": "stdout",
     "output_type": "stream",
     "text": [
      "[Example(input_data='Initial arrangement:\\n125 17\\n\\nAfter 1 blink:\\n253000 1 7\\n\\nAfter 2 blinks:\\n253 0 2024 14168\\n\\nAfter 3 blinks:\\n512072 1 20 24 28676032\\n\\nAfter 4 blinks:\\n512 72 2024 2 0 2 4 2867 6032\\n\\nAfter 5 blinks:\\n1036288 7 2 20 24 4048 1 4048 8096 28 67 60 32\\n\\nAfter 6 blinks:\\n2097446912 14168 4048 2 0 2 4 40 48 2024 40 48 80 96 2 8 6 7 6 0 3 2', answer_a='55312', answer_b=None, extra=None)]\n"
     ]
    },
    {
     "data": {
      "text/plain": [
       "'8983 85629'"
      ]
     },
     "execution_count": 5,
     "metadata": {},
     "output_type": "execute_result"
    }
   ],
   "source": [
    "import aocd\n",
    "import re\n",
    "from dotenv import load_dotenv\n",
    "import numpy as np\n",
    "from tqdm import tqdm\n",
    "import networkx as nx\n",
    "\n",
    "load_dotenv()\n",
    "\n",
    "puzzle = aocd.get_puzzle(day=11, year=2024)\n",
    "text = puzzle.input_data\n",
    "examples = puzzle.examples\n",
    "print(examples)\n",
    "\n",
    "lines = text.splitlines()\n",
    "\n",
    "example = examples[0].input_data.splitlines()\n",
    "\n",
    "text[-10:]\n"
   ]
  },
  {
   "cell_type": "code",
   "execution_count": 3,
   "metadata": {},
   "outputs": [
    {
     "name": "stdout",
     "output_type": "stream",
     "text": [
      "Initial arrangement:\n",
      "125 17\n",
      "\n",
      "After 1 blink:\n",
      "253000 1 7\n",
      "\n",
      "After 2 blinks:\n",
      "253 0 2024 14168\n",
      "\n",
      "After 3 blinks:\n",
      "512072 1 20 24 28676032\n",
      "\n",
      "After 4 blinks:\n",
      "512 72 2024 2 0 2 4 2867 6032\n",
      "\n",
      "After 5 blinks:\n",
      "1036288 7 2 20 24 4048 1 4048 8096 28 67 60 32\n",
      "\n",
      "After 6 blinks:\n",
      "2097446912 14168 4048 2 0 2 4 40 48 2024 40 48 80 96 2 8 6 7 6 0 3 2\n"
     ]
    }
   ],
   "source": [
    "lines = example\n",
    "text = examples[0].input_data\n",
    "print(text)"
   ]
  },
  {
   "cell_type": "code",
   "execution_count": null,
   "metadata": {},
   "outputs": [
    {
     "name": "stderr",
     "output_type": "stream",
     "text": [
      "answer a: None\n",
      "submitting for part a\n"
     ]
    },
    {
     "name": "stdout",
     "output_type": "stream",
     "text": [
      "\u001b[32mThat's the right answer!  You are one gold star closer to finding the Chief Historian. [Continue to Part Two]\u001b[0m\n"
     ]
    },
    {
     "data": {
      "text/plain": [
       "<urllib3.response.HTTPResponse at 0x725d7a1dca00>"
      ]
     },
     "execution_count": 4,
     "metadata": {},
     "output_type": "execute_result"
    },
    {
     "name": "stderr",
     "output_type": "stream",
     "text": [
      "Gtk-Message: 06:57:07.394: Not loading module \"atk-bridge\": The functionality is provided by GTK natively. Please try to not load it.\n"
     ]
    }
   ],
   "source": [
    "aocd.submit(s, day=11, year=2024)"
   ]
  },
  {
   "cell_type": "code",
   "execution_count": null,
   "metadata": {},
   "outputs": [],
   "source": [
    "from collections import Counter"
   ]
  },
  {
   "cell_type": "code",
   "execution_count": null,
   "metadata": {},
   "outputs": [],
   "source": [
    "\n",
    "from collections import Counter\n",
    "\n",
    "\n",
    "from functools import cache\n",
    "from tqdm import trange\n",
    "\n",
    "L = text.split()\n",
    "\n",
    "c = Counter(map(int, L))\n",
    "\n",
    "\n",
    "@cache\n",
    "def rules(a):\n",
    "    if a == 0:\n",
    "        return Counter([1])\n",
    "\n",
    "    sa = str(a)\n",
    "    if len(sa) % 2 == 0:\n",
    "        h = len(sa) // 2\n",
    "        return Counter([int(sa[:h]), int(sa[h:])])\n",
    "    return Counter([2024 * a])\n",
    "\n",
    "\n",
    "def blink(c):\n",
    "    new = Counter()\n",
    "    for a, m in c.items():\n",
    "        new += Counter({k: m*v for k,v in  rules(a).items()}) \n",
    "    return new\n",
    "\n",
    "\n",
    "for _ in trange(75):\n",
    "    c = blink(c)\n",
    "\n",
    "\n",
    "s = sum(c.values())\n",
    "print(s)\n",
    "\n",
    "aocd.submit(s, day=11, year=2024)\n",
    "\n"
   ]
  },
  {
   "cell_type": "code",
   "execution_count": 35,
   "metadata": {},
   "outputs": [
    {
     "name": "stdout",
     "output_type": "stream",
     "text": [
      "['8793800', '1629', '65', '5', '960', '0', '138983', '85629']\n",
      "Counter({'2': 4, '0': 4, '4': 4, '8': 4, '4048': 2, '72913': 1, '52728': 1, '5829': 1, '1200': 1, '2457': 1, '9456': 1, '3686': 1, '9184': 1, '24': 1, '57': 1, '94': 1, '56': 1, '20': 1, '48': 1, '28': 1, '80': 1, '7959': 1, '7848': 1, '2623': 1, '1040': 1, '1': 1, '8096': 1, '564': 1, '696': 1, '631': 1, '488': 1, '81504456': 1, '69236992': 1, '708400': 1, '1588840': 1, '1428944': 1, '615296': 1})\n"
     ]
    },
    {
     "data": {
      "text/plain": [
       "50"
      ]
     },
     "execution_count": 35,
     "metadata": {},
     "output_type": "execute_result"
    }
   ],
   "source": [
    "from functools import cache\n",
    "import sys\n",
    "\n",
    "sys.setrecursionlimit(10**6)\n",
    "\n",
    "\n",
    "# cache = {}\n",
    "L = text.split()\n",
    "\n",
    "\n",
    "@cache\n",
    "def rules(a):\n",
    "    if a == \"0\":\n",
    "        return [\"1\"]\n",
    "    elif len(a) % 2 == 0:\n",
    "        h = len(a) // 2\n",
    "        return [str(int(a[:h])), str(int(a[h:]))]\n",
    "    else:\n",
    "        return [str(2024 * int(a))]\n",
    "\n",
    "\n",
    "@cache\n",
    "def split(a, N):\n",
    "    if N == 1:\n",
    "        return rules(a)\n",
    "\n",
    "    return [c for b in rules(a) for c in split(b, N - 1)]\n",
    "\n",
    "\n",
    "print(L)\n",
    "\n",
    "\n",
    "new = [b for a in L for b in split(a, 1)]\n",
    "new = [b for a in new for b in split(a, 1)]\n",
    "new = [b for a in new for b in split(a, 1)]\n",
    "new = [b for a in new for b in split(a, 1)]\n",
    "new = [b for a in new for b in split(a, 1)]\n",
    "\n",
    "\n",
    "print(Counter(new))\n",
    "\n",
    "len(new)\n"
   ]
  },
  {
   "cell_type": "code",
   "execution_count": null,
   "metadata": {},
   "outputs": [
    {
     "name": "stdout",
     "output_type": "stream",
     "text": [
      "9 1 7 {'3277': {1: ['32', '77']}, '2608': {1: ['26', '8']}, '32772608': {2: ['32', '77', '26', '8']}, '16192': {3: [2]}, '8': {4: [3]}, '20': {1: ['2', '0']}, '24': {1: ['2', '4']}, '2024': {2: ['2', '0', '2', '4']}, '1': {3: [2]}, '0': {4: [3]}, '80': {5: [4, 4]}, '3686': {1: ['36', '86']}, '9184': {1: ['91', '84']}, '36869184': {2: ['36', '86', '91', '84']}, '18216': {3: [2]}, '9': {4: [3]}, '2457': {1: ['24', '57']}, '9456': {1: ['94', '56']}, '24579456': {2: ['24', '57', '94', '56']}, '12144': {3: [2]}, '6': {4: [3]}, '96': {5: [4, 4]}, '8096': {6: [5, 5]}, '4': {7: [6]}}\n"
     ]
    },
    {
     "ename": "KeyError",
     "evalue": "0",
     "output_type": "error",
     "traceback": [
      "\u001b[0;31m---------------------------------------------------------------------------\u001b[0m",
      "\u001b[0;31mKeyError\u001b[0m                                  Traceback (most recent call last)",
      "Cell \u001b[0;32mIn[12], line 45\u001b[0m\n\u001b[1;32m     38\u001b[0m     list_cache[a]\u001b[38;5;241m=\u001b[39m {N : [c \u001b[38;5;28;01mfor\u001b[39;00m b \u001b[38;5;129;01min\u001b[39;00m rules(a) \u001b[38;5;28;01mfor\u001b[39;00m c \u001b[38;5;129;01min\u001b[39;00m split(b, N\u001b[38;5;241m-\u001b[39m\u001b[38;5;241m1\u001b[39m)]}\n\u001b[1;32m     39\u001b[0m     \u001b[38;5;28;01mreturn\u001b[39;00m list_cache[a]\n\u001b[0;32m---> 45\u001b[0m new \u001b[38;5;241m=\u001b[39m [b \u001b[38;5;28;01mfor\u001b[39;00m a \u001b[38;5;129;01min\u001b[39;00m L \u001b[38;5;28;01mfor\u001b[39;00m b \u001b[38;5;129;01min\u001b[39;00m \u001b[43msplit\u001b[49m\u001b[43m(\u001b[49m\u001b[43ma\u001b[49m\u001b[43m,\u001b[49m\u001b[43m \u001b[49m\u001b[38;5;241;43m25\u001b[39;49m\u001b[43m)\u001b[49m ]\n\u001b[1;32m     48\u001b[0m \u001b[38;5;28mlen\u001b[39m(new)\n",
      "Cell \u001b[0;32mIn[12], line 38\u001b[0m, in \u001b[0;36msplit\u001b[0;34m(a, N)\u001b[0m\n\u001b[1;32m     35\u001b[0m     list_cache[a] \u001b[38;5;241m=\u001b[39m {\u001b[38;5;241m1\u001b[39m : rules(a)}\n\u001b[1;32m     36\u001b[0m     \u001b[38;5;28;01mreturn\u001b[39;00m list_cache[a][N]\n\u001b[0;32m---> 38\u001b[0m list_cache[a]\u001b[38;5;241m=\u001b[39m {N : [c \u001b[38;5;28;01mfor\u001b[39;00m b \u001b[38;5;129;01min\u001b[39;00m rules(a) \u001b[38;5;28;01mfor\u001b[39;00m c \u001b[38;5;129;01min\u001b[39;00m \u001b[43msplit\u001b[49m\u001b[43m(\u001b[49m\u001b[43mb\u001b[49m\u001b[43m,\u001b[49m\u001b[43m \u001b[49m\u001b[43mN\u001b[49m\u001b[38;5;241;43m-\u001b[39;49m\u001b[38;5;241;43m1\u001b[39;49m\u001b[43m)\u001b[49m]}\n\u001b[1;32m     39\u001b[0m \u001b[38;5;28;01mreturn\u001b[39;00m list_cache[a]\n",
      "Cell \u001b[0;32mIn[12], line 38\u001b[0m, in \u001b[0;36msplit\u001b[0;34m(a, N)\u001b[0m\n\u001b[1;32m     35\u001b[0m     list_cache[a] \u001b[38;5;241m=\u001b[39m {\u001b[38;5;241m1\u001b[39m : rules(a)}\n\u001b[1;32m     36\u001b[0m     \u001b[38;5;28;01mreturn\u001b[39;00m list_cache[a][N]\n\u001b[0;32m---> 38\u001b[0m list_cache[a]\u001b[38;5;241m=\u001b[39m {N : [c \u001b[38;5;28;01mfor\u001b[39;00m b \u001b[38;5;129;01min\u001b[39;00m rules(a) \u001b[38;5;28;01mfor\u001b[39;00m c \u001b[38;5;129;01min\u001b[39;00m \u001b[43msplit\u001b[49m\u001b[43m(\u001b[49m\u001b[43mb\u001b[49m\u001b[43m,\u001b[49m\u001b[43m \u001b[49m\u001b[43mN\u001b[49m\u001b[38;5;241;43m-\u001b[39;49m\u001b[38;5;241;43m1\u001b[39;49m\u001b[43m)\u001b[49m]}\n\u001b[1;32m     39\u001b[0m \u001b[38;5;28;01mreturn\u001b[39;00m list_cache[a]\n",
      "    \u001b[0;31m[... skipping similar frames: split at line 38 (15 times)]\u001b[0m\n",
      "Cell \u001b[0;32mIn[12], line 38\u001b[0m, in \u001b[0;36msplit\u001b[0;34m(a, N)\u001b[0m\n\u001b[1;32m     35\u001b[0m     list_cache[a] \u001b[38;5;241m=\u001b[39m {\u001b[38;5;241m1\u001b[39m : rules(a)}\n\u001b[1;32m     36\u001b[0m     \u001b[38;5;28;01mreturn\u001b[39;00m list_cache[a][N]\n\u001b[0;32m---> 38\u001b[0m list_cache[a]\u001b[38;5;241m=\u001b[39m {N : [c \u001b[38;5;28;01mfor\u001b[39;00m b \u001b[38;5;129;01min\u001b[39;00m rules(a) \u001b[38;5;28;01mfor\u001b[39;00m c \u001b[38;5;129;01min\u001b[39;00m \u001b[43msplit\u001b[49m\u001b[43m(\u001b[49m\u001b[43mb\u001b[49m\u001b[43m,\u001b[49m\u001b[43m \u001b[49m\u001b[43mN\u001b[49m\u001b[38;5;241;43m-\u001b[39;49m\u001b[38;5;241;43m1\u001b[39;49m\u001b[43m)\u001b[49m]}\n\u001b[1;32m     39\u001b[0m \u001b[38;5;28;01mreturn\u001b[39;00m list_cache[a]\n",
      "Cell \u001b[0;32mIn[12], line 25\u001b[0m, in \u001b[0;36msplit\u001b[0;34m(a, N)\u001b[0m\n\u001b[1;32m     22\u001b[0m \u001b[38;5;28;01mif\u001b[39;00m depth \u001b[38;5;241m>\u001b[39m\u001b[38;5;241m=\u001b[39m N:\n\u001b[1;32m     23\u001b[0m     \u001b[38;5;28;01mreturn\u001b[39;00m list_cache[a][N\u001b[38;5;241m-\u001b[39m\u001b[38;5;241m1\u001b[39m]\n\u001b[0;32m---> 25\u001b[0m cur \u001b[38;5;241m=\u001b[39m \u001b[43mlist_cache\u001b[49m\u001b[43m[\u001b[49m\u001b[43ma\u001b[49m\u001b[43m]\u001b[49m\u001b[43m[\u001b[49m\u001b[43mdepth\u001b[49m\u001b[38;5;241;43m-\u001b[39;49m\u001b[38;5;241;43m1\u001b[39;49m\u001b[43m]\u001b[49m\n\u001b[1;32m     28\u001b[0m list_cache[a][N] \u001b[38;5;241m=\u001b[39m [c \u001b[38;5;28;01mfor\u001b[39;00m b \u001b[38;5;129;01min\u001b[39;00m cur \u001b[38;5;28;01mfor\u001b[39;00m c \u001b[38;5;129;01min\u001b[39;00m split(b, N\u001b[38;5;241m-\u001b[39mdepth)]\n\u001b[1;32m     29\u001b[0m \u001b[38;5;28;01mreturn\u001b[39;00m list_cache[a][N]\n",
      "\u001b[0;31mKeyError\u001b[0m: 0"
     ]
    }
   ],
   "source": [
    "from functools import cache\n",
    "import sys\n",
    "\n",
    "sys.setrecursionlimit(10**6)\n",
    "\n",
    "list_cache = {}\n",
    "L = text.split()\n",
    "\n",
    "\n",
    "@cache\n",
    "def rules(a):\n",
    "    if a == \"0\":\n",
    "        return [\"1\"]\n",
    "    elif len(a) % 2 == 0:\n",
    "        h = len(a) // 2\n",
    "        return [str(int(a[:h])), str(int(a[h:]))]\n",
    "    else:\n",
    "        return [str(2024 * int(a))]\n",
    "\n",
    "\n",
    "def split(a, N):\n",
    "    if a in list_cache:\n",
    "        depth = len(list_cache[a])\n",
    "        print(a, depth, N, list_cache)\n",
    "        if depth >= N:\n",
    "            return list_cache[a][N - 1]\n",
    "\n",
    "        cur = list_cache[a][depth - 1]\n",
    "\n",
    "        list_cache[a][N] = [c for b in cur for c in split(b, N - depth)]\n",
    "        return list_cache[a][N]\n",
    "\n",
    "    if N == 1:\n",
    "        if a in list_cache and len(list_cache[a]) > 0:\n",
    "            return list_cache[a][N]\n",
    "\n",
    "        list_cache[a] = {1: rules(a)}\n",
    "        return list_cache[a][N]\n",
    "\n",
    "    list_cache[a] = {N: [c for b in rules(a) for c in split(b, N - 1)]}\n",
    "    return list_cache[a]\n",
    "\n",
    "\n",
    "new = [b for a in L for b in split(a, 25)]\n",
    "\n",
    "\n",
    "len(new)\n"
   ]
  },
  {
   "cell_type": "code",
   "execution_count": null,
   "metadata": {},
   "outputs": [],
   "source": []
  }
 ],
 "metadata": {
  "kernelspec": {
   "display_name": "aoc24-GOpwAQwM-py3.12",
   "language": "python",
   "name": "python3"
  },
  "language_info": {
   "codemirror_mode": {
    "name": "ipython",
    "version": 3
   },
   "file_extension": ".py",
   "mimetype": "text/x-python",
   "name": "python",
   "nbconvert_exporter": "python",
   "pygments_lexer": "ipython3",
   "version": "3.12.7"
  }
 },
 "nbformat": 4,
 "nbformat_minor": 2
}
