{
 "cells": [
  {
   "cell_type": "code",
   "execution_count": 64,
   "metadata": {},
   "outputs": [
    {
     "name": "stdout",
     "output_type": "stream",
     "text": [
      "[Example(input_data='AAAA\\nBBCD\\nBBCC\\nEEEC', answer_a='1930', answer_b='1206', extra=None)]\n"
     ]
    },
    {
     "data": {
      "text/plain": [
       "['AAAA', 'BBCD', 'BBCC', 'EEEC']"
      ]
     },
     "execution_count": 64,
     "metadata": {},
     "output_type": "execute_result"
    }
   ],
   "source": [
    "import aocd\n",
    "import re\n",
    "from dotenv import load_dotenv\n",
    "import numpy as np\n",
    "from tqdm import tqdm\n",
    "import networkx as nx\n",
    "\n",
    "load_dotenv()\n",
    "\n",
    "puzzle = aocd.get_puzzle(day=12, year=2024)\n",
    "text = puzzle.input_data\n",
    "examples = puzzle.examples\n",
    "print(examples)\n",
    "\n",
    "lines = text.splitlines()\n",
    "\n",
    "example = examples[0].input_data.splitlines()\n",
    "\n",
    "example\n"
   ]
  },
  {
   "cell_type": "code",
   "execution_count": null,
   "metadata": {},
   "outputs": [
    {
     "name": "stdout",
     "output_type": "stream",
     "text": [
      "AAAA\n",
      "BBCD\n",
      "BBCC\n",
      "EEEC\n"
     ]
    }
   ],
   "source": [
    "lines = example\n",
    "text = examples[0].input_data\n",
    "print(text)\n",
    "\n",
    "examples2 = \"\"\"OOOOO\n",
    "OXOXO\n",
    "OOOOO\n",
    "OXOXO\n",
    "OOOOO\"\"\"\n",
    "\n",
    "lines = examples2.splitlines()\n"
   ]
  },
  {
   "cell_type": "code",
   "execution_count": 65,
   "metadata": {},
   "outputs": [],
   "source": [
    "arr = np.array([list(line) for line in lines])\n",
    "\n",
    "arr\n",
    "\n",
    "g = nx.Graph()\n",
    "\n",
    "for i in range(arr.shape[0]):\n",
    "    for j in range(arr.shape[1]):\n",
    "        g.add_node((i,j))\n",
    "        for (i2, j2) in [(i-1,j),(i+1,j),(i,j-1),(i,j+1)]:\n",
    "            if i2 >= 0 and i2 < arr.shape[0] and j2 >= 0 and j2 < arr.shape[1]:\n",
    "                if arr[i2,j2] == arr[i,j]:\n",
    "                    g.add_edge((i,j),(i2,j2))"
   ]
  },
  {
   "cell_type": "code",
   "execution_count": 66,
   "metadata": {},
   "outputs": [
    {
     "data": {
      "text/plain": [
       "1304764"
      ]
     },
     "execution_count": 66,
     "metadata": {},
     "output_type": "execute_result"
    }
   ],
   "source": [
    "sum = 0\n",
    "for s in nx.connected_components(g):\n",
    "    area = len(s)\n",
    "    per = 0\n",
    "    for node in s:\n",
    "        per += 4 - len(g[node])\n",
    "    sum += area * per\n",
    "\n",
    "sum"
   ]
  },
  {
   "cell_type": "code",
   "execution_count": 12,
   "metadata": {},
   "outputs": [
    {
     "name": "stderr",
     "output_type": "stream",
     "text": [
      "answer a: None\n",
      "submitting for part a\n"
     ]
    },
    {
     "name": "stdout",
     "output_type": "stream",
     "text": [
      "\u001b[32mThat's the right answer!  You are one gold star closer to finding the Chief Historian. [Continue to Part Two]\u001b[0m\n"
     ]
    },
    {
     "data": {
      "text/plain": [
       "<urllib3.response.HTTPResponse at 0x7d432764f6a0>"
      ]
     },
     "execution_count": 12,
     "metadata": {},
     "output_type": "execute_result"
    },
    {
     "name": "stderr",
     "output_type": "stream",
     "text": [
      "Gtk-Message: 08:12:39.246: Not loading module \"atk-bridge\": The functionality is provided by GTK natively. Please try to not load it.\n"
     ]
    }
   ],
   "source": [
    "aocd.submit(sum, day=12, year=2024)"
   ]
  },
  {
   "cell_type": "code",
   "execution_count": 77,
   "metadata": {},
   "outputs": [
    {
     "name": "stdout",
     "output_type": "stream",
     "text": [
      "811148\n"
     ]
    }
   ],
   "source": [
    "def nb_sides(s):\n",
    "    border_graph = nx.Graph()\n",
    "    for n in s:\n",
    "        for d in [(1, 0), (0, 1), (-1, 0), (0, -1)]:\n",
    "            n2 = (n[0] + d[0], n[1] + d[1])\n",
    "            if (n2[0] < 0 or n2[0] >= arr.shape[0] or n2[1] < 0 or n2[1] >= arr.shape[1]):\n",
    "                border_graph.add_node((n, d))\n",
    "            elif  (arr[n2] != arr[n]):\n",
    "                border_graph.add_node((n, d))\n",
    "\n",
    "    for n in s:    \n",
    "        for neighbor, direction in [\n",
    "            ((0,1), (1,0)), ((0, 1), (-1, 0)), ((0, -1), (1, 0)), ((0, -1), (-1, 0)),\n",
    "            ((1,0), (0,1)), ((1, 0), (0, -1)), ((-1,0), (0,1)), ((-1, 0), (0, -1)),\n",
    "        ]:\n",
    "            n2 = (n[0] + neighbor[0], n[1] + neighbor[1])\n",
    "            if (n, direction) in border_graph.nodes and (n2, direction) in border_graph.nodes:\n",
    "                border_graph.add_edge((n, direction), (n2, direction))\n",
    "                \n",
    "    return len(list(nx.connected_components(border_graph)))\n",
    "\n",
    "sum = 0\n",
    "for s in nx.connected_components(g):\n",
    "    sum += nb_sides(s) * len(s)\n",
    "\n",
    "print(sum)\n"
   ]
  },
  {
   "cell_type": "code",
   "execution_count": 69,
   "metadata": {},
   "outputs": [
    {
     "name": "stderr",
     "output_type": "stream",
     "text": [
      "answer a: 1304764\n",
      "submitting for part b (part a is already completed)\n"
     ]
    },
    {
     "name": "stdout",
     "output_type": "stream",
     "text": [
      "\u001b[32mThat's the right answer!  You are one gold star closer to finding the Chief Historian.You have completed Day 12! You can [Shareon\n",
      "  Bluesky\n",
      "Twitter\n",
      "Mastodon] this victory or [Return to Your Advent Calendar].\u001b[0m\n"
     ]
    },
    {
     "data": {
      "text/plain": [
       "<urllib3.response.HTTPResponse at 0x7b6cc00455d0>"
      ]
     },
     "execution_count": 69,
     "metadata": {},
     "output_type": "execute_result"
    },
    {
     "name": "stderr",
     "output_type": "stream",
     "text": [
      "Gtk-Message: 15:07:25.159: Not loading module \"atk-bridge\": The functionality is provided by GTK natively. Please try to not load it.\n"
     ]
    }
   ],
   "source": [
    "aocd.submit(sum, day=12, year=2024)"
   ]
  },
  {
   "cell_type": "code",
   "execution_count": null,
   "metadata": {},
   "outputs": [],
   "source": []
  }
 ],
 "metadata": {
  "kernelspec": {
   "display_name": "aoc24-GOpwAQwM-py3.12",
   "language": "python",
   "name": "python3"
  },
  "language_info": {
   "codemirror_mode": {
    "name": "ipython",
    "version": 3
   },
   "file_extension": ".py",
   "mimetype": "text/x-python",
   "name": "python",
   "nbconvert_exporter": "python",
   "pygments_lexer": "ipython3",
   "version": "3.12.7"
  }
 },
 "nbformat": 4,
 "nbformat_minor": 2
}
