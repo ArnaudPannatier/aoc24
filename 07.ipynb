{
 "cells": [
  {
   "cell_type": "code",
   "execution_count": 4,
   "metadata": {},
   "outputs": [
    {
     "name": "stdout",
     "output_type": "stream",
     "text": [
      "[Example(input_data='190: 10 19\\n3267: 81 40 27\\n83: 17 5\\n156: 15 6\\n7290: 6 8 6 15\\n161011: 16 10 13\\n192: 17 8 14\\n21037: 9 7 18 13\\n292: 11 6 16 20', answer_a='3749', answer_b='11387', extra=None)]\n"
     ]
    },
    {
     "data": {
      "text/plain": [
       "['190: 10 19',\n",
       " '3267: 81 40 27',\n",
       " '83: 17 5',\n",
       " '156: 15 6',\n",
       " '7290: 6 8 6 15',\n",
       " '161011: 16 10 13',\n",
       " '192: 17 8 14',\n",
       " '21037: 9 7 18 13',\n",
       " '292: 11 6 16 20']"
      ]
     },
     "execution_count": 4,
     "metadata": {},
     "output_type": "execute_result"
    }
   ],
   "source": [
    "import aocd\n",
    "import re\n",
    "from dotenv import load_dotenv\n",
    "import numpy as np\n",
    "from tqdm import tqdm   \n",
    "\n",
    "load_dotenv()\n",
    "\n",
    "puzzle = aocd.get_puzzle(day=7, year=2024)\n",
    "text = puzzle.input_data\n",
    "examples = puzzle.examples\n",
    "print(examples)\n",
    "\n",
    "lines = text.splitlines()\n",
    "\n",
    "example = examples[0].input_data.splitlines()\n",
    "\n",
    "example\n",
    "\n"
   ]
  },
  {
   "cell_type": "code",
   "execution_count": 2,
   "metadata": {},
   "outputs": [],
   "source": [
    "lines = example"
   ]
  },
  {
   "cell_type": "code",
   "execution_count": 5,
   "metadata": {},
   "outputs": [
    {
     "name": "stderr",
     "output_type": "stream",
     "text": [
      "100%|██████████| 850/850 [00:20<00:00, 41.41it/s]"
     ]
    },
    {
     "name": "stdout",
     "output_type": "stream",
     "text": [
      "106016735664498\n"
     ]
    },
    {
     "name": "stderr",
     "output_type": "stream",
     "text": [
      "\n"
     ]
    }
   ],
   "source": [
    "from itertools import product\n",
    "from tqdm import tqdm   \n",
    "\n",
    "obj_list = [(int(l.split(\":\")[0]), list(map(int, l.split(\":\")[1].strip().split()))) for l in lines]\n",
    "\n",
    "operator = [\"+\", \"*\", \"||\"]\n",
    "\n",
    "def accumulate(ints, ops):\n",
    "    buf = ints[0]\n",
    "\n",
    "    for i,o in zip(ints[1:], ops):\n",
    "        if o == \"+\":\n",
    "            buf += i\n",
    "        elif o == \"*\":\n",
    "            buf *= i\n",
    "        elif o == \"||\":\n",
    "            buf = int(str(buf) + str(i))\n",
    "\n",
    "    return buf\n",
    "\n",
    "\n",
    "s = 0\n",
    "for obj, ll in tqdm(obj_list):\n",
    "\n",
    "\n",
    "    if any(obj == accumulate(list(ll), ops) for ops in product(operator, repeat=len(ll)-1)):\n",
    "        s += obj \n",
    "         \n",
    "\n",
    "print(s)\n"
   ]
  },
  {
   "cell_type": "code",
   "execution_count": null,
   "metadata": {},
   "outputs": [
    {
     "name": "stderr",
     "output_type": "stream",
     "text": [
      "answer a: 12940396350192\n",
      "submitting for part b (part a is already completed)\n"
     ]
    },
    {
     "name": "stdout",
     "output_type": "stream",
     "text": [
      "\u001b[32mThat's the right answer!  You are one gold star closer to finding the Chief Historian.You have completed Day 7! You can [Shareon\n",
      "  Bluesky\n",
      "Twitter\n",
      "Mastodon] this victory or [Return to Your Advent Calendar].\u001b[0m\n"
     ]
    },
    {
     "data": {
      "text/plain": [
       "<urllib3.response.HTTPResponse at 0x7af095757820>"
      ]
     },
     "execution_count": 6,
     "metadata": {},
     "output_type": "execute_result"
    },
    {
     "name": "stderr",
     "output_type": "stream",
     "text": [
      "update.go:85: cannot change mount namespace according to change mount (/var/lib/snapd/hostfs/usr/local/share/doc /usr/local/share/doc none bind,ro 0 0): cannot open directory \"/usr/local/share\": permission denied\n",
      "update.go:85: cannot change mount namespace according to change mount (/var/lib/snapd/hostfs/usr/share/gimp/2.0/help /usr/share/gimp/2.0/help none bind,ro 0 0): cannot write to \"/var/lib/snapd/hostfs/usr/share/gimp/2.0/help\" because it would affect the host in \"/var/lib/snapd\"\n",
      "update.go:85: cannot change mount namespace according to change mount (/var/lib/snapd/hostfs/usr/share/gtk-doc /usr/share/gtk-doc none bind,ro 0 0): cannot write to \"/var/lib/snapd/hostfs/usr/share/gtk-doc\" because it would affect the host in \"/var/lib/snapd\"\n",
      "update.go:85: cannot change mount namespace according to change mount (/var/lib/snapd/hostfs/usr/share/libreoffice/help /usr/share/libreoffice/help none bind,ro 0 0): cannot write to \"/var/lib/snapd/hostfs/usr/share/libreoffice/help\" because it would affect the host in \"/var/lib/snapd\"\n",
      "update.go:85: cannot change mount namespace according to change mount (/var/lib/snapd/hostfs/usr/share/sphinx_rtd_theme /usr/share/sphinx_rtd_theme none bind,ro 0 0): cannot write to \"/var/lib/snapd/hostfs/usr/share/sphinx_rtd_theme\" because it would affect the host in \"/var/lib/snapd\"\n",
      "update.go:85: cannot change mount namespace according to change mount (/var/lib/snapd/hostfs/usr/share/xubuntu-docs /usr/share/xubuntu-docs none bind,ro 0 0): cannot write to \"/var/lib/snapd/hostfs/usr/share/xubuntu-docs\" because it would affect the host in \"/var/lib/snapd\"\n",
      "Gtk-Message: 12:48:42.502: Not loading module \"atk-bridge\": The functionality is provided by GTK natively. Please try to not load it.\n"
     ]
    }
   ],
   "source": [
    "aocd.submit(s, day=7, year=2024)"
   ]
  },
  {
   "cell_type": "code",
   "execution_count": 56,
   "metadata": {},
   "outputs": [
    {
     "name": "stderr",
     "output_type": "stream",
     "text": [
      "answer a: 12940396350192\n",
      "submitting for part b (part a is already completed)\n",
      "wrong answer: That's not the right answer; your answer is too low.  If you're stuck, make sure you're using the full input data; there are also some general tips on the about page, or you can ask for hints on the subreddit.  Please wait one minute before trying again. [Return to Day 7]\n"
     ]
    },
    {
     "name": "stdout",
     "output_type": "stream",
     "text": [
      "\u001b[31mThat's not the right answer; your answer is too low.  If you're stuck, make sure you're using the full input data; there are also some general tips on the about page, or you can ask for hints on the subreddit.  Please wait one minute before trying again. [Return to Day 7]\u001b[0m\n"
     ]
    },
    {
     "data": {
      "text/plain": [
       "<urllib3.response.HTTPResponse at 0x7294d02ed2d0>"
      ]
     },
     "execution_count": 56,
     "metadata": {},
     "output_type": "execute_result"
    }
   ],
   "source": [
    "aocd.submit(s, day=7, year=2024)"
   ]
  },
  {
   "cell_type": "code",
   "execution_count": null,
   "metadata": {},
   "outputs": [],
   "source": []
  }
 ],
 "metadata": {
  "kernelspec": {
   "display_name": "aoc24-TyiyelMA-py3.12",
   "language": "python",
   "name": "python3"
  },
  "language_info": {
   "codemirror_mode": {
    "name": "ipython",
    "version": 3
   },
   "file_extension": ".py",
   "mimetype": "text/x-python",
   "name": "python",
   "nbconvert_exporter": "python",
   "pygments_lexer": "ipython3",
   "version": "3.12.7"
  }
 },
 "nbformat": 4,
 "nbformat_minor": 2
}
