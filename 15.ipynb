{
 "cells": [
  {
   "cell_type": "code",
   "execution_count": 41,
   "metadata": {},
   "outputs": [
    {
     "name": "stdout",
     "output_type": "stream",
     "text": [
      "[Example(input_data='##########\\n#..O..O.O#\\n#......O.#\\n#.OO..O.O#\\n#..O@..O.#\\n#O#..O...#\\n#O..O..O.#\\n#.OO.O.OO#\\n#....O...#\\n##########\\n\\n<vv>^<v^>v>^vv^v>v<>v^v<v<^vv<<<^><<><>>v<vvv<>^v^>^<<<><<v<<<v^vv^v>^\\nvvv<<^>^v^^><<>>><>^<<><^vv^^<>vvv<>><^^v>^>vv<>v<<<<v<^v>^<^^>>>^<v<v\\n><>vv>v^v^<>><>>>><^^>vv>v<^^^>>v^v^<^^>v^^>v^<^v>v<>>v^v^<v>v^^<^^vv<\\n<<v<^>>^^^^>>>v^<>vvv^><v<<<>^^^vv^<vvv>^>v<^^^^v<>^>vvvv><>>v^<<^^^^^\\n^><^><>>><>^^<<^^v>>><^<v>^<vv>>v>>>^v><>^v><<<<v>>v<v<v>vvv>^<><<>^><\\n^>><>^v<><^vvv<^^<><v<<<<<><^v<<<><<<^^<v<^^^><^>>^<v^><<<^>>^v<v^v<v^\\n>^>>^v>vv>^<<^v<>><<><<v<<v><>v<^vv<<<>^^v^>^^>>><<^v>>v^v><^^>>^<>vv^\\n<><^^>^^^<><vvvvv^v<v<<>^v<v>v<<^><<><<><<<^^<<<^<<>><<><^^^>^^<>^>v<>\\n^^>vv<^v^v<vv>^<><v<^v>^^^>>>^^vvv^>vvv<>>>^<^>>>>>^<<^v>^vvv<>^<><<v>\\nv^^>>><<^^<>>^v^<v^vv<>v^<<>^<^v^v><^<<<><<^<v><v<>vv>>v><v^<vv<>v^<<^', answer_a='2028', answer_b=None, extra=None)]\n"
     ]
    },
    {
     "data": {
      "text/plain": [
       "['##########',\n",
       " '#..O..O.O#',\n",
       " '#......O.#',\n",
       " '#.OO..O.O#',\n",
       " '#..O@..O.#',\n",
       " '#O#..O...#',\n",
       " '#O..O..O.#',\n",
       " '#.OO.O.OO#',\n",
       " '#....O...#',\n",
       " '##########',\n",
       " '',\n",
       " '<vv>^<v^>v>^vv^v>v<>v^v<v<^vv<<<^><<><>>v<vvv<>^v^>^<<<><<v<<<v^vv^v>^',\n",
       " 'vvv<<^>^v^^><<>>><>^<<><^vv^^<>vvv<>><^^v>^>vv<>v<<<<v<^v>^<^^>>>^<v<v',\n",
       " '><>vv>v^v^<>><>>>><^^>vv>v<^^^>>v^v^<^^>v^^>v^<^v>v<>>v^v^<v>v^^<^^vv<',\n",
       " '<<v<^>>^^^^>>>v^<>vvv^><v<<<>^^^vv^<vvv>^>v<^^^^v<>^>vvvv><>>v^<<^^^^^',\n",
       " '^><^><>>><>^^<<^^v>>><^<v>^<vv>>v>>>^v><>^v><<<<v>>v<v<v>vvv>^<><<>^><',\n",
       " '^>><>^v<><^vvv<^^<><v<<<<<><^v<<<><<<^^<v<^^^><^>>^<v^><<<^>>^v<v^v<v^',\n",
       " '>^>>^v>vv>^<<^v<>><<><<v<<v><>v<^vv<<<>^^v^>^^>>><<^v>>v^v><^^>>^<>vv^',\n",
       " '<><^^>^^^<><vvvvv^v<v<<>^v<v>v<<^><<><<><<<^^<<<^<<>><<><^^^>^^<>^>v<>',\n",
       " '^^>vv<^v^v<vv>^<><v<^v>^^^>>>^^vvv^>vvv<>>>^<^>>>>>^<<^v>^vvv<>^<><<v>',\n",
       " 'v^^>>><<^^<>>^v^<v^vv<>v^<<>^<^v^v><^<<<><<^<v><v<>vv>>v><v^<vv<>v^<<^']"
      ]
     },
     "execution_count": 41,
     "metadata": {},
     "output_type": "execute_result"
    }
   ],
   "source": [
    "import aocd\n",
    "import re\n",
    "from dotenv import load_dotenv\n",
    "import numpy as np\n",
    "from tqdm import tqdm\n",
    "import networkx as nx\n",
    "\n",
    "load_dotenv()\n",
    "\n",
    "puzzle = aocd.get_puzzle(day=15, year=2024)\n",
    "text = puzzle.input_data\n",
    "examples = puzzle.examples\n",
    "print(examples)\n",
    "\n",
    "lines = text.splitlines()\n",
    "\n",
    "example = examples[0].input_data.splitlines()\n",
    "\n",
    "example\n"
   ]
  },
  {
   "cell_type": "code",
   "execution_count": 39,
   "metadata": {},
   "outputs": [],
   "source": [
    "lines = example\n",
    "text = examples[0].input_data\n",
    "\n",
    "small = \"\"\"########\n",
    "#..O.O.#\n",
    "##@.O..#\n",
    "#...O..#\n",
    "#.#.O..#\n",
    "#...O..#\n",
    "#......#\n",
    "########\n",
    "\n",
    "<^^>>>vv<v>>v<<\"\"\"\n",
    "\n",
    "small = \"\"\"#######\n",
    "#...#.#\n",
    "#.....#\n",
    "#..OO.#\n",
    "#..O..#\n",
    "#..@..#\n",
    "#######\n",
    "\n",
    "^^^\"\"\"\n"
   ]
  },
  {
   "cell_type": "code",
   "execution_count": 43,
   "metadata": {},
   "outputs": [
    {
     "name": "stderr",
     "output_type": "stream",
     "text": [
      "  0%|          | 0/20000 [00:00<?, ?it/s]"
     ]
    },
    {
     "name": "stderr",
     "output_type": "stream",
     "text": [
      "100%|██████████| 20000/20000 [00:00<00:00, 37042.88it/s]"
     ]
    },
    {
     "name": "stdout",
     "output_type": "stream",
     "text": [
      "1561175\n"
     ]
    },
    {
     "name": "stderr",
     "output_type": "stream",
     "text": [
      "\n"
     ]
    }
   ],
   "source": [
    "m, inst = text.split(\"\\n\\n\")\n",
    "\n",
    "m = m.replace(\"#\", \"##\").replace(\"O\", \"[]\").replace(\".\", \"..\").replace(\"@\", \"@.\")\n",
    "\n",
    "\n",
    "m = m.splitlines()\n",
    "inst = list(inst.replace(\"\\n\", \"\"))\n",
    "\n",
    "arr = np.array([list(x) for x in m])\n",
    "\n",
    "\n",
    "move2dir = {\"^\": (-1, 0), \"v\": (1, 0), \"<\": (0, -1), \">\": (0, 1)}\n",
    "\n",
    "def move_h(arr, p, new_p, dir):\n",
    "    p1 = new_p.copy()\n",
    "\n",
    "    stack = []\n",
    "    while arr[*new_p] in \"[]\":\n",
    "        stack.append(arr[*new_p])\n",
    "        new_p = new_p + dir\n",
    "\n",
    "    if arr[*new_p] == \"#\":\n",
    "        return\n",
    "\n",
    "    if arr[*new_p] == \".\":\n",
    "        arr[*p] = \".\"\n",
    "        arr[*p1] = \"@\"        \n",
    "        for i, s in enumerate(stack, 1):\n",
    "            arr[*p1 + i*np.array(dir)] = s\n",
    "    \n",
    "def move_v(arr, p, new_p, dir):\n",
    "    if arr[*new_p] == \"[\":\n",
    "        to_visit = [tuple(new_p), tuple(new_p + (0, 1))]\n",
    "    else:\n",
    "        to_visit = [tuple(new_p), tuple(new_p + (0, -1))]\n",
    "    \n",
    "    to_move = [(tuple(p), arr[*p])]\n",
    "    while to_visit:   \n",
    "        cp = np.array(to_visit.pop())\n",
    "\n",
    "        m = (tuple(cp), arr[*cp])\n",
    "\n",
    "        if m not in to_move:\n",
    "            to_move.append(m)\n",
    "\n",
    "        next_p = cp + dir\n",
    "        if arr[*next_p] == \"#\":\n",
    "            return\n",
    "        \n",
    "        if arr[*next_p] in \"[]\":\n",
    "            to_visit.append(tuple(next_p))\n",
    "            if arr[*next_p] == \"[\":\n",
    "                cpp = next_p + (0, 1)\n",
    "                if tuple(cpp) not in to_visit:\n",
    "                    to_visit.append(tuple((next_p + (0, 1))))\n",
    "            else:\n",
    "                cpp = next_p + (0, -1)\n",
    "                if tuple(cpp) not in to_visit:\n",
    "                    to_visit.append(tuple(next_p + (0, -1)))\n",
    "\n",
    "\n",
    "    for p, _ in to_move:\n",
    "        arr[*p] = \".\"\n",
    "    \n",
    "    for p, c in to_move:\n",
    "        arr[*(np.array(p) + dir)] = c\n",
    "\n",
    "        \n",
    "        \n",
    "\n",
    "\n",
    "\n",
    "\n",
    "\n",
    "def move(arr, move):\n",
    "    dir = move2dir[move]\n",
    "\n",
    "    p = np.where(arr == \"@\")\n",
    "    p = np.array((p[0][0], p[1][0]))\n",
    "    new_p = p + dir\n",
    "\n",
    "    if arr[*new_p] == \"#\":\n",
    "        return\n",
    "\n",
    "    if arr[*new_p] == \".\":\n",
    "        arr[*p] = \".\"\n",
    "        arr[*new_p] = \"@\"\n",
    "        return\n",
    "\n",
    "    \n",
    "    if arr[*new_p] in \"[]\":\n",
    "        if move in \"<>\":\n",
    "            move_h(arr, p, new_p, dir)\n",
    "        else:\n",
    "            move_v(arr, p, new_p, dir)\n",
    "\n",
    "        \n",
    "                \n",
    "                \n",
    "\n",
    "            \n",
    "\n",
    "\n",
    "for i in tqdm(inst):\n",
    "    move(arr, i)\n",
    "\n",
    "\n",
    "\n",
    "def gps(arr):\n",
    "    x, y = np.where(arr == \"[\")\n",
    "    return x.sum()*100 +  y.sum()\n",
    "\n",
    "print(gps(arr))"
   ]
  },
  {
   "cell_type": "code",
   "execution_count": null,
   "metadata": {},
   "outputs": [
    {
     "name": "stderr",
     "output_type": "stream",
     "text": [
      "answer a: 1552879\n",
      "submitting for part b (part a is already completed)\n",
      "coerced int64 value np.int64(1561175) for 2024/15 to '1561175'\n"
     ]
    },
    {
     "name": "stdout",
     "output_type": "stream",
     "text": [
      "\u001b[32mThat's the right answer!  You are one gold star closer to finding the Chief Historian.You have completed Day 15! You can [Shareon\n",
      "  Bluesky\n",
      "Twitter\n",
      "Mastodon] this victory or [Return to Your Advent Calendar].\u001b[0m\n"
     ]
    },
    {
     "data": {
      "text/plain": [
       "<urllib3.response.HTTPResponse at 0x751293f69ed0>"
      ]
     },
     "execution_count": 44,
     "metadata": {},
     "output_type": "execute_result"
    },
    {
     "name": "stderr",
     "output_type": "stream",
     "text": [
      "Gtk-Message: 20:54:00.405: Not loading module \"atk-bridge\": The functionality is provided by GTK natively. Please try to not load it.\n"
     ]
    }
   ],
   "source": [
    "aocd.submit(gps(arr), day=15, year=2024)"
   ]
  },
  {
   "cell_type": "code",
   "execution_count": null,
   "metadata": {},
   "outputs": [],
   "source": [
    "m, inst = text.split(\"\\n\\n\")\n",
    "\n",
    "m = m.splitlines()\n",
    "inst = list(inst.replace(\"\\n\", \"\"))\n",
    "\n",
    "arr = np.array([list(x) for x in m])\n",
    "\n",
    "x, y = np.where(arr == \"@\")\n",
    "\n",
    "move2dir = {\"^\": (-1, 0), \"v\": (1, 0), \"<\": (0, -1), \">\": (0, 1)}\n",
    "\n",
    "\n",
    "def move(arr, move):\n",
    "    dir = move2dir[move]\n",
    "\n",
    "    p = np.where(arr == \"@\")\n",
    "    p = np.array((p[0][0], p[1][0]))\n",
    "    new_p = p + dir\n",
    "\n",
    "    if arr[*new_p] == \"#\":\n",
    "        return\n",
    "\n",
    "    if arr[*new_p] == \".\":\n",
    "        arr[*p] = \".\"\n",
    "        arr[*new_p] = \"@\"\n",
    "        return\n",
    "\n",
    "    if arr[*new_p] == \"O\":\n",
    "        p1 = new_p.copy()\n",
    "        while arr[*new_p] == \"O\":\n",
    "            new_p = new_p + dir\n",
    "\n",
    "        if arr[*new_p] == \"#\":\n",
    "            return\n",
    "\n",
    "        if arr[*new_p] == \".\":\n",
    "            arr[*p] = \".\"\n",
    "            arr[*p1] = \"@\"\n",
    "            arr[*new_p] = \"O\"\n",
    "            return\n",
    "\n",
    "\n",
    "for i in inst:\n",
    "    move(arr, i)\n",
    "\n",
    "\n",
    "for i in arr:\n",
    "    print(\"\".join(i))\n",
    "\n",
    "\n",
    "def gps(arr):\n",
    "    x, y = np.where(arr == \"O\")\n",
    "    return x.sum()*100 +  y.sum()\n",
    "\n",
    "print(gps(arr))"
   ]
  }
 ],
 "metadata": {
  "kernelspec": {
   "display_name": "aoc24-GOpwAQwM-py3.12",
   "language": "python",
   "name": "python3"
  },
  "language_info": {
   "codemirror_mode": {
    "name": "ipython",
    "version": 3
   },
   "file_extension": ".py",
   "mimetype": "text/x-python",
   "name": "python",
   "nbconvert_exporter": "python",
   "pygments_lexer": "ipython3",
   "version": "3.12.7"
  }
 },
 "nbformat": 4,
 "nbformat_minor": 2
}
