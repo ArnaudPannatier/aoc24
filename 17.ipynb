{
 "cells": [
  {
   "cell_type": "code",
   "execution_count": 1,
   "metadata": {},
   "outputs": [
    {
     "name": "stdout",
     "output_type": "stream",
     "text": [
      "[Example(input_data='Register A: 729\\nRegister B: 0\\nRegister C: 0\\n\\nProgram: 0,1,5,4,3,0', answer_a='4,6,3,5,6,3,5,2,1,0', answer_b=None, extra=None)]\n"
     ]
    },
    {
     "data": {
      "text/plain": [
       "[Example(input_data='Register A: 729\\nRegister B: 0\\nRegister C: 0\\n\\nProgram: 0,1,5,4,3,0', answer_a='4,6,3,5,6,3,5,2,1,0', answer_b=None, extra=None)]"
      ]
     },
     "execution_count": 1,
     "metadata": {},
     "output_type": "execute_result"
    }
   ],
   "source": [
    "import aocd\n",
    "import re\n",
    "from dotenv import load_dotenv\n",
    "import numpy as np\n",
    "from tqdm import tqdm\n",
    "import networkx as nx\n",
    "\n",
    "load_dotenv()\n",
    "\n",
    "puzzle = aocd.get_puzzle(day=17, year=2024)\n",
    "text = puzzle.input_data\n",
    "examples = puzzle.examples\n",
    "print(examples)\n",
    "\n",
    "lines = text.splitlines()\n",
    "\n",
    "example = examples[0].input_data.splitlines()\n",
    "\n",
    "examples"
   ]
  },
  {
   "cell_type": "code",
   "execution_count": 8,
   "metadata": {},
   "outputs": [
    {
     "data": {
      "text/plain": [
       "'Register A: 729\\nRegister B: 0\\nRegister C: 0\\n\\nProgram: 0,1,5,4,3,0'"
      ]
     },
     "execution_count": 8,
     "metadata": {},
     "output_type": "execute_result"
    }
   ],
   "source": [
    "text = examples[0].input_data\n",
    "lines = text.splitlines()\n",
    "\n",
    "text"
   ]
  },
  {
   "cell_type": "code",
   "execution_count": 2,
   "metadata": {},
   "outputs": [
    {
     "name": "stdout",
     "output_type": "stream",
     "text": [
      "7,1,2,3,2,6,7,2,5\n"
     ]
    }
   ],
   "source": [
    "reg, program = text.split(\"\\n\\n\")\n",
    "\n",
    "reg = [int(r.split(\": \")[1]) for r in reg.splitlines()]\n",
    "\n",
    "program = program.strip().split(\": \")[1]\n",
    "program = list(map(int, program.strip().split(\",\")))\n",
    "program\n",
    "\n",
    "inst = 0\n",
    "\n",
    "combo = [0,1,2,3] + reg \n",
    "\n",
    "output = \"\"\n",
    "\n",
    "def adv(i):\n",
    "    combo[4] = int(combo[4]/(2**combo[i]))\n",
    "\n",
    "def bxl(i):\n",
    "    combo[5] = combo[5] ^ i\n",
    "\n",
    "def bst(i):\n",
    "    combo[5] = combo[i] % 8\n",
    "\n",
    "def jnz(i):\n",
    "    if combo[4] == 0:\n",
    "        return\n",
    "    global inst\n",
    "    inst = i\n",
    "\n",
    "def bxc(_):\n",
    "    combo[5] = combo[5] ^ combo[6]\n",
    "\n",
    "def out(i):\n",
    "    o = combo[i] % 8\n",
    "    global output\n",
    "    output += f\"{o},\"\n",
    "\n",
    "def bdv(i):\n",
    "    combo[5] = int(combo[4]/(2**combo[i]))\n",
    "\n",
    "def cdv(i):\n",
    "    combo[6] = int(combo[4]/(2**combo[i]))\n",
    "\n",
    "instructions = [\n",
    "    adv, bxl, bst, jnz, bxc, out, bdv, cdv\n",
    "]\n",
    "\n",
    "while inst < len(program):\n",
    "    opcode, operand = program[inst], program[inst+1]\n",
    "    inst += 2\n",
    "    instructions[opcode](operand)\n",
    "    \n",
    "print(output.removesuffix(\",\"))\n",
    "\n",
    "\n"
   ]
  },
  {
   "cell_type": "code",
   "execution_count": 14,
   "metadata": {},
   "outputs": [
    {
     "name": "stderr",
     "output_type": "stream",
     "text": [
      "answer a: None\n",
      "submitting for part a\n"
     ]
    },
    {
     "name": "stdout",
     "output_type": "stream",
     "text": [
      "\u001b[32mThat's the right answer!  You are one gold star closer to finding the Chief Historian. [Continue to Part Two]\u001b[0m\n"
     ]
    },
    {
     "data": {
      "text/plain": [
       "<urllib3.response.HTTPResponse at 0x73da9e3598d0>"
      ]
     },
     "execution_count": 14,
     "metadata": {},
     "output_type": "execute_result"
    },
    {
     "name": "stderr",
     "output_type": "stream",
     "text": [
      "Gtk-Message: 16:14:01.043: Not loading module \"atk-bridge\": The functionality is provided by GTK natively. Please try to not load it.\n"
     ]
    }
   ],
   "source": [
    "aocd.submit(output.removesuffix(\",\"), day=17, year=2024)"
   ]
  },
  {
   "cell_type": "code",
   "execution_count": 19,
   "metadata": {},
   "outputs": [
    {
     "data": {
      "text/plain": [
       "'Register A: 2024\\nRegister B: 0\\nRegister C: 0\\n\\nProgram: 0,3,5,4,3,0'"
      ]
     },
     "execution_count": 19,
     "metadata": {},
     "output_type": "execute_result"
    }
   ],
   "source": [
    "text = \"\"\"Register A: 2024\n",
    "Register B: 0\n",
    "Register C: 0\n",
    "\n",
    "Program: 0,3,5,4,3,0\"\"\"\n",
    "lines = text.splitlines()\n",
    "\n",
    "text"
   ]
  },
  {
   "cell_type": "code",
   "execution_count": 3,
   "metadata": {},
   "outputs": [
    {
     "name": "stdout",
     "output_type": "stream",
     "text": [
      "[32916674, 0, 0] 2,4,1,1,7,5,0,3,1,4,4,0,5,5,3,0\n"
     ]
    },
    {
     "name": "stderr",
     "output_type": "stream",
     "text": [
      "100%|██████████| 100000/100000 [00:00<00:00, 118871.65it/s]\n"
     ]
    }
   ],
   "source": [
    "from tqdm import trange\n",
    "\n",
    "reg, program = text.split(\"\\n\\n\")\n",
    "\n",
    "reg = [int(r.split(\": \")[1]) for r in reg.splitlines()]\n",
    "\n",
    "program_text = program.strip().split(\": \")[1]\n",
    "program = list(map(int, program_text.strip().split(\",\")))\n",
    "\n",
    "print(reg, program_text)\n",
    "\n",
    "\n",
    "inst = 0\n",
    "\n",
    "def eval(a, verbose=False):\n",
    "    global combo\n",
    "    global output\n",
    "    global inst\n",
    "\n",
    "\n",
    "    combo = [0,1,2,3] + reg \n",
    "    combo[4] = a\n",
    "\n",
    "\n",
    "    output = \"\"\n",
    "    inst = 0\n",
    "\n",
    "    def adv(i):\n",
    "        combo[4] = int(combo[4]/(2**combo[i]))\n",
    "\n",
    "    def bxl(i):\n",
    "        combo[5] = combo[5] ^ i\n",
    "\n",
    "    def bst(i):\n",
    "        combo[5] = combo[i] % 8\n",
    "\n",
    "    def jnz(i):\n",
    "        if combo[4] == 0:\n",
    "            return\n",
    "        global inst\n",
    "        inst = i\n",
    "\n",
    "    def bxc(_):\n",
    "        combo[5] = combo[5] ^ combo[6]\n",
    "\n",
    "    def out(i):\n",
    "        o = combo[i] % 8\n",
    "        global output\n",
    "        output += f\"{o},\"\n",
    "\n",
    "    def bdv(i):\n",
    "        combo[5] = int(combo[4]/(2**combo[i]))\n",
    "\n",
    "    def cdv(i):\n",
    "        combo[6] = int(combo[4]/(2**combo[i]))\n",
    "\n",
    "    instructions = [\n",
    "        adv, bxl, bst, jnz, bxc, out, bdv, cdv\n",
    "    ]\n",
    "\n",
    "    while inst < len(program):\n",
    "        opcode, operand = program[inst], program[inst+1]\n",
    "        inst += 2\n",
    "        instructions[opcode](operand)\n",
    "        if verbose:\n",
    "            print(opcode, operand, combo[4:7])\n",
    "        \n",
    "    return output.removesuffix(\",\")\n",
    "\n",
    "\n",
    "for a in trange(100000):\n",
    "    if eval(a) == program_text:\n",
    "        print(a)\n",
    "        break"
   ]
  },
  {
   "cell_type": "markdown",
   "metadata": {},
   "source": [
    "Programm : 2,4,1,1,7,5,0,3,1,4,4,0,5,5,3,0\n",
    "\n",
    "how to find invariants\n",
    "\n",
    "Case 535082\n",
    "\n",
    "A = 535082\n",
    "\n",
    "(2,4) bst(4): B = A % 8 = 2\n",
    "(1,1) B = bxl(1) =  2 ^ 1 =  3\n",
    "(7,5) C = cdv(5) = 535082 // 2**B = 66885\n",
    "(0,3) A = adv(3) = 66885\n",
    "(1,4) B = bxl(4) = 3 ^ 4 = 7\n",
    "(4,0) B = B ^ C = 7 ^ 66885 = 66882\n",
    "(5,5) out(5) = out(B % 8) = out(33447) \n",
    "(3,0) jnz(0) (restart)\n",
    "\n",
    "while A > 0:\n",
    "    B = (A%8) BITWISE XOR 1\n",
    "    C = A // (2**B)\n",
    "    A = A // 8\n",
    "    B = (B BITWISE XOR 4) BITWISE XOR C\n",
    "    print(B%8)\n",
    "\n",
    "\n",
    "\n",
    "A = X, B = 0, C = 0\n",
    "\n",
    "opcode = 2 (bst)\n",
    "operand = 4\n",
    "\n",
    "\n",
    "\n",
    "\n"
   ]
  },
  {
   "cell_type": "code",
   "execution_count": 224,
   "metadata": {},
   "outputs": [
    {
     "name": "stdout",
     "output_type": "stream",
     "text": [
      "0 0b0 : 5\n",
      "1 0b1 : 5\n",
      "2 0b10 : 7\n",
      "3 0b11 : 6\n",
      "4 0b100 : 1\n",
      "5 0b101 : 0\n",
      "6 0b110 : 3\n",
      "7 0b111 : 2\n",
      "8 0b1000 : 1,5\n",
      "9 0b1001 : 5,5\n",
      "10 0b1010 : 6,5\n",
      "11 0b1011 : 4,5\n",
      "12 0b1100 : 1,5\n",
      "13 0b1101 : 0,5\n",
      "14 0b1110 : 3,5\n",
      "15 0b1111 : 2,5\n",
      "16 0b10000 : 5,7\n",
      "17 0b10001 : 5,7\n",
      "18 0b10010 : 5,7\n",
      "19 0b10011 : 2,7\n",
      "20 0b10100 : 1,7\n",
      "21 0b10101 : 1,7\n",
      "22 0b10110 : 3,7\n",
      "23 0b10111 : 2,7\n",
      "24 0b11000 : 1,6\n",
      "25 0b11001 : 5,6\n",
      "26 0b11010 : 4,6\n",
      "27 0b11011 : 0,6\n",
      "28 0b11100 : 1,6\n",
      "29 0b11101 : 1,6\n",
      "30 0b11110 : 3,6\n",
      "31 0b11111 : 2,6\n",
      "32 0b100000 : 5,1\n",
      "33 0b100001 : 5,1\n",
      "34 0b100010 : 3,1\n",
      "35 0b100011 : 6,1\n",
      "36 0b100100 : 0,1\n",
      "37 0b100101 : 2,1\n",
      "38 0b100110 : 3,1\n",
      "39 0b100111 : 2,1\n",
      "40 0b101000 : 1,0\n",
      "41 0b101001 : 5,0\n",
      "42 0b101010 : 2,0\n",
      "43 0b101011 : 4,0\n",
      "44 0b101100 : 0,0\n",
      "45 0b101101 : 2,0\n",
      "46 0b101110 : 3,0\n",
      "47 0b101111 : 2,0\n",
      "48 0b110000 : 5,3\n",
      "49 0b110001 : 5,3\n",
      "50 0b110010 : 1,3\n",
      "51 0b110011 : 2,3\n",
      "52 0b110100 : 0,3\n",
      "53 0b110101 : 3,3\n",
      "54 0b110110 : 3,3\n",
      "55 0b110111 : 2,3\n",
      "56 0b111000 : 1,2\n",
      "57 0b111001 : 5,2\n",
      "58 0b111010 : 0,2\n",
      "59 0b111011 : 0,2\n",
      "60 0b111100 : 0,2\n",
      "61 0b111101 : 3,2\n",
      "62 0b111110 : 3,2\n",
      "63 0b111111 : 2,2\n"
     ]
    }
   ],
   "source": [
    "for i in range(64):\n",
    "    e = eval(i)\n",
    "    print(i, bin(i), \":\", e)\n"
   ]
  },
  {
   "cell_type": "code",
   "execution_count": 202,
   "metadata": {},
   "outputs": [
    {
     "name": "stdout",
     "output_type": "stream",
     "text": [
      "346 4,4,0\n"
     ]
    }
   ],
   "source": [
    "for i in range(8*8*8):\n",
    "    e = eval(i)\n",
    "    if e.endswith(\"4,4,0\"):\n",
    "        print(i, e)"
   ]
  },
  {
   "cell_type": "code",
   "execution_count": 211,
   "metadata": {},
   "outputs": [
    {
     "data": {
      "text/plain": [
       "'7,5,5,4,4,0,5,5,3,0'"
      ]
     },
     "execution_count": 211,
     "metadata": {},
     "output_type": "execute_result"
    }
   ],
   "source": [
    "c = ((((5*8+6)*8)*8)*8**3+346)\n",
    "c *= 8**3\n",
    "c += 2\n",
    "\n",
    "eval(c)"
   ]
  },
  {
   "cell_type": "code",
   "execution_count": 158,
   "metadata": {},
   "outputs": [],
   "source": [
    "Programm = 2,4,1,1,7,5,0,3,1,4,4,0,5,5,3,0"
   ]
  },
  {
   "cell_type": "code",
   "execution_count": 258,
   "metadata": {},
   "outputs": [
    {
     "data": {
      "text/plain": [
       "'0,1,4,4,0,5,5,3,0'"
      ]
     },
     "execution_count": 258,
     "metadata": {},
     "output_type": "execute_result"
    }
   ],
   "source": [
    "eval(int(\"101110000001101\" + \"011\" + \"010\" + \"111\" + \"010\", 2))"
   ]
  },
  {
   "cell_type": "code",
   "execution_count": 10,
   "metadata": {},
   "outputs": [
    {
     "data": {
      "text/plain": [
       "'2,4,1,1,7,5,0,3,1,4,4,0,5,5,3,0'"
      ]
     },
     "execution_count": 10,
     "metadata": {},
     "output_type": "execute_result"
    }
   ],
   "source": [
    "program_text"
   ]
  },
  {
   "cell_type": "code",
   "execution_count": 43,
   "metadata": {},
   "outputs": [
    {
     "name": "stdout",
     "output_type": "stream",
     "text": [
      "2,4,1,1,7,5,0,3,1,4,4,0,5,5,3,0 0 \n",
      "['101']\n",
      "2,4,1,1,7,5,0,3,1,4,4,0,5,5,3,0 3,0 101\n",
      "['110']\n",
      "2,4,1,1,7,5,0,3,1,4,4,0,5,5,3,0 5,3,0 101110\n",
      "2,4,1,1,7,5,0,3,1,4,4,0,5,5,3,0 5,3,0 101110\n",
      "['000', '001']\n",
      "2,4,1,1,7,5,0,3,1,4,4,0,5,5,3,0 5,5,3,0 101110000\n",
      "2,4,1,1,7,5,0,3,1,4,4,0,5,5,3,0 5,5,3,0 101110000\n",
      "2,4,1,1,7,5,0,3,1,4,4,0,5,5,3,0 5,5,3,0 101110000\n",
      "['000', '001', '100']\n",
      "2,4,1,1,7,5,0,3,1,4,4,0,5,5,3,0 0,5,5,3,0 101110000000\n",
      "['101']\n",
      "2,4,1,1,7,5,0,3,1,4,4,0,5,5,3,0 4,0,5,5,3,0 101110000000101\n",
      "['011']\n",
      "2,4,1,1,7,5,0,3,1,4,4,0,5,5,3,0 4,4,0,5,5,3,0 101110000000101011\n",
      "['010']\n",
      "2,4,1,1,7,5,0,3,1,4,4,0,5,5,3,0 1,4,4,0,5,5,3,0 101110000000101011010\n",
      "['111']\n",
      "2,4,1,1,7,5,0,3,1,4,4,0,5,5,3,0 3,1,4,4,0,5,5,3,0 101110000000101011010111\n",
      "['101']\n",
      "2,4,1,1,7,5,0,3,1,4,4,0,5,5,3,0 0,3,1,4,4,0,5,5,3,0 101110000000101011010111101\n",
      "['110']\n",
      "2,4,1,1,7,5,0,3,1,4,4,0,5,5,3,0 5,0,3,1,4,4,0,5,5,3,0 101110000000101011010111101110\n",
      "2,4,1,1,7,5,0,3,1,4,4,0,5,5,3,0 5,0,3,1,4,4,0,5,5,3,0 101110000000101011010111101110\n",
      "2,4,1,1,7,5,0,3,1,4,4,0,5,5,3,0 5,0,3,1,4,4,0,5,5,3,0 101110000000101011010111101110\n",
      "['000', '001', '110']\n",
      "2,4,1,1,7,5,0,3,1,4,4,0,5,5,3,0 7,5,0,3,1,4,4,0,5,5,3,0 101110000000101011010111101110000\n",
      "['010']\n",
      "2,4,1,1,7,5,0,3,1,4,4,0,5,5,3,0 1,7,5,0,3,1,4,4,0,5,5,3,0 101110000000101011010111101110000010\n",
      "2,4,1,1,7,5,0,3,1,4,4,0,5,5,3,0 1,7,5,0,3,1,4,4,0,5,5,3,0 101110000000101011010111101110000010\n",
      "['100', '101']\n",
      "[]\n"
     ]
    },
    {
     "ename": "IndexError",
     "evalue": "list index out of range",
     "output_type": "error",
     "traceback": [
      "\u001b[0;31m---------------------------------------------------------------------------\u001b[0m",
      "\u001b[0;31mIndexError\u001b[0m                                Traceback (most recent call last)",
      "Cell \u001b[0;32mIn[43], line 19\u001b[0m\n\u001b[1;32m     16\u001b[0m             \u001b[38;5;28mprint\u001b[39m(program_text, e, r)\n\u001b[1;32m     18\u001b[0m     \u001b[38;5;28mprint\u001b[39m(candidates)\n\u001b[0;32m---> 19\u001b[0m     r \u001b[38;5;241m+\u001b[39m\u001b[38;5;241m=\u001b[39m \u001b[43mcandidates\u001b[49m\u001b[43m[\u001b[49m\u001b[38;5;241;43m0\u001b[39;49m\u001b[43m]\u001b[49m\n\u001b[1;32m     22\u001b[0m \u001b[38;5;66;03m# print(\"Here\",)\u001b[39;00m\n\u001b[1;32m     23\u001b[0m \n\u001b[1;32m     24\u001b[0m \u001b[38;5;66;03m# for c in tqdm(c2s):\u001b[39;00m\n\u001b[0;32m   (...)\u001b[0m\n\u001b[1;32m     28\u001b[0m \u001b[38;5;66;03m#         print(program_text, e, r)\u001b[39;00m\n\u001b[1;32m     29\u001b[0m \u001b[38;5;66;03m#         break\u001b[39;00m\n",
      "\u001b[0;31mIndexError\u001b[0m: list index out of range"
     ]
    }
   ],
   "source": [
    "from tqdm import tqdm\n",
    "\n",
    "cs = [str(bin(i)).removeprefix(\"0b\").zfill(3) for i in range(8)]\n",
    "c2s = [str(bin(i)).removeprefix(\"0b\").zfill(15) for i in range(8*8*8*8*8)]\n",
    "\n",
    "\n",
    "r = \"\"\n",
    "\n",
    "k = 0\n",
    "for _ in range(len(program)*20):\n",
    "    candidates = []\n",
    "    for c in cs:\n",
    "        e = eval(int(r + c, 2))\n",
    "        if program_text.endswith(e):\n",
    "            candidates.append(c)\n",
    "            print(program_text, e, r)\n",
    "\n",
    "    print(candidates)\n",
    "    r += candidates[0]\n",
    "\n",
    "    \n",
    "# print(\"Here\",)\n",
    "\n",
    "# for c in tqdm(c2s):\n",
    "#     e = eval(int(r + c, 2))\n",
    "#     if program_text.endswith(e):\n",
    "#         r += c\n",
    "#         print(program_text, e, r)\n",
    "#         break\n",
    "\n"
   ]
  },
  {
   "cell_type": "code",
   "execution_count": 44,
   "metadata": {},
   "outputs": [],
   "source": [
    "init_r = r[:-3]"
   ]
  },
  {
   "cell_type": "code",
   "execution_count": 45,
   "metadata": {},
   "outputs": [
    {
     "name": "stdout",
     "output_type": "stream",
     "text": [
      "2,4,1,1,7,5,0,3,1,4,4,0,5,5,3,0 1,1,7,5,0,3,1,4,4,0,5,5,3,0 101110000000101011010111101110000010101\n",
      "['000']\n",
      "2,4,1,1,7,5,0,3,1,4,4,0,5,5,3,0 4,1,1,7,5,0,3,1,4,4,0,5,5,3,0 101110000000101011010111101110000010101000\n",
      "['101']\n",
      "2,4,1,1,7,5,0,3,1,4,4,0,5,5,3,0 2,4,1,1,7,5,0,3,1,4,4,0,5,5,3,0 101110000000101011010111101110000010101000101\n",
      "2,4,1,1,7,5,0,3,1,4,4,0,5,5,3,0 2,4,1,1,7,5,0,3,1,4,4,0,5,5,3,0 101110000000101011010111101110000010101000101\n",
      "2,4,1,1,7,5,0,3,1,4,4,0,5,5,3,0 2,4,1,1,7,5,0,3,1,4,4,0,5,5,3,0 101110000000101011010111101110000010101000101\n",
      "['010', '101', '111']\n"
     ]
    },
    {
     "ename": "IndexError",
     "evalue": "list index out of range",
     "output_type": "error",
     "traceback": [
      "\u001b[0;31m---------------------------------------------------------------------------\u001b[0m",
      "\u001b[0;31mIndexError\u001b[0m                                Traceback (most recent call last)",
      "Cell \u001b[0;32mIn[45], line 14\u001b[0m\n\u001b[1;32m     11\u001b[0m         candidates\u001b[38;5;241m.\u001b[39mappend(c)\n\u001b[1;32m     12\u001b[0m         \u001b[38;5;28mprint\u001b[39m(program_text, e, r)\n\u001b[0;32m---> 14\u001b[0m r \u001b[38;5;241m+\u001b[39m\u001b[38;5;241m=\u001b[39m \u001b[43mcandidates\u001b[49m\u001b[43m[\u001b[49m\u001b[38;5;241;43m0\u001b[39;49m\u001b[43m]\u001b[49m\n\u001b[1;32m     16\u001b[0m \u001b[38;5;28mprint\u001b[39m(candidates)\n",
      "\u001b[0;31mIndexError\u001b[0m: list index out of range"
     ]
    }
   ],
   "source": [
    "r = init_r + \"101\"\n",
    "\n",
    "\n",
    "\n",
    "k = 0\n",
    "for _ in range(5):\n",
    "    candidates = []\n",
    "    for c in cs:\n",
    "        e = eval(int(r + c, 2))\n",
    "        if program_text.endswith(e):\n",
    "            candidates.append(c)\n",
    "            print(program_text, e, r)\n",
    "\n",
    "    r += candidates[0]\n",
    "\n",
    "    print(candidates)"
   ]
  },
  {
   "cell_type": "code",
   "execution_count": 48,
   "metadata": {},
   "outputs": [
    {
     "name": "stdout",
     "output_type": "stream",
     "text": [
      "202356708354602\n"
     ]
    },
    {
     "data": {
      "text/plain": [
       "(None, True)"
      ]
     },
     "execution_count": 48,
     "metadata": {},
     "output_type": "execute_result"
    }
   ],
   "source": [
    "print(int(r, 2)), eval(int(r,2)) == program_text"
   ]
  },
  {
   "cell_type": "code",
   "execution_count": 49,
   "metadata": {},
   "outputs": [
    {
     "name": "stderr",
     "output_type": "stream",
     "text": [
      "answer a: 7,1,2,3,2,6,7,2,5\n",
      "submitting for part b (part a is already completed)\n"
     ]
    },
    {
     "name": "stdout",
     "output_type": "stream",
     "text": [
      "\u001b[32mThat's the right answer!  You are one gold star closer to finding the Chief Historian.You have completed Day 17! You can [Shareon\n",
      "  Bluesky\n",
      "Twitter\n",
      "Mastodon] this victory or [Return to Your Advent Calendar].\u001b[0m\n"
     ]
    },
    {
     "data": {
      "text/plain": [
       "<urllib3.response.HTTPResponse at 0x7250fa106260>"
      ]
     },
     "execution_count": 49,
     "metadata": {},
     "output_type": "execute_result"
    },
    {
     "name": "stderr",
     "output_type": "stream",
     "text": [
      "update.go:85: cannot change mount namespace according to change mount (/var/lib/snapd/hostfs/usr/local/share/doc /usr/local/share/doc none bind,ro 0 0): cannot open directory \"/usr/local/share\": permission denied\n",
      "update.go:85: cannot change mount namespace according to change mount (/var/lib/snapd/hostfs/usr/share/gimp/2.0/help /usr/share/gimp/2.0/help none bind,ro 0 0): cannot write to \"/var/lib/snapd/hostfs/usr/share/gimp/2.0/help\" because it would affect the host in \"/var/lib/snapd\"\n",
      "update.go:85: cannot change mount namespace according to change mount (/var/lib/snapd/hostfs/usr/share/gtk-doc /usr/share/gtk-doc none bind,ro 0 0): cannot write to \"/var/lib/snapd/hostfs/usr/share/gtk-doc\" because it would affect the host in \"/var/lib/snapd\"\n",
      "update.go:85: cannot change mount namespace according to change mount (/var/lib/snapd/hostfs/usr/share/libreoffice/help /usr/share/libreoffice/help none bind,ro 0 0): cannot write to \"/var/lib/snapd/hostfs/usr/share/libreoffice/help\" because it would affect the host in \"/var/lib/snapd\"\n",
      "update.go:85: cannot change mount namespace according to change mount (/var/lib/snapd/hostfs/usr/share/sphinx_rtd_theme /usr/share/sphinx_rtd_theme none bind,ro 0 0): cannot write to \"/var/lib/snapd/hostfs/usr/share/sphinx_rtd_theme\" because it would affect the host in \"/var/lib/snapd\"\n",
      "update.go:85: cannot change mount namespace according to change mount (/var/lib/snapd/hostfs/usr/share/xubuntu-docs /usr/share/xubuntu-docs none bind,ro 0 0): cannot write to \"/var/lib/snapd/hostfs/usr/share/xubuntu-docs\" because it would affect the host in \"/var/lib/snapd\"\n",
      "Gtk-Message: 18:19:51.897: Not loading module \"atk-bridge\": The functionality is provided by GTK natively. Please try to not load it.\n"
     ]
    }
   ],
   "source": [
    "aocd.submit(int(r, 2), day=17, year=2024)"
   ]
  },
  {
   "cell_type": "code",
   "execution_count": null,
   "metadata": {},
   "outputs": [],
   "source": []
  }
 ],
 "metadata": {
  "kernelspec": {
   "display_name": "aoc24-GOpwAQwM-py3.12",
   "language": "python",
   "name": "python3"
  },
  "language_info": {
   "codemirror_mode": {
    "name": "ipython",
    "version": 3
   },
   "file_extension": ".py",
   "mimetype": "text/x-python",
   "name": "python",
   "nbconvert_exporter": "python",
   "pygments_lexer": "ipython3",
   "version": "3.12.7"
  }
 },
 "nbformat": 4,
 "nbformat_minor": 2
}
