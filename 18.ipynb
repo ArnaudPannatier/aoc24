{
 "cells": [
  {
   "cell_type": "code",
   "execution_count": 45,
   "metadata": {},
   "outputs": [
    {
     "name": "stdout",
     "output_type": "stream",
     "text": [
      "[Example(input_data='5,4\\n4,2\\n4,5\\n3,0\\n2,1\\n6,3\\n2,4\\n1,5\\n0,6\\n3,3\\n2,6\\n5,1\\n1,2\\n5,5\\n2,5\\n6,5\\n1,4\\n0,4\\n6,4\\n1,1\\n6,1\\n1,0\\n0,5\\n1,6\\n2,0', answer_a='1024', answer_b='6,1', extra=None)]\n"
     ]
    },
    {
     "data": {
      "text/plain": [
       "[Example(input_data='5,4\\n4,2\\n4,5\\n3,0\\n2,1\\n6,3\\n2,4\\n1,5\\n0,6\\n3,3\\n2,6\\n5,1\\n1,2\\n5,5\\n2,5\\n6,5\\n1,4\\n0,4\\n6,4\\n1,1\\n6,1\\n1,0\\n0,5\\n1,6\\n2,0', answer_a='1024', answer_b='6,1', extra=None)]"
      ]
     },
     "execution_count": 45,
     "metadata": {},
     "output_type": "execute_result"
    }
   ],
   "source": [
    "import aocd\n",
    "import re\n",
    "from dotenv import load_dotenv\n",
    "import numpy as np\n",
    "from tqdm import tqdm\n",
    "import networkx as nx\n",
    "\n",
    "load_dotenv()\n",
    "\n",
    "puzzle = aocd.get_puzzle(day=18, year=2024)\n",
    "text = puzzle.input_data\n",
    "examples = puzzle.examples\n",
    "print(examples)\n",
    "\n",
    "lines = text.splitlines()\n",
    "\n",
    "example = examples[0].input_data.splitlines()\n",
    "\n",
    "examples"
   ]
  },
  {
   "cell_type": "code",
   "execution_count": 38,
   "metadata": {},
   "outputs": [
    {
     "data": {
      "text/plain": [
       "'5,4\\n4,2\\n4,5\\n3,0\\n2,1\\n6,3\\n2,4\\n1,5\\n0,6\\n3,3\\n2,6\\n5,1\\n1,2\\n5,5\\n2,5\\n6,5\\n1,4\\n0,4\\n6,4\\n1,1\\n6,1\\n1,0\\n0,5\\n1,6\\n2,0'"
      ]
     },
     "execution_count": 38,
     "metadata": {},
     "output_type": "execute_result"
    }
   ],
   "source": [
    "text = examples[0].input_data\n",
    "lines = text.splitlines()\n",
    "\n",
    "text"
   ]
  },
  {
   "cell_type": "code",
   "execution_count": 17,
   "metadata": {},
   "outputs": [],
   "source": [
    "arr = np.zeros((71,71)).astype(int)\n",
    "\n",
    "pos = np.array([list(map(int, x.split(\",\"))) for x in lines])\n",
    "\n",
    "arr[pos[:1024, 0], pos[:1024, 1]] = 1\n",
    "\n",
    "g = nx.Graph()\n",
    "\n",
    "for i in range(71):\n",
    "    for j in range(71):\n",
    "        if arr[i,j] == 0:\n",
    "            g.add_node((i,j))\n",
    "\n",
    "            for x,y in [(0,1), (0, -1), (1, 0), (-1, 0)]:\n",
    "                if 0 <= i+x < 71 and 0 <= j+y < 71:\n",
    "                    if arr[i+x, j+y] == 0:\n",
    "                        g.add_edge((i,j), (i+x, j+y))\n",
    "\n",
    "\n",
    "L = nx.shortest_path_length(g, (0,0), (70,70))        "
   ]
  },
  {
   "cell_type": "code",
   "execution_count": 18,
   "metadata": {},
   "outputs": [
    {
     "name": "stderr",
     "output_type": "stream",
     "text": [
      "answer a: None\n",
      "submitting for part a\n"
     ]
    },
    {
     "name": "stdout",
     "output_type": "stream",
     "text": [
      "\u001b[32mThat's the right answer!  You are one gold star closer to finding the Chief Historian. [Continue to Part Two]\u001b[0m\n"
     ]
    },
    {
     "data": {
      "text/plain": [
       "<urllib3.response.HTTPResponse at 0x788ba8f6a320>"
      ]
     },
     "execution_count": 18,
     "metadata": {},
     "output_type": "execute_result"
    },
    {
     "name": "stderr",
     "output_type": "stream",
     "text": [
      "update.go:85: cannot change mount namespace according to change mount (/var/lib/snapd/hostfs/usr/local/share/doc /usr/local/share/doc none bind,ro 0 0): cannot open directory \"/usr/local/share\": permission denied\n",
      "update.go:85: cannot change mount namespace according to change mount (/var/lib/snapd/hostfs/usr/share/gimp/2.0/help /usr/share/gimp/2.0/help none bind,ro 0 0): cannot write to \"/var/lib/snapd/hostfs/usr/share/gimp/2.0/help\" because it would affect the host in \"/var/lib/snapd\"\n",
      "update.go:85: cannot change mount namespace according to change mount (/var/lib/snapd/hostfs/usr/share/gtk-doc /usr/share/gtk-doc none bind,ro 0 0): cannot write to \"/var/lib/snapd/hostfs/usr/share/gtk-doc\" because it would affect the host in \"/var/lib/snapd\"\n",
      "update.go:85: cannot change mount namespace according to change mount (/var/lib/snapd/hostfs/usr/share/libreoffice/help /usr/share/libreoffice/help none bind,ro 0 0): cannot write to \"/var/lib/snapd/hostfs/usr/share/libreoffice/help\" because it would affect the host in \"/var/lib/snapd\"\n",
      "update.go:85: cannot change mount namespace according to change mount (/var/lib/snapd/hostfs/usr/share/sphinx_rtd_theme /usr/share/sphinx_rtd_theme none bind,ro 0 0): cannot write to \"/var/lib/snapd/hostfs/usr/share/sphinx_rtd_theme\" because it would affect the host in \"/var/lib/snapd\"\n",
      "update.go:85: cannot change mount namespace according to change mount (/var/lib/snapd/hostfs/usr/share/xubuntu-docs /usr/share/xubuntu-docs none bind,ro 0 0): cannot write to \"/var/lib/snapd/hostfs/usr/share/xubuntu-docs\" because it would affect the host in \"/var/lib/snapd\"\n",
      "Gtk-Message: 07:55:51.380: Not loading module \"atk-bridge\": The functionality is provided by GTK natively. Please try to not load it.\n"
     ]
    }
   ],
   "source": [
    "aocd.submit(L, day=18, year=2024)"
   ]
  },
  {
   "cell_type": "code",
   "execution_count": 46,
   "metadata": {},
   "outputs": [
    {
     "name": "stdout",
     "output_type": "stream",
     "text": [
      "3450\n"
     ]
    }
   ],
   "source": [
    "from tqdm import trange\n",
    "\n",
    "\n",
    "\n",
    "pos = np.array([list(map(int, x.split(\",\"))) for x in lines])\n",
    "\n",
    "print(len(pos))\n",
    "\n",
    "N = 71\n",
    "# N = 7\n",
    "\n",
    "def short(S):\n",
    "    arr = np.zeros((N,N)).astype(int)\n",
    "    arr[pos[:S, 0], pos[:S, 1]] = 1\n",
    "\n",
    "    g = nx.Graph()\n",
    "\n",
    "    for i in range(N):\n",
    "        for j in range(N):\n",
    "            if arr[i,j] == 0:\n",
    "                g.add_node((i,j))\n",
    "\n",
    "                for x,y in [(0,1), (0, -1), (1, 0), (-1, 0)]:\n",
    "                    if 0 <= i+x < N and 0 <= j+y < N:\n",
    "                        if arr[i+x, j+y] == 0:\n",
    "                            g.add_edge((i,j), (i+x, j+y))\n",
    "\n",
    "\n",
    "    try:\n",
    "        return nx.shortest_path_length(g, (0,0), (N-1,N-1))\n",
    "    except nx.NetworkXNoPath:\n",
    "        return None \n",
    "\n"
   ]
  },
  {
   "cell_type": "code",
   "execution_count": 44,
   "metadata": {},
   "outputs": [
    {
     "name": "stderr",
     "output_type": "stream",
     "text": [
      " 84%|████████▍ | 21/25 [00:00<00:00, 1740.48it/s]"
     ]
    },
    {
     "name": "stdout",
     "output_type": "stream",
     "text": [
      "0 [5 4]\n",
      "1 [4 2]\n",
      "2 [4 5]\n",
      "3 [3 0]\n",
      "4 [2 1]\n",
      "5 [6 3]\n",
      "6 [2 4]\n",
      "7 [1 5]\n",
      "8 [0 6]\n",
      "9 [3 3]\n",
      "10 [2 6]\n",
      "11 [5 1]\n",
      "12 [1 2]\n",
      "13 [5 5]\n",
      "14 [2 5]\n",
      "15 [6 5]\n",
      "16 [1 4]\n",
      "17 [0 4]\n",
      "18 [6 4]\n",
      "19 [1 1]\n",
      "20 [6 1]\n",
      "21 [1 0]\n",
      "6,1\n"
     ]
    },
    {
     "name": "stderr",
     "output_type": "stream",
     "text": [
      "\n"
     ]
    }
   ],
   "source": [
    "for i in trange(0, len(pos)):\n",
    "    r = short(i)\n",
    "    print(i, pos[i])\n",
    "    if r is None:\n",
    "        print(\",\".join(map(str,pos[i-1].tolist())))\n",
    "        break\n",
    "\n",
    "    \n"
   ]
  },
  {
   "cell_type": "code",
   "execution_count": 47,
   "metadata": {},
   "outputs": [
    {
     "name": "stderr",
     "output_type": "stream",
     "text": [
      " 81%|████████▏ | 1977/2426 [00:25<00:05, 77.31it/s] "
     ]
    },
    {
     "name": "stdout",
     "output_type": "stream",
     "text": [
      "3001\n"
     ]
    },
    {
     "name": "stderr",
     "output_type": "stream",
     "text": [
      "\n"
     ]
    }
   ],
   "source": [
    "for i in trange(1024, len(pos)):\n",
    "    r = short(i)\n",
    "    if r is None:\n",
    "        print(i)\n",
    "        break\n"
   ]
  },
  {
   "cell_type": "code",
   "execution_count": 48,
   "metadata": {},
   "outputs": [
    {
     "data": {
      "text/plain": [
       "'52,5'"
      ]
     },
     "execution_count": 48,
     "metadata": {},
     "output_type": "execute_result"
    }
   ],
   "source": [
    "\",\".join(map(str,pos[i-1].tolist()))"
   ]
  },
  {
   "cell_type": "code",
   "execution_count": 34,
   "metadata": {},
   "outputs": [
    {
     "data": {
      "text/plain": [
       "(644, None)"
      ]
     },
     "execution_count": 34,
     "metadata": {},
     "output_type": "execute_result"
    }
   ],
   "source": [
    "short(3000), short(3001)"
   ]
  },
  {
   "cell_type": "code",
   "execution_count": null,
   "metadata": {},
   "outputs": [
    {
     "name": "stderr",
     "output_type": "stream",
     "text": [
      "answer a: 288\n",
      "submitting for part b (part a is already completed)\n"
     ]
    },
    {
     "name": "stdout",
     "output_type": "stream",
     "text": [
      "\u001b[32mThat's the right answer!  You are one gold star closer to finding the Chief Historian.You have completed Day 18! You can [Shareon\n",
      "  Bluesky\n",
      "Twitter\n",
      "Mastodon] this victory or [Return to Your Advent Calendar].\u001b[0m\n"
     ]
    },
    {
     "data": {
      "text/plain": [
       "<urllib3.response.HTTPResponse at 0x788ba8fedbd0>"
      ]
     },
     "execution_count": 49,
     "metadata": {},
     "output_type": "execute_result"
    },
    {
     "name": "stderr",
     "output_type": "stream",
     "text": [
      "Gtk-Message: 08:41:27.756: Not loading module \"atk-bridge\": The functionality is provided by GTK natively. Please try to not load it.\n",
      "libva info: VA-API version 1.20.0\n",
      "libva info: Trying to open /snap/firefox/5361/gnome-platform/usr/lib/x86_64-linux-gnu/dri/iHD_drv_video.so\n",
      "libva info: Found init function __vaDriverInit_1_20\n",
      "libva info: va_openDriver() returns 0\n"
     ]
    }
   ],
   "source": [
    "aocd.submit(\"52,5\", day=18, year=2024)"
   ]
  },
  {
   "cell_type": "code",
   "execution_count": null,
   "metadata": {},
   "outputs": [],
   "source": []
  }
 ],
 "metadata": {
  "kernelspec": {
   "display_name": "aoc24-GOpwAQwM-py3.12",
   "language": "python",
   "name": "python3"
  },
  "language_info": {
   "codemirror_mode": {
    "name": "ipython",
    "version": 3
   },
   "file_extension": ".py",
   "mimetype": "text/x-python",
   "name": "python",
   "nbconvert_exporter": "python",
   "pygments_lexer": "ipython3",
   "version": "3.12.7"
  }
 },
 "nbformat": 4,
 "nbformat_minor": 2
}
