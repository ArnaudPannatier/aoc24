{
 "cells": [
  {
   "cell_type": "code",
   "execution_count": 51,
   "metadata": {},
   "outputs": [
    {
     "name": "stdout",
     "output_type": "stream",
     "text": [
      "[Example(input_data='#####\\n.####\\n.####\\n.####\\n.#.#.\\n.#...\\n.....\\n\\n#####\\n##.##\\n.#.##\\n...##\\n...#.\\n...#.\\n.....\\n\\n.....\\n#....\\n#....\\n#...#\\n#.#.#\\n#.###\\n#####\\n\\n.....\\n.....\\n#.#..\\n###..\\n###.#\\n###.#\\n#####\\n\\n.....\\n.....\\n.....\\n#....\\n#.#..\\n#.#.#\\n#####', answer_a='3', answer_b=None, extra=None)]\n"
     ]
    },
    {
     "data": {
      "text/plain": [
       "[Example(input_data='#####\\n.####\\n.####\\n.####\\n.#.#.\\n.#...\\n.....\\n\\n#####\\n##.##\\n.#.##\\n...##\\n...#.\\n...#.\\n.....\\n\\n.....\\n#....\\n#....\\n#...#\\n#.#.#\\n#.###\\n#####\\n\\n.....\\n.....\\n#.#..\\n###..\\n###.#\\n###.#\\n#####\\n\\n.....\\n.....\\n.....\\n#....\\n#.#..\\n#.#.#\\n#####', answer_a='3', answer_b=None, extra=None)]"
      ]
     },
     "execution_count": 51,
     "metadata": {},
     "output_type": "execute_result"
    }
   ],
   "source": [
    "import aocd\n",
    "import re\n",
    "from dotenv import load_dotenv\n",
    "import numpy as np\n",
    "from tqdm import tqdm\n",
    "import networkx as nx\n",
    "\n",
    "load_dotenv()\n",
    "\n",
    "puzzle = aocd.get_puzzle(day=25, year=2024)\n",
    "text = puzzle.input_data\n",
    "examples = puzzle.examples\n",
    "print(examples)\n",
    "\n",
    "lines = text.splitlines()\n",
    "\n",
    "example = examples[0].input_data.splitlines()\n",
    "\n",
    "examples"
   ]
  },
  {
   "cell_type": "code",
   "execution_count": 2,
   "metadata": {},
   "outputs": [
    {
     "data": {
      "text/plain": [
       "'#####\\n.####\\n.####\\n.####\\n.#.#.\\n.#...\\n.....\\n\\n#####\\n##.##\\n.#.##\\n...##\\n...#.\\n...#.\\n.....\\n\\n.....\\n#....\\n#....\\n#...#\\n#.#.#\\n#.###\\n#####\\n\\n.....\\n.....\\n#.#..\\n###..\\n###.#\\n###.#\\n#####\\n\\n.....\\n.....\\n.....\\n#....\\n#.#..\\n#.#.#\\n#####'"
      ]
     },
     "execution_count": 2,
     "metadata": {},
     "output_type": "execute_result"
    }
   ],
   "source": [
    "text = examples[0].input_data\n",
    "lines = text.splitlines()\n",
    "\n",
    "text"
   ]
  },
  {
   "cell_type": "code",
   "execution_count": 53,
   "metadata": {},
   "outputs": [
    {
     "name": "stdout",
     "output_type": "stream",
     "text": [
      "[3 2 3 2 0]\n"
     ]
    }
   ],
   "source": [
    "keys_or_lock = text.split(\"\\n\\n\")\n",
    "\n",
    "f = lambda arr: np.array([list(x) for x in arr.splitlines()])\n",
    "\n",
    "keys_or_lock = list(map(f, keys_or_lock))\n",
    "\n",
    "locks = [x for x in keys_or_lock if (x[0] == \"#\").all()]\n",
    "keys = [x for x in keys_or_lock if (x[-1] == \"#\").all()]\n",
    "\n",
    "_, yy = np.meshgrid(range(locks[0].shape[1]), range(locks[0].shape[0]))\n",
    "\n",
    "print(((keys[0] == \".\") * yy).argmax(0))\n",
    "5 - ((keys[0] == \".\") * yy).argmax(0)\n",
    "\n",
    "lock_h = np.array([((x == \"#\") * yy).argmax(0) for x in locks])\n",
    "keys_h = np.array([((x == \".\") * yy).argmax(0) for x in keys])\n",
    "\n",
    "\n",
    "s = (lock_h[None, :] <= keys_h[:, None]).all(-1).sum()\n",
    "\n"
   ]
  },
  {
   "cell_type": "code",
   "execution_count": 54,
   "metadata": {},
   "outputs": [
    {
     "name": "stderr",
     "output_type": "stream",
     "text": [
      "answer a: None\n",
      "submitting for part a\n",
      "coerced int64 value np.int64(3057) for 2024/25 to '3057'\n"
     ]
    },
    {
     "name": "stdout",
     "output_type": "stream",
     "text": [
      "\u001b[32mThat's the right answer!  You are one gold star closer to finding the Chief Historian. [Continue to Part Two]\u001b[0m\n"
     ]
    },
    {
     "data": {
      "text/plain": [
       "<urllib3.response.HTTPResponse at 0x710dec1b30a0>"
      ]
     },
     "execution_count": 54,
     "metadata": {},
     "output_type": "execute_result"
    },
    {
     "name": "stderr",
     "output_type": "stream",
     "text": [
      "Gtk-Message: 07:59:31.281: Not loading module \"atk-bridge\": The functionality is provided by GTK natively. Please try to not load it.\n"
     ]
    }
   ],
   "source": [
    "aocd.submit(s, day=25, year=2024)"
   ]
  },
  {
   "cell_type": "code",
   "execution_count": null,
   "metadata": {},
   "outputs": [],
   "source": []
  }
 ],
 "metadata": {
  "kernelspec": {
   "display_name": "aoc24-GOpwAQwM-py3.12",
   "language": "python",
   "name": "python3"
  },
  "language_info": {
   "codemirror_mode": {
    "name": "ipython",
    "version": 3
   },
   "file_extension": ".py",
   "mimetype": "text/x-python",
   "name": "python",
   "nbconvert_exporter": "python",
   "pygments_lexer": "ipython3",
   "version": "3.12.7"
  }
 },
 "nbformat": 4,
 "nbformat_minor": 2
}
