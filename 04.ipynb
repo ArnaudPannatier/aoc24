{
 "cells": [
  {
   "cell_type": "code",
   "execution_count": 51,
   "metadata": {},
   "outputs": [],
   "source": [
    "import aocd\n",
    "import re\n",
    "from dotenv import load_dotenv\n",
    "import numpy as np\n",
    "\n",
    "load_dotenv()\n",
    "\n",
    "text = aocd.get_data(day=4, year=2024)\n",
    "lines = text.splitlines()\n",
    "\n",
    "example = \"\"\"MMMSXXMASM\n",
    "MSAMXMSMSA\n",
    "AMXSXMAAMM\n",
    "MSAMASMSMX\n",
    "XMASAMXAMM\n",
    "XXAMMXXAMA\n",
    "SMSMSASXSS\n",
    "SAXAMASAAA\n",
    "MAMMMXMMMM\n",
    "MXMXAXMASX\n",
    "\"\"\".splitlines()\n",
    "\n",
    "\n"
   ]
  },
  {
   "cell_type": "code",
   "execution_count": 48,
   "metadata": {},
   "outputs": [],
   "source": [
    "lines = example"
   ]
  },
  {
   "cell_type": "code",
   "execution_count": 23,
   "metadata": {},
   "outputs": [
    {
     "name": "stdout",
     "output_type": "stream",
     "text": [
      "2662\n"
     ]
    }
   ],
   "source": [
    "arr = np.array([[c for c in line] for line in lines])\n",
    "\n",
    "def iterrows(arr):\n",
    "    for i in range(arr.shape[0]):\n",
    "        yield arr[i]\n",
    "\n",
    "def itercols(arr):\n",
    "    for i in range(arr.shape[1]):\n",
    "        yield arr[:, i]\n",
    "\n",
    "def iterdiag(arr):\n",
    "    for i in range(-arr.shape[0], arr.shape[1]):\n",
    "        yield arr.diagonal(i)\n",
    "    for i in range(-arr.shape[1], arr.shape[0]):\n",
    "        yield np.flipud(arr).diagonal(i)\n",
    "\n",
    "def iterall(arr):\n",
    "    yield from iterrows(arr)\n",
    "    yield from itercols(arr)\n",
    "    yield from iterdiag(arr)\n",
    "\n",
    "\n",
    "s = 0\n",
    "for i in iterall(arr):\n",
    "    # print(\"\".join(i))\n",
    "    l1 = len(re.findall(\"XMAS\", \"\".join(i)))\n",
    "    l2 = len(re.findall(\"SAMX\", \"\".join(i)))\n",
    "    s += l1 + l2\n",
    "\n",
    "print(s)\n",
    "    \n",
    "\n",
    "\n",
    "\n",
    "\n"
   ]
  },
  {
   "cell_type": "code",
   "execution_count": 24,
   "metadata": {},
   "outputs": [
    {
     "name": "stderr",
     "output_type": "stream",
     "text": [
      "answer a: None\n",
      "submitting for part a\n"
     ]
    },
    {
     "name": "stdout",
     "output_type": "stream",
     "text": [
      "\u001b[32mThat's the right answer!  You are one gold star closer to finding the Chief Historian. [Continue to Part Two]\u001b[0m\n"
     ]
    },
    {
     "data": {
      "text/plain": [
       "<urllib3.response.HTTPResponse at 0x731ae8b6aa10>"
      ]
     },
     "execution_count": 24,
     "metadata": {},
     "output_type": "execute_result"
    },
    {
     "name": "stderr",
     "output_type": "stream",
     "text": [
      "Gtk-Message: 08:17:41.036: Not loading module \"atk-bridge\": The functionality is provided by GTK natively. Please try to not load it.\n"
     ]
    }
   ],
   "source": [
    "aocd.submit(s, day=4, year=2024)"
   ]
  },
  {
   "cell_type": "code",
   "execution_count": 25,
   "metadata": {},
   "outputs": [],
   "source": [
    "import torch"
   ]
  },
  {
   "cell_type": "code",
   "execution_count": null,
   "metadata": {},
   "outputs": [
    {
     "ename": "TypeError",
     "evalue": "can't convert np.ndarray of type numpy.str_. The only supported types are: float64, float32, float16, complex64, complex128, int64, int32, int16, int8, uint64, uint32, uint16, uint8, and bool.",
     "output_type": "error",
     "traceback": [
      "\u001b[0;31m---------------------------------------------------------------------------\u001b[0m",
      "\u001b[0;31mTypeError\u001b[0m                                 Traceback (most recent call last)",
      "Cell \u001b[0;32mIn[26], line 1\u001b[0m\n\u001b[0;32m----> 1\u001b[0m \u001b[43mtorch\u001b[49m\u001b[38;5;241;43m.\u001b[39;49m\u001b[43mtensor\u001b[49m\u001b[43m(\u001b[49m\u001b[43marr\u001b[49m\u001b[43m)\u001b[49m\n",
      "\u001b[0;31mTypeError\u001b[0m: can't convert np.ndarray of type numpy.str_. The only supported types are: float64, float32, float16, complex64, complex128, int64, int32, int16, int8, uint64, uint32, uint16, uint8, and bool."
     ]
    }
   ],
   "source": [
    "torch.tensor(arr)"
   ]
  },
  {
   "cell_type": "code",
   "execution_count": 52,
   "metadata": {},
   "outputs": [
    {
     "name": "stdout",
     "output_type": "stream",
     "text": [
      "[[77  0 77]\n",
      " [ 0 65  0]\n",
      " [83  0 83]]\n",
      "[[77  0 83]\n",
      " [ 0 65  0]\n",
      " [77  0 83]]\n",
      "[[83  0 77]\n",
      " [ 0 65  0]\n",
      " [83  0 77]]\n",
      "[[83  0 83]\n",
      " [ 0 65  0]\n",
      " [77  0 77]]\n",
      "tensor(452)\n",
      "tensor(490)\n",
      "tensor(521)\n",
      "tensor(571)\n",
      "2034\n"
     ]
    }
   ],
   "source": [
    "t = torch.tensor([[ord(c) for c in line] for line in lines])\n",
    "\n",
    "t = t[None, None, :, :] \n",
    "\n",
    "patches = t.unfold(2, 3, 1).unfold(3, 3, 1)\n",
    "\n",
    "patches = patches.contiguous().view(-1, 3, 3)\n",
    "\n",
    "patches[:, 0, 1] = 0\n",
    "patches[:, 1, 0] = 0\n",
    "patches[:, 1, 2] = 0\n",
    "patches[:, 2, 1] = 0\n",
    "\n",
    "\n",
    "patterns = []\n",
    "for x1 in [\"MAS\", \"SAM\"]:\n",
    "    for x2 in [\"MAS\", \"SAM\"]:\n",
    "        a = np.diag([ord(c) for c in x1]) + np.fliplr(np.diag([ord(c) for c in x2]))\n",
    "        a[1,1] = ord(\"A\")\n",
    "        print(a)\n",
    "        patterns.append(a)\n",
    "\n",
    "\n",
    "s = 0\n",
    "for p in patterns:\n",
    "    match = (patches == p).all(dim=(1,2)).bool()\n",
    "\n",
    "\n",
    "    print(match.sum())\n",
    "    s += match.sum()\n",
    "\n",
    "print(s.item())   \n",
    "\n",
    "\n",
    "\n",
    "\n"
   ]
  },
  {
   "cell_type": "code",
   "execution_count": 53,
   "metadata": {},
   "outputs": [
    {
     "name": "stderr",
     "output_type": "stream",
     "text": [
      "answer a: 2662\n",
      "submitting for part b (part a is already completed)\n"
     ]
    },
    {
     "name": "stdout",
     "output_type": "stream",
     "text": [
      "\u001b[32mThat's the right answer!  You are one gold star closer to finding the Chief Historian.You have completed Day 4! You can [Shareon\n",
      "  Bluesky\n",
      "Twitter\n",
      "Mastodon] this victory or [Return to Your Advent Calendar].\u001b[0m\n"
     ]
    },
    {
     "data": {
      "text/plain": [
       "<urllib3.response.HTTPResponse at 0x731ac4013610>"
      ]
     },
     "execution_count": 53,
     "metadata": {},
     "output_type": "execute_result"
    },
    {
     "name": "stderr",
     "output_type": "stream",
     "text": [
      "Gtk-Message: 08:30:54.552: Not loading module \"atk-bridge\": The functionality is provided by GTK natively. Please try to not load it.\n"
     ]
    }
   ],
   "source": [
    "aocd.submit(s.item(), day=4, year=2024)"
   ]
  },
  {
   "cell_type": "code",
   "execution_count": null,
   "metadata": {},
   "outputs": [],
   "source": []
  }
 ],
 "metadata": {
  "kernelspec": {
   "display_name": "aoc24-TyiyelMA-py3.12",
   "language": "python",
   "name": "python3"
  },
  "language_info": {
   "codemirror_mode": {
    "name": "ipython",
    "version": 3
   },
   "file_extension": ".py",
   "mimetype": "text/x-python",
   "name": "python",
   "nbconvert_exporter": "python",
   "pygments_lexer": "ipython3",
   "version": "3.12.7"
  }
 },
 "nbformat": 4,
 "nbformat_minor": 2
}
