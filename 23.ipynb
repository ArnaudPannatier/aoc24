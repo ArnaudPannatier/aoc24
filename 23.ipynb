{
 "cells": [
  {
   "cell_type": "code",
   "execution_count": 11,
   "metadata": {},
   "outputs": [
    {
     "name": "stdout",
     "output_type": "stream",
     "text": [
      "[Example(input_data='kh-tc\\nqp-kh\\nde-cg\\nka-co\\nyn-aq\\nqp-ub\\ncg-tb\\nvc-aq\\ntb-ka\\nwh-tc\\nyn-cg\\nkh-ub\\nta-co\\nde-co\\ntc-td\\ntb-wq\\nwh-td\\nta-ka\\ntd-qp\\naq-cg\\nwq-ub\\nub-vc\\nde-ta\\nwq-aq\\nwq-vc\\nwh-yn\\nka-de\\nkh-ta\\nco-tc\\nwh-qp\\ntb-vc\\ntd-yn', answer_a='t', answer_b=None, extra=None)]\n"
     ]
    },
    {
     "data": {
      "text/plain": [
       "[Example(input_data='kh-tc\\nqp-kh\\nde-cg\\nka-co\\nyn-aq\\nqp-ub\\ncg-tb\\nvc-aq\\ntb-ka\\nwh-tc\\nyn-cg\\nkh-ub\\nta-co\\nde-co\\ntc-td\\ntb-wq\\nwh-td\\nta-ka\\ntd-qp\\naq-cg\\nwq-ub\\nub-vc\\nde-ta\\nwq-aq\\nwq-vc\\nwh-yn\\nka-de\\nkh-ta\\nco-tc\\nwh-qp\\ntb-vc\\ntd-yn', answer_a='t', answer_b=None, extra=None)]"
      ]
     },
     "execution_count": 11,
     "metadata": {},
     "output_type": "execute_result"
    }
   ],
   "source": [
    "import aocd\n",
    "import re\n",
    "from dotenv import load_dotenv\n",
    "import numpy as np\n",
    "from tqdm import tqdm\n",
    "import networkx as nx\n",
    "\n",
    "load_dotenv()\n",
    "\n",
    "puzzle = aocd.get_puzzle(day=23, year=2024)\n",
    "text = puzzle.input_data\n",
    "examples = puzzle.examples\n",
    "print(examples)\n",
    "\n",
    "lines = text.splitlines()\n",
    "\n",
    "example = examples[0].input_data.splitlines()\n",
    "\n",
    "examples"
   ]
  },
  {
   "cell_type": "code",
   "execution_count": 2,
   "metadata": {},
   "outputs": [
    {
     "data": {
      "text/plain": [
       "'kh-tc\\nqp-kh\\nde-cg\\nka-co\\nyn-aq\\nqp-ub\\ncg-tb\\nvc-aq\\ntb-ka\\nwh-tc\\nyn-cg\\nkh-ub\\nta-co\\nde-co\\ntc-td\\ntb-wq\\nwh-td\\nta-ka\\ntd-qp\\naq-cg\\nwq-ub\\nub-vc\\nde-ta\\nwq-aq\\nwq-vc\\nwh-yn\\nka-de\\nkh-ta\\nco-tc\\nwh-qp\\ntb-vc\\ntd-yn'"
      ]
     },
     "execution_count": 2,
     "metadata": {},
     "output_type": "execute_result"
    }
   ],
   "source": [
    "text = examples[0].input_data\n",
    "lines = text.splitlines()\n",
    "\n",
    "\n",
    "\n",
    "\n",
    "text"
   ]
  },
  {
   "cell_type": "code",
   "execution_count": 13,
   "metadata": {},
   "outputs": [],
   "source": [
    "G = nx.Graph()\n",
    "\n",
    "for l in lines:\n",
    "    a,b = l.split(\"-\")\n",
    "    G.add_edge(a, b)\n",
    "\n",
    "\n"
   ]
  },
  {
   "cell_type": "code",
   "execution_count": null,
   "metadata": {},
   "outputs": [],
   "source": [
    "cycles = list(nx.simple_cycles(G, length_bound=3))\n",
    "\n",
    "s = 0\n",
    "for c in cycles:\n",
    "    if len(c) == 3 and any(p[0] == \"t\" for p in c):\n",
    "        print(c)\n",
    "        s += 1\n",
    "\n",
    "print(s)"
   ]
  },
  {
   "cell_type": "code",
   "execution_count": 14,
   "metadata": {},
   "outputs": [],
   "source": [
    "cliques = list(nx.find_cliques(G))\n",
    "largest_clique = max(cliques, key=len)\n",
    "\n"
   ]
  },
  {
   "cell_type": "code",
   "execution_count": 15,
   "metadata": {},
   "outputs": [
    {
     "data": {
      "text/plain": [
       "'cc,dz,ea,hj,if,it,kf,qo,sk,ug,ut,uv,wh'"
      ]
     },
     "execution_count": 15,
     "metadata": {},
     "output_type": "execute_result"
    }
   ],
   "source": [
    "\",\".join(sorted(largest_clique))"
   ]
  },
  {
   "cell_type": "code",
   "execution_count": 16,
   "metadata": {},
   "outputs": [
    {
     "name": "stderr",
     "output_type": "stream",
     "text": [
      "answer a: 1485\n",
      "submitting for part b (part a is already completed)\n"
     ]
    },
    {
     "name": "stdout",
     "output_type": "stream",
     "text": [
      "\u001b[32mThat's the right answer!  You are one gold star closer to finding the Chief Historian.You have completed Day 23! You can [Shareon\n",
      "  Bluesky\n",
      "Twitter\n",
      "Mastodon] this victory or [Return to Your Advent Calendar].\u001b[0m\n"
     ]
    },
    {
     "data": {
      "text/plain": [
       "<urllib3.response.HTTPResponse at 0x7836592f85b0>"
      ]
     },
     "execution_count": 16,
     "metadata": {},
     "output_type": "execute_result"
    },
    {
     "name": "stderr",
     "output_type": "stream",
     "text": [
      "Gtk-Message: 13:22:38.248: Not loading module \"atk-bridge\": The functionality is provided by GTK natively. Please try to not load it.\n"
     ]
    }
   ],
   "source": [
    "aocd.submit(\",\".join(sorted(largest_clique)), day=23, year=2024)"
   ]
  },
  {
   "cell_type": "code",
   "execution_count": null,
   "metadata": {},
   "outputs": [],
   "source": []
  }
 ],
 "metadata": {
  "kernelspec": {
   "display_name": "aoc24-GOpwAQwM-py3.12",
   "language": "python",
   "name": "python3"
  },
  "language_info": {
   "codemirror_mode": {
    "name": "ipython",
    "version": 3
   },
   "file_extension": ".py",
   "mimetype": "text/x-python",
   "name": "python",
   "nbconvert_exporter": "python",
   "pygments_lexer": "ipython3",
   "version": "3.12.7"
  }
 },
 "nbformat": 4,
 "nbformat_minor": 2
}
