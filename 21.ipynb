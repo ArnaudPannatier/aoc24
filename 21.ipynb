{
 "cells": [
  {
   "cell_type": "code",
   "execution_count": 1,
   "metadata": {},
   "outputs": [
    {
     "name": "stdout",
     "output_type": "stream",
     "text": [
      "[Example(input_data='+---+---+---+\\n| 7 | 8 | 9 |\\n+---+---+---+\\n| 4 | 5 | 6 |\\n+---+---+---+\\n| 1 | 2 | 3 |\\n+---+---+---+\\n    | 0 | A |\\n    +---+---+', answer_a='126384', answer_b=None, extra=None)]\n"
     ]
    },
    {
     "data": {
      "text/plain": [
       "[Example(input_data='+---+---+---+\\n| 7 | 8 | 9 |\\n+---+---+---+\\n| 4 | 5 | 6 |\\n+---+---+---+\\n| 1 | 2 | 3 |\\n+---+---+---+\\n    | 0 | A |\\n    +---+---+', answer_a='126384', answer_b=None, extra=None)]"
      ]
     },
     "execution_count": 1,
     "metadata": {},
     "output_type": "execute_result"
    }
   ],
   "source": [
    "import aocd\n",
    "import re\n",
    "from dotenv import load_dotenv\n",
    "import numpy as np\n",
    "from tqdm import tqdm\n",
    "import networkx as nx\n",
    "\n",
    "load_dotenv()\n",
    "\n",
    "puzzle = aocd.get_puzzle(day=21, year=2024)\n",
    "text = puzzle.input_data\n",
    "examples = puzzle.examples\n",
    "print(examples)\n",
    "\n",
    "lines = text.splitlines()\n",
    "\n",
    "example = examples[0].input_data.splitlines()\n",
    "\n",
    "examples"
   ]
  },
  {
   "cell_type": "code",
   "execution_count": 5,
   "metadata": {},
   "outputs": [
    {
     "data": {
      "text/plain": [
       "'029A\\n980A\\n179A\\n456A\\n379A\\n'"
      ]
     },
     "execution_count": 5,
     "metadata": {},
     "output_type": "execute_result"
    }
   ],
   "source": [
    "text = \"\"\"029A\n",
    "980A\n",
    "179A\n",
    "456A\n",
    "379A\n",
    "\"\"\"\n",
    "lines = text.splitlines()\n",
    "\n",
    "text"
   ]
  },
  {
   "cell_type": "code",
   "execution_count": 6,
   "metadata": {},
   "outputs": [
    {
     "name": "stdout",
     "output_type": "stream",
     "text": [
      "^ 2 KeysView(AtlasView({'A': {'val': '>'}, 'v': {'val': 'v'}}))\n",
      "v 3 KeysView(AtlasView({'>': {'val': '>'}, '^': {'val': '^'}, '<': {'val': '<'}}))\n",
      "< 1 KeysView(AtlasView({'v': {'val': '>'}}))\n",
      "> 2 KeysView(AtlasView({'A': {'val': '^'}, 'v': {'val': '<'}}))\n",
      "A 2 KeysView(AtlasView({'^': {'val': '<'}, '>': {'val': 'v'}}))\n"
     ]
    },
    {
     "data": {
      "image/png": "[encoded data removed]",
      "text/plain": [
       "<Figure size 640x480 with 1 Axes>"
      ]
     },
     "metadata": {},
     "output_type": "display_data"
    }
   ],
   "source": [
    "k1 = nx.DiGraph()\n",
    "\n",
    "for i in list(range(10))+ [\"A\"]:\n",
    "    k1.add_node(i)\n",
    "\n",
    "k1.add_edge(\"A\", 0, val=\"<\")\n",
    "k1.add_edge(0, \"A\", val=\">\")\n",
    "k1.add_edge(\"A\", 3, val=\"^\")\n",
    "k1.add_edge(3, \"A\", val=\"v\")\n",
    "k1.add_edge(0,2, val=\"^\")\n",
    "k1.add_edge(2,0, val=\"v\")\n",
    "k1.add_edge(2,3, val=\">\")\n",
    "k1.add_edge(3,2, val=\"<\")\n",
    "k1.add_edge(2,1, val=\"<\")\n",
    "k1.add_edge(1,2, val=\">\")\n",
    "k1.add_edge(2,5, val=\"^\")\n",
    "k1.add_edge(5,2, val=\"v\")\n",
    "k1.add_edge(3,6, val=\"^\")\n",
    "k1.add_edge(6,3, val=\"v\")\n",
    "k1.add_edge(6,5, val=\"<\")\n",
    "k1.add_edge(5,6, val=\">\")\n",
    "k1.add_edge(5,4, val=\"<\")\n",
    "k1.add_edge(4,5, val=\">\")\n",
    "k1.add_edge(5,8, val=\"^\")\n",
    "k1.add_edge(8,5, val=\"v\")\n",
    "k1.add_edge(1,4, val=\"^\")\n",
    "k1.add_edge(4,1, val=\"v\")\n",
    "k1.add_edge(4,7, val=\"^\")\n",
    "k1.add_edge(7,4, val=\"v\")\n",
    "k1.add_edge(7,8, val=\">\")\n",
    "k1.add_edge(8,7, val=\"<\")\n",
    "k1.add_edge(8,9, val=\">\")\n",
    "k1.add_edge(9,8, val=\"<\")\n",
    "k1.add_edge(9,6, val=\"v\")\n",
    "k1.add_edge(6,9, val=\"^\")\n",
    "\n",
    "k2 = nx.DiGraph()\n",
    "k2.add_nodes_from([\"^\", \"v\", \"<\", \">\", \"A\"])\n",
    "k2.add_edge(\"A\", \"^\", val=\"<\")\n",
    "k2.add_edge(\"^\", \"A\", val=\">\")\n",
    "k2.add_edge(\"A\", \">\", val=\"v\")\n",
    "k2.add_edge(\">\", \"A\", val=\"^\")\n",
    "k2.add_edge(\">\", \"v\", val=\"<\")\n",
    "k2.add_edge(\"v\", \">\", val=\">\")\n",
    "k2.add_edge(\"v\", \"^\", val=\"^\")\n",
    "k2.add_edge(\"^\", \"v\", val=\"v\")\n",
    "k2.add_edge(\"v\", \"<\", val=\"<\")\n",
    "k2.add_edge(\"<\", \"v\", val=\">\")\n",
    "\n",
    "\n",
    "for n in k2.nodes:\n",
    "    print(n, len(k2[n].keys()), k2[n].keys())\n",
    "\n",
    "nx.draw(k2, with_labels=True)"
   ]
  },
  {
   "cell_type": "code",
   "execution_count": 7,
   "metadata": {},
   "outputs": [
    {
     "name": "stdout",
     "output_type": "stream",
     "text": [
      "29 68 1972\n",
      "980 60 58800\n",
      "179 68 12172\n",
      "456 64 29184\n",
      "379 64 24256\n",
      "126384\n"
     ]
    }
   ],
   "source": [
    "import re\n",
    "\n",
    "from itertools import tee, product\n",
    "def pairwise(it):\n",
    "    a, b = tee(it)\n",
    "    next(b, None)\n",
    "    return zip(a, b)\n",
    "\n",
    "def chain(a,b):\n",
    "    for aa, bb in zip(a,b):\n",
    "        yield aa\n",
    "        yield bb\n",
    "\n",
    "def f(s):\n",
    "    if s in \"A^v<>\":\n",
    "        return s\n",
    "    return int(s)\n",
    "\n",
    "def line2seqs(line, k):\n",
    "    line = \"A\" + line.removeprefix(\"A\")\n",
    "    ret = []\n",
    "    for a, b in pairwise(line):\n",
    "        buffs = []\n",
    "        paths = nx.all_shortest_paths(k, f(a), f(b))\n",
    "        for path in paths:            \n",
    "            buff = \"\"\n",
    "            for e in pairwise(path):\n",
    "                buff += k[e[0]][e[1]][\"val\"]\n",
    "            buffs.append(buff)\n",
    "        ret.append(buffs)   \n",
    "\n",
    "    res = []\n",
    "    for t in product(*ret):\n",
    "        res.append(\"A\".join(t)+\"A\")\n",
    "\n",
    "    return res\n",
    "\n",
    "def four_levels(line):\n",
    "    l1s = line2seqs(line, k1)\n",
    "    \n",
    "    l2s = []\n",
    "    for l1 in l1s:\n",
    "        l2s += line2seqs(l1, k2)\n",
    "\n",
    "    l3 = []\n",
    "    for l2 in l2s:\n",
    "        l3 += line2seqs(l2, k2)\n",
    "    return min([len(l) for l in l3])\n",
    "    \n",
    "\n",
    "s = 0\n",
    "for line in lines:\n",
    "    # print(line, four_levels(line))\n",
    "    numeric = int(re.sub(r\"[A-Z]\", \"\", line))\n",
    "    length = four_levels(line)\n",
    "    c = numeric * length\n",
    "    s += c\n",
    "    print(numeric, length, c)\n",
    "\n",
    "print(s)"
   ]
  },
  {
   "cell_type": "code",
   "execution_count": 32,
   "metadata": {},
   "outputs": [
    {
     "data": {
      "text/plain": [
       "[(0,\n",
       "  {0: [[0]],\n",
       "   1: [[0, 2, 1]],\n",
       "   2: [[0, 2]],\n",
       "   3: [[0, 'A', 3], [0, 2, 3]],\n",
       "   4: [[0, 2, 1, 4], [0, 2, 5, 4]],\n",
       "   5: [[0, 2, 5]],\n",
       "   6: [[0, 'A', 3, 6], [0, 2, 3, 6], [0, 2, 5, 6]],\n",
       "   7: [[0, 2, 1, 4, 7], [0, 2, 5, 4, 7], [0, 2, 5, 8, 7]],\n",
       "   8: [[0, 2, 5, 8]],\n",
       "   9: [[0, 'A', 3, 6, 9], [0, 2, 3, 6, 9], [0, 2, 5, 6, 9], [0, 2, 5, 8, 9]],\n",
       "   'A': [[0, 'A']]}),\n",
       " (1,\n",
       "  {0: [[1, 2, 0]],\n",
       "   1: [[1]],\n",
       "   2: [[1, 2]],\n",
       "   3: [[1, 2, 3]],\n",
       "   4: [[1, 4]],\n",
       "   5: [[1, 2, 5], [1, 4, 5]],\n",
       "   6: [[1, 2, 3, 6], [1, 2, 5, 6], [1, 4, 5, 6]],\n",
       "   7: [[1, 4, 7]],\n",
       "   8: [[1, 2, 5, 8], [1, 4, 5, 8], [1, 4, 7, 8]],\n",
       "   9: [[1, 2, 3, 6, 9],\n",
       "    [1, 2, 5, 6, 9],\n",
       "    [1, 4, 5, 6, 9],\n",
       "    [1, 2, 5, 8, 9],\n",
       "    [1, 4, 5, 8, 9],\n",
       "    [1, 4, 7, 8, 9]],\n",
       "   'A': [[1, 2, 0, 'A'], [1, 2, 3, 'A']]}),\n",
       " (2,\n",
       "  {0: [[2, 0]],\n",
       "   1: [[2, 1]],\n",
       "   2: [[2]],\n",
       "   3: [[2, 3]],\n",
       "   4: [[2, 1, 4], [2, 5, 4]],\n",
       "   5: [[2, 5]],\n",
       "   6: [[2, 3, 6], [2, 5, 6]],\n",
       "   7: [[2, 1, 4, 7], [2, 5, 4, 7], [2, 5, 8, 7]],\n",
       "   8: [[2, 5, 8]],\n",
       "   9: [[2, 3, 6, 9], [2, 5, 6, 9], [2, 5, 8, 9]],\n",
       "   'A': [[2, 0, 'A'], [2, 3, 'A']]}),\n",
       " (3,\n",
       "  {0: [[3, 'A', 0], [3, 2, 0]],\n",
       "   1: [[3, 2, 1]],\n",
       "   2: [[3, 2]],\n",
       "   3: [[3]],\n",
       "   4: [[3, 2, 1, 4], [3, 2, 5, 4], [3, 6, 5, 4]],\n",
       "   5: [[3, 2, 5], [3, 6, 5]],\n",
       "   6: [[3, 6]],\n",
       "   7: [[3, 2, 1, 4, 7],\n",
       "    [3, 2, 5, 4, 7],\n",
       "    [3, 6, 5, 4, 7],\n",
       "    [3, 2, 5, 8, 7],\n",
       "    [3, 6, 5, 8, 7],\n",
       "    [3, 6, 9, 8, 7]],\n",
       "   8: [[3, 2, 5, 8], [3, 6, 5, 8], [3, 6, 9, 8]],\n",
       "   9: [[3, 6, 9]],\n",
       "   'A': [[3, 'A']]}),\n",
       " (4,\n",
       "  {0: [[4, 5, 2, 0], [4, 1, 2, 0]],\n",
       "   1: [[4, 1]],\n",
       "   2: [[4, 5, 2], [4, 1, 2]],\n",
       "   3: [[4, 5, 2, 3], [4, 1, 2, 3], [4, 5, 6, 3]],\n",
       "   4: [[4]],\n",
       "   5: [[4, 5]],\n",
       "   6: [[4, 5, 6]],\n",
       "   7: [[4, 7]],\n",
       "   8: [[4, 5, 8], [4, 7, 8]],\n",
       "   9: [[4, 5, 6, 9], [4, 5, 8, 9], [4, 7, 8, 9]],\n",
       "   'A': [[4, 5, 2, 0, 'A'],\n",
       "    [4, 1, 2, 0, 'A'],\n",
       "    [4, 5, 2, 3, 'A'],\n",
       "    [4, 1, 2, 3, 'A'],\n",
       "    [4, 5, 6, 3, 'A']]}),\n",
       " (5,\n",
       "  {0: [[5, 2, 0]],\n",
       "   1: [[5, 2, 1], [5, 4, 1]],\n",
       "   2: [[5, 2]],\n",
       "   3: [[5, 2, 3], [5, 6, 3]],\n",
       "   4: [[5, 4]],\n",
       "   5: [[5]],\n",
       "   6: [[5, 6]],\n",
       "   7: [[5, 4, 7], [5, 8, 7]],\n",
       "   8: [[5, 8]],\n",
       "   9: [[5, 6, 9], [5, 8, 9]],\n",
       "   'A': [[5, 2, 0, 'A'], [5, 2, 3, 'A'], [5, 6, 3, 'A']]}),\n",
       " (6,\n",
       "  {0: [[6, 3, 'A', 0], [6, 3, 2, 0], [6, 5, 2, 0]],\n",
       "   1: [[6, 3, 2, 1], [6, 5, 2, 1], [6, 5, 4, 1]],\n",
       "   2: [[6, 3, 2], [6, 5, 2]],\n",
       "   3: [[6, 3]],\n",
       "   4: [[6, 5, 4]],\n",
       "   5: [[6, 5]],\n",
       "   6: [[6]],\n",
       "   7: [[6, 5, 4, 7], [6, 5, 8, 7], [6, 9, 8, 7]],\n",
       "   8: [[6, 5, 8], [6, 9, 8]],\n",
       "   9: [[6, 9]],\n",
       "   'A': [[6, 3, 'A']]}),\n",
       " (7,\n",
       "  {0: [[7, 4, 5, 2, 0], [7, 8, 5, 2, 0], [7, 4, 1, 2, 0]],\n",
       "   1: [[7, 4, 1]],\n",
       "   2: [[7, 4, 5, 2], [7, 8, 5, 2], [7, 4, 1, 2]],\n",
       "   3: [[7, 4, 5, 2, 3],\n",
       "    [7, 8, 5, 2, 3],\n",
       "    [7, 4, 1, 2, 3],\n",
       "    [7, 4, 5, 6, 3],\n",
       "    [7, 8, 5, 6, 3],\n",
       "    [7, 8, 9, 6, 3]],\n",
       "   4: [[7, 4]],\n",
       "   5: [[7, 4, 5], [7, 8, 5]],\n",
       "   6: [[7, 4, 5, 6], [7, 8, 5, 6], [7, 8, 9, 6]],\n",
       "   7: [[7]],\n",
       "   8: [[7, 8]],\n",
       "   9: [[7, 8, 9]],\n",
       "   'A': [[7, 4, 5, 2, 0, 'A'],\n",
       "    [7, 8, 5, 2, 0, 'A'],\n",
       "    [7, 4, 1, 2, 0, 'A'],\n",
       "    [7, 4, 5, 2, 3, 'A'],\n",
       "    [7, 8, 5, 2, 3, 'A'],\n",
       "    [7, 4, 1, 2, 3, 'A'],\n",
       "    [7, 4, 5, 6, 3, 'A'],\n",
       "    [7, 8, 5, 6, 3, 'A'],\n",
       "    [7, 8, 9, 6, 3, 'A']]}),\n",
       " (8,\n",
       "  {0: [[8, 5, 2, 0]],\n",
       "   1: [[8, 5, 2, 1], [8, 5, 4, 1], [8, 7, 4, 1]],\n",
       "   2: [[8, 5, 2]],\n",
       "   3: [[8, 5, 2, 3], [8, 5, 6, 3], [8, 9, 6, 3]],\n",
       "   4: [[8, 5, 4], [8, 7, 4]],\n",
       "   5: [[8, 5]],\n",
       "   6: [[8, 5, 6], [8, 9, 6]],\n",
       "   7: [[8, 7]],\n",
       "   8: [[8]],\n",
       "   9: [[8, 9]],\n",
       "   'A': [[8, 5, 2, 0, 'A'],\n",
       "    [8, 5, 2, 3, 'A'],\n",
       "    [8, 5, 6, 3, 'A'],\n",
       "    [8, 9, 6, 3, 'A']]}),\n",
       " (9,\n",
       "  {0: [[9, 8, 5, 2, 0], [9, 6, 5, 2, 0], [9, 6, 3, 2, 0], [9, 6, 3, 'A', 0]],\n",
       "   1: [[9, 8, 5, 2, 1],\n",
       "    [9, 6, 5, 2, 1],\n",
       "    [9, 6, 3, 2, 1],\n",
       "    [9, 8, 5, 4, 1],\n",
       "    [9, 6, 5, 4, 1],\n",
       "    [9, 8, 7, 4, 1]],\n",
       "   2: [[9, 8, 5, 2], [9, 6, 5, 2], [9, 6, 3, 2]],\n",
       "   3: [[9, 6, 3]],\n",
       "   4: [[9, 8, 5, 4], [9, 6, 5, 4], [9, 8, 7, 4]],\n",
       "   5: [[9, 8, 5], [9, 6, 5]],\n",
       "   6: [[9, 6]],\n",
       "   7: [[9, 8, 7]],\n",
       "   8: [[9, 8]],\n",
       "   9: [[9]],\n",
       "   'A': [[9, 6, 3, 'A']]}),\n",
       " ('A',\n",
       "  {0: [['A', 0]],\n",
       "   1: [['A', 0, 2, 1], ['A', 3, 2, 1]],\n",
       "   2: [['A', 0, 2], ['A', 3, 2]],\n",
       "   3: [['A', 3]],\n",
       "   4: [['A', 0, 2, 1, 4],\n",
       "    ['A', 3, 2, 1, 4],\n",
       "    ['A', 0, 2, 5, 4],\n",
       "    ['A', 3, 2, 5, 4],\n",
       "    ['A', 3, 6, 5, 4]],\n",
       "   5: [['A', 0, 2, 5], ['A', 3, 2, 5], ['A', 3, 6, 5]],\n",
       "   6: [['A', 3, 6]],\n",
       "   7: [['A', 0, 2, 1, 4, 7],\n",
       "    ['A', 3, 2, 1, 4, 7],\n",
       "    ['A', 0, 2, 5, 4, 7],\n",
       "    ['A', 3, 2, 5, 4, 7],\n",
       "    ['A', 3, 6, 5, 4, 7],\n",
       "    ['A', 0, 2, 5, 8, 7],\n",
       "    ['A', 3, 2, 5, 8, 7],\n",
       "    ['A', 3, 6, 5, 8, 7],\n",
       "    ['A', 3, 6, 9, 8, 7]],\n",
       "   8: [['A', 0, 2, 5, 8],\n",
       "    ['A', 3, 2, 5, 8],\n",
       "    ['A', 3, 6, 5, 8],\n",
       "    ['A', 3, 6, 9, 8]],\n",
       "   9: [['A', 3, 6, 9]],\n",
       "   'A': [['A']]})]"
      ]
     },
     "execution_count": 32,
     "metadata": {},
     "output_type": "execute_result"
    }
   ],
   "source": [
    "paths = list(nx.all_pairs_all_shortest_paths(k1))\n",
    "\n",
    "paths"
   ]
  },
  {
   "cell_type": "code",
   "execution_count": 22,
   "metadata": {},
   "outputs": [
    {
     "name": "stdout",
     "output_type": "stream",
     "text": [
      "<A^A>^^AvvvA 12\n",
      "<A^A^>^AvvvA 12\n",
      "<A^A^^>AvvvA 12\n"
     ]
    }
   ],
   "source": [
    "line = lines[0]\n",
    "\n",
    "line\n",
    "\n",
    "l1s = line2seqs(line, k1)\n",
    "\n",
    "l1s\n",
    "for l1 in l1s:\n",
    "    print(l1, len(l1))\n",
    "\n",
    "# l1 = l1s[2]\n",
    "# l1\n",
    "\n",
    "# l2s = line2seqs(l1, k2)\n",
    "\n",
    "# for l2 in l2s:\n",
    "#     print(l2, len(l2))"
   ]
  },
  {
   "cell_type": "code",
   "execution_count": 26,
   "metadata": {},
   "outputs": [
    {
     "data": {
      "text/plain": [
       "([('vA^<AA', 6), ('vA<^AA', 6)],\n",
       " [('<A>vA^<A', 8), ('<A>vA<^A', 8), ('<Av>A^<A', 8), ('<Av>A<^A', 8)])"
      ]
     },
     "execution_count": 26,
     "metadata": {},
     "output_type": "execute_result"
    }
   ],
   "source": [
    "[(l, len(l)) for l in line2seqs(\">^^\", k2)], [(l, len(l)) for l in line2seqs(\"^>^\", k2)] "
   ]
  },
  {
   "cell_type": "code",
   "execution_count": 35,
   "metadata": {},
   "outputs": [
    {
     "name": "stderr",
     "output_type": "stream",
     "text": [
      "answer a: None\n",
      "submitting for part a\n"
     ]
    },
    {
     "name": "stdout",
     "output_type": "stream",
     "text": [
      "\u001b[32mThat's the right answer!  You are one gold star closer to finding the Chief Historian. [Continue to Part Two]\u001b[0m\n"
     ]
    },
    {
     "data": {
      "text/plain": [
       "<urllib3.response.HTTPResponse at 0x7ccf80b61de0>"
      ]
     },
     "execution_count": 35,
     "metadata": {},
     "output_type": "execute_result"
    },
    {
     "name": "stderr",
     "output_type": "stream",
     "text": [
      "Gtk-Message: 01:32:11.726: Not loading module \"atk-bridge\": The functionality is provided by GTK natively. Please try to not load it.\n"
     ]
    }
   ],
   "source": [
    "aocd.submit(s, day=21, year=2024)"
   ]
  },
  {
   "cell_type": "code",
   "execution_count": null,
   "metadata": {},
   "outputs": [],
   "source": [
    "\n",
    "\n",
    "paths = nx.all_simple_path(k2, \"A\", \">\")\n",
    "buffs = []\n",
    "for path in paths:            \n",
    "    buff = \"\"\n",
    "    for e in pairwise(path):\n",
    "        buff += k[e[0]][e[1]][\"val\"]\n",
    "    buffs.append(buff)\n"
   ]
  }
 ],
 "metadata": {
  "kernelspec": {
   "display_name": "aoc24-GOpwAQwM-py3.12",
   "language": "python",
   "name": "python3"
  },
  "language_info": {
   "codemirror_mode": {
    "name": "ipython",
    "version": 3
   },
   "file_extension": ".py",
   "mimetype": "text/x-python",
   "name": "python",
   "nbconvert_exporter": "python",
   "pygments_lexer": "ipython3",
   "version": "3.12.7"
  }
 },
 "nbformat": 4,
 "nbformat_minor": 2
}
