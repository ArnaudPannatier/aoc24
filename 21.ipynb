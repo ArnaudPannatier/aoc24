{
 "cells": [
  {
   "cell_type": "code",
   "execution_count": 2,
   "metadata": {},
   "outputs": [
    {
     "name": "stdout",
     "output_type": "stream",
     "text": [
      "286A\n",
      "974A\n",
      "189A\n",
      "802A\n",
      "805A\n"
     ]
    }
   ],
   "source": [
    "import aocd\n",
    "import re\n",
    "from dotenv import load_dotenv\n",
    "import numpy as np\n",
    "from tqdm import tqdm\n",
    "import networkx as nx\n",
    "\n",
    "load_dotenv()\n",
    "\n",
    "puzzle = aocd.get_puzzle(day=21, year=2024)\n",
    "text = puzzle.input_data\n",
    "examples = puzzle.examples\n",
    "\n",
    "lines = text.splitlines()\n",
    "\n",
    "example = examples[0].input_data.splitlines()\n",
    "\n",
    "print(text)"
   ]
  },
  {
   "cell_type": "code",
   "execution_count": 2,
   "metadata": {},
   "outputs": [
    {
     "data": {
      "text/plain": [
       "'029A\\n980A\\n179A\\n456A\\n379A\\n'"
      ]
     },
     "execution_count": 2,
     "metadata": {},
     "output_type": "execute_result"
    }
   ],
   "source": [
    "text = \"\"\"029A\n",
    "980A\n",
    "179A\n",
    "456A\n",
    "379A\n",
    "\"\"\"\n",
    "lines = text.splitlines()\n",
    "\n",
    "text"
   ]
  },
  {
   "cell_type": "code",
   "execution_count": 3,
   "metadata": {},
   "outputs": [
    {
     "name": "stdout",
     "output_type": "stream",
     "text": [
      "^ 2 KeysView(AtlasView({'A': {'val': '>'}, 'v': {'val': 'v'}}))\n",
      "v 3 KeysView(AtlasView({'>': {'val': '>'}, '^': {'val': '^'}, '<': {'val': '<'}}))\n",
      "< 1 KeysView(AtlasView({'v': {'val': '>'}}))\n",
      "> 2 KeysView(AtlasView({'A': {'val': '^'}, 'v': {'val': '<'}}))\n",
      "A 2 KeysView(AtlasView({'^': {'val': '<'}, '>': {'val': 'v'}}))\n"
     ]
    },
    {
     "data": {
      "image/png": "[encoded data removed]",
      "text/plain": [
       "<Figure size 640x480 with 1 Axes>"
      ]
     },
     "metadata": {},
     "output_type": "display_data"
    }
   ],
   "source": [
    "k1 = nx.DiGraph()\n",
    "\n",
    "for i in list(range(10))+ [\"A\"]:\n",
    "    k1.add_node(i)\n",
    "\n",
    "k1.add_edge(\"A\", 0, val=\"<\")\n",
    "k1.add_edge(0, \"A\", val=\">\")\n",
    "k1.add_edge(\"A\", 3, val=\"^\")\n",
    "k1.add_edge(3, \"A\", val=\"v\")\n",
    "k1.add_edge(0,2, val=\"^\")\n",
    "k1.add_edge(2,0, val=\"v\")\n",
    "k1.add_edge(2,3, val=\">\")\n",
    "k1.add_edge(3,2, val=\"<\")\n",
    "k1.add_edge(2,1, val=\"<\")\n",
    "k1.add_edge(1,2, val=\">\")\n",
    "k1.add_edge(2,5, val=\"^\")\n",
    "k1.add_edge(5,2, val=\"v\")\n",
    "k1.add_edge(3,6, val=\"^\")\n",
    "k1.add_edge(6,3, val=\"v\")\n",
    "k1.add_edge(6,5, val=\"<\")\n",
    "k1.add_edge(5,6, val=\">\")\n",
    "k1.add_edge(5,4, val=\"<\")\n",
    "k1.add_edge(4,5, val=\">\")\n",
    "k1.add_edge(5,8, val=\"^\")\n",
    "k1.add_edge(8,5, val=\"v\")\n",
    "k1.add_edge(1,4, val=\"^\")\n",
    "k1.add_edge(4,1, val=\"v\")\n",
    "k1.add_edge(4,7, val=\"^\")\n",
    "k1.add_edge(7,4, val=\"v\")\n",
    "k1.add_edge(7,8, val=\">\")\n",
    "k1.add_edge(8,7, val=\"<\")\n",
    "k1.add_edge(8,9, val=\">\")\n",
    "k1.add_edge(9,8, val=\"<\")\n",
    "k1.add_edge(9,6, val=\"v\")\n",
    "k1.add_edge(6,9, val=\"^\")\n",
    "\n",
    "k2 = nx.DiGraph()\n",
    "k2.add_nodes_from([\"^\", \"v\", \"<\", \">\", \"A\"])\n",
    "k2.add_edge(\"A\", \"^\", val=\"<\")\n",
    "k2.add_edge(\"^\", \"A\", val=\">\")\n",
    "k2.add_edge(\"A\", \">\", val=\"v\")\n",
    "k2.add_edge(\">\", \"A\", val=\"^\")\n",
    "k2.add_edge(\">\", \"v\", val=\"<\")\n",
    "k2.add_edge(\"v\", \">\", val=\">\")\n",
    "k2.add_edge(\"v\", \"^\", val=\"^\")\n",
    "k2.add_edge(\"^\", \"v\", val=\"v\")\n",
    "k2.add_edge(\"v\", \"<\", val=\"<\")\n",
    "k2.add_edge(\"<\", \"v\", val=\">\")\n",
    "\n",
    "\n",
    "for n in k2.nodes:\n",
    "    print(n, len(k2[n].keys()), k2[n].keys())\n",
    "\n",
    "nx.draw(k2, with_labels=True)"
   ]
  },
  {
   "cell_type": "code",
   "execution_count": 14,
   "metadata": {},
   "outputs": [
    {
     "name": "stdout",
     "output_type": "stream",
     "text": [
      "286 68 19448\n",
      "974 72 70128\n",
      "189 74 13986\n",
      "802 70 56140\n",
      "805 72 57960\n",
      "217662\n"
     ]
    }
   ],
   "source": [
    "import re\n",
    "\n",
    "from itertools import tee, product\n",
    "def pairwise(it):\n",
    "    a, b = tee(it)\n",
    "    next(b, None)\n",
    "    return zip(a, b)\n",
    "\n",
    "def chain(a,b):\n",
    "    for aa, bb in zip(a,b):\n",
    "        yield aa\n",
    "        yield bb\n",
    "\n",
    "def f(s):\n",
    "    if s in \"A^v<>\":\n",
    "        return s\n",
    "    return int(s)\n",
    "\n",
    "def line2seqs(line, k):\n",
    "    line = \"A\" + line.removeprefix(\"A\")\n",
    "    ret = []\n",
    "    for a, b in pairwise(line):\n",
    "        buffs = []\n",
    "        paths = nx.all_shortest_paths(k, f(a), f(b))\n",
    "        for path in paths:            \n",
    "            buff = \"\"\n",
    "            for e in pairwise(path):\n",
    "                buff += k[e[0]][e[1]][\"val\"]\n",
    "            buffs.append(buff)\n",
    "        ret.append(buffs)   \n",
    "\n",
    "    res = []\n",
    "    for t in product(*ret):\n",
    "        res.append(\"A\".join(t)+\"A\")\n",
    "\n",
    "    return res\n",
    "\n",
    "def four_levels(line):\n",
    "    l1s = line2seqs(line, k1)\n",
    "\n",
    "    \n",
    "    l2s = []\n",
    "    for l1 in l1s:\n",
    "        l2s += line2seqs(l1, k2)\n",
    "\n",
    "\n",
    "    l3 = []\n",
    "    for l2 in l2s:\n",
    "        l3 += line2seqs(l2, k2)\n",
    "    return min([len(l) for l in l3])\n",
    "    \n",
    "\n",
    "s = 0\n",
    "for line in lines:\n",
    "    numeric = int(re.sub(r\"[A-Z]\", \"\", line))\n",
    "    length = four_levels(line)\n",
    "    c = numeric * length\n",
    "    s += c\n",
    "    print(numeric, length, c)\n",
    "\n",
    "print(s)"
   ]
  },
  {
   "cell_type": "code",
   "execution_count": 11,
   "metadata": {},
   "outputs": [
    {
     "name": "stdout",
     "output_type": "stream",
     "text": [
      "286 68 19448\n",
      "974 72 70128\n",
      "189 74 13986\n",
      "802 70 56140\n",
      "805 72 57960\n",
      "217662\n",
      "286 86475783008 24732073940288\n",
      "974 85006969638 82796788427412\n",
      "189 90594397580 17122341142620\n",
      "802 86475783010 69353577974020\n",
      "805 86475783012 69613005324660\n",
      "263617786809000\n"
     ]
    }
   ],
   "source": [
    "from collections import Counter\n",
    "\n",
    "class BetterCounter(Counter):\n",
    "    def __mul__(self, factor):\n",
    "        if not isinstance(factor, int):\n",
    "            raise ValueError(\"Can only multiply by an integer\")\n",
    "        return BetterCounter({k: v * factor for k, v in self.items()})\n",
    "    \n",
    "    def __rmul__(self, factor):\n",
    "        return self * factor\n",
    "    \n",
    "    def __add__(self, other):\n",
    "        return BetterCounter(super().__add__(other))\n",
    "    \n",
    "    def __sub__(self, other):\n",
    "        c = self.copy()\n",
    "        c.subtract(other)\n",
    "        return c\n",
    "\n",
    "def count(line):\n",
    "    return BetterCounter([a+b for a,b in pairwise(line)])\n",
    "\n",
    "def count_change(s):\n",
    "    a = np.array(list(s))\n",
    "    return int((a[1:] != a[:-1]).sum())\n",
    "\n",
    "order_dict = {char: i for i, char in enumerate(\"<v^>A\")}\n",
    "def lexical_key(s):\n",
    "    return [order_dict[char] for char in s]\n",
    "\n",
    "\n",
    "\n",
    "def one_level(counter, k):\n",
    "    c = BetterCounter()\n",
    "    for (a,b), v in counter.items():\n",
    "        paths = nx.all_shortest_paths(k, f(a), f(b))\n",
    "        paths_str = [\"\".join([k[e[0]][e[1]][\"val\"] for e in pairwise(path)]) for path in paths]        \n",
    "        sorted_str = sorted(paths_str, key=lambda s: (count_change(s), lexical_key(s)))\n",
    "        s0 = sorted_str[0]\n",
    "        \n",
    "        s = \"A\" + s0 + \"A\"\n",
    "        c.update(count(s) * v)\n",
    "    return c\n",
    "\n",
    "\n",
    "def n_levels(line, n=25):\n",
    "    l0 = \"A\" + line\n",
    "    c0 = count(l0)\n",
    "    c = one_level(c0, k1)\n",
    "    for _ in range(n):\n",
    "        c = one_level(c, k2)\n",
    "    return c\n",
    "\n",
    "def puzzle(n):\n",
    "    s = 0\n",
    "    for line in lines:\n",
    "        numeric = int(re.sub(r\"[A-Z]\", \"\", line))\n",
    "        length = n_levels(line, n).total()\n",
    "        c = numeric * length\n",
    "        s += c\n",
    "        print(numeric, length, c)\n",
    "    return s\n",
    "\n",
    "print(puzzle(2))\n",
    "print(puzzle(25))\n",
    "\n",
    "\n"
   ]
  },
  {
   "cell_type": "code",
   "execution_count": 8,
   "metadata": {},
   "outputs": [
    {
     "name": "stderr",
     "output_type": "stream",
     "text": [
      "current_day is only available in December (EST)\n",
      "answer a: 217662\n",
      "submitting for part b (part a is already completed)\n"
     ]
    },
    {
     "name": "stdout",
     "output_type": "stream",
     "text": [
      "\u001b[32mThat's the right answer!  You are one gold star closer to finding the Chief Historian.You have completed Day 21! You can [Shareon\n",
      "  Bluesky\n",
      "Twitter\n",
      "Mastodon] this victory or [Return to Your Advent Calendar].\u001b[0m\n"
     ]
    },
    {
     "data": {
      "text/plain": [
       "<urllib3.response.HTTPResponse at 0x76d09d5475e0>"
      ]
     },
     "execution_count": 8,
     "metadata": {},
     "output_type": "execute_result"
    },
    {
     "name": "stderr",
     "output_type": "stream",
     "text": [
      "Gtk-Message: 14:29:28.976: Not loading module \"atk-bridge\": The functionality is provided by GTK natively. Please try to not load it.\n"
     ]
    }
   ],
   "source": [
    "aocd.submit(s, day=21, year=2024)"
   ]
  }
 ],
 "metadata": {
  "kernelspec": {
   "display_name": "aoc24-GOpwAQwM-py3.12",
   "language": "python",
   "name": "python3"
  },
  "language_info": {
   "codemirror_mode": {
    "name": "ipython",
    "version": 3
   },
   "file_extension": ".py",
   "mimetype": "text/x-python",
   "name": "python",
   "nbconvert_exporter": "python",
   "pygments_lexer": "ipython3",
   "version": "3.12.7"
  }
 },
 "nbformat": 4,
 "nbformat_minor": 2
}
