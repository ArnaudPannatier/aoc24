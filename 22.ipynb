{
 "cells": [
  {
   "cell_type": "code",
   "execution_count": 171,
   "metadata": {},
   "outputs": [
    {
     "name": "stdout",
     "output_type": "stream",
     "text": [
      "[Example(input_data='15887950\\n16495136\\n527345\\n704524\\n1553684\\n12683156\\n11100544\\n12249484\\n7753432\\n5908254', answer_a='37327623', answer_b='9', extra=None)]\n"
     ]
    },
    {
     "data": {
      "text/plain": [
       "[Example(input_data='15887950\\n16495136\\n527345\\n704524\\n1553684\\n12683156\\n11100544\\n12249484\\n7753432\\n5908254', answer_a='37327623', answer_b='9', extra=None)]"
      ]
     },
     "execution_count": 171,
     "metadata": {},
     "output_type": "execute_result"
    }
   ],
   "source": [
    "import aocd\n",
    "import re\n",
    "from dotenv import load_dotenv\n",
    "import numpy as np\n",
    "from tqdm import tqdm\n",
    "import networkx as nx\n",
    "\n",
    "load_dotenv()\n",
    "\n",
    "puzzle = aocd.get_puzzle(day=22, year=2024)\n",
    "text = puzzle.input_data\n",
    "examples = puzzle.examples\n",
    "print(examples)\n",
    "\n",
    "lines = text.splitlines()\n",
    "\n",
    "example = examples[0].input_data.splitlines()\n",
    "\n",
    "examples"
   ]
  },
  {
   "cell_type": "code",
   "execution_count": 208,
   "metadata": {},
   "outputs": [
    {
     "data": {
      "text/plain": [
       "'15887950\\n16495136\\n527345\\n704524\\n1553684\\n12683156\\n11100544\\n12249484\\n7753432\\n5908254'"
      ]
     },
     "execution_count": 208,
     "metadata": {},
     "output_type": "execute_result"
    }
   ],
   "source": [
    "text = examples[0].input_data\n",
    "lines = text.splitlines()\n",
    "\n",
    "example = \"\"\"1\n",
    "2\n",
    "3\n",
    "2024\"\"\"\n",
    "\n",
    "# example = \"\"\"123\"\"\"\n",
    "lines = example.splitlines()\n",
    "\n",
    "text"
   ]
  },
  {
   "cell_type": "code",
   "execution_count": 209,
   "metadata": {},
   "outputs": [],
   "source": [
    "def mix(s1, s2):\n",
    "    return s1 ^ s2\n",
    "\n",
    "def prune(s):\n",
    "    return s % 16777216\n",
    "\n",
    "\n",
    "def one(s):\n",
    "    return prune(mix(s, 64*s))\n",
    "\n",
    "def two(s):\n",
    "    return prune(mix(s, int(s/32)))\n",
    "\n",
    "def three(s):\n",
    "    return prune(mix(s, 2048 * s))\n",
    "\n",
    "def all(s):\n",
    "    s = one(s)\n",
    "    s = two(s)\n",
    "    s = three(s)\n",
    "    return s\n"
   ]
  },
  {
   "cell_type": "code",
   "execution_count": null,
   "metadata": {},
   "outputs": [],
   "source": []
  },
  {
   "cell_type": "code",
   "execution_count": 210,
   "metadata": {},
   "outputs": [
    {
     "name": "stdout",
     "output_type": "stream",
     "text": [
      "37990510\n"
     ]
    }
   ],
   "source": [
    "sum = 0\n",
    "for s in lines:\n",
    "    s = int(s)\n",
    "    for _ in range(2000):\n",
    "        s = all(s)\n",
    "    sum += s\n",
    "\n",
    "print(sum)"
   ]
  },
  {
   "cell_type": "code",
   "execution_count": 39,
   "metadata": {},
   "outputs": [
    {
     "name": "stderr",
     "output_type": "stream",
     "text": [
      "answer a: None\n",
      "submitting for part a\n"
     ]
    },
    {
     "name": "stdout",
     "output_type": "stream",
     "text": [
      "\u001b[32mThat's the right answer!  You are one gold star closer to finding the Chief Historian. [Continue to Part Two]\u001b[0m\n"
     ]
    },
    {
     "data": {
      "text/plain": [
       "<urllib3.response.HTTPResponse at 0x78138bf2d750>"
      ]
     },
     "execution_count": 39,
     "metadata": {},
     "output_type": "execute_result"
    },
    {
     "name": "stderr",
     "output_type": "stream",
     "text": [
      "Gtk-Message: 10:31:35.144: Not loading module \"atk-bridge\": The functionality is provided by GTK natively. Please try to not load it.\n"
     ]
    }
   ],
   "source": [
    "aocd.submit(sum, day=22, year=2024)"
   ]
  },
  {
   "cell_type": "code",
   "execution_count": 211,
   "metadata": {},
   "outputs": [
    {
     "name": "stdout",
     "output_type": "stream",
     "text": [
      "[[1 3 3 ... 3 2 9]\n",
      " [2 6 2 ... 6 6 3]\n",
      " [3 3 3 ... 3 8 4]\n",
      " [4 9 5 ... 1 8 4]]\n"
     ]
    }
   ],
   "source": [
    "digits = np.zeros((len(lines), 2001), dtype=int)\n",
    "\n",
    "for i, s in enumerate(lines):\n",
    "    digits[i, 0] = int(s[-1])\n",
    "    s = int(s)\n",
    "    \n",
    "    for j in range(1,2001):\n",
    "        s = all(s)\n",
    "        digits[i, j] = int(str(s)[-1])\n",
    "\n",
    "print(digits)"
   ]
  },
  {
   "cell_type": "code",
   "execution_count": 212,
   "metadata": {},
   "outputs": [
    {
     "data": {
      "text/plain": [
       "(4, 2000)"
      ]
     },
     "execution_count": 212,
     "metadata": {},
     "output_type": "execute_result"
    }
   ],
   "source": [
    "diff = np.diff(digits, axis=1)\n",
    "diff.shape"
   ]
  },
  {
   "cell_type": "code",
   "execution_count": 213,
   "metadata": {},
   "outputs": [],
   "source": [
    "seqs = set()\n",
    "\n",
    "for d in diff:\n",
    "    for i in range(1997):\n",
    "        t = tuple(d[i:i+4].tolist())\n",
    "        assert len(t) == 4\n",
    "        seqs.add(t)\n",
    "\n",
    "\n",
    "\n",
    "\n",
    "seqs = list(seqs)"
   ]
  },
  {
   "cell_type": "code",
   "execution_count": 214,
   "metadata": {},
   "outputs": [
    {
     "data": {
      "text/plain": [
       "(4, 2000)"
      ]
     },
     "execution_count": 214,
     "metadata": {},
     "output_type": "execute_result"
    }
   ],
   "source": [
    "diff.shape"
   ]
  },
  {
   "cell_type": "code",
   "execution_count": 215,
   "metadata": {},
   "outputs": [
    {
     "data": {
      "text/plain": [
       "True"
      ]
     },
     "execution_count": 215,
     "metadata": {},
     "output_type": "execute_result"
    }
   ],
   "source": [
    "\"-2,1,-1,3\" in \",\".join(map(str,diff[1]))"
   ]
  },
  {
   "cell_type": "code",
   "execution_count": 238,
   "metadata": {},
   "outputs": [
    {
     "name": "stdout",
     "output_type": "stream",
     "text": [
      "torch.Size([4, 1997, 4])\n",
      "torch.Size([4, 1997, 4]) torch.Size([4, 1997])\n",
      "tensor([-2,  1, -1,  3])\n",
      "torch.Size([4, 1997])\n",
      "tensor(3) tensor([ True,  True, False,  True])\n",
      "tensor([1960,  287,    0,  451])\n"
     ]
    },
    {
     "data": {
      "text/plain": [
       "tensor([7, 7, 9])"
      ]
     },
     "execution_count": 238,
     "metadata": {},
     "output_type": "execute_result"
    }
   ],
   "source": [
    "import torch\n",
    "\n",
    "unrolled = torch.tensor(diff).unfold(1, 4, 1)\n",
    "print(unrolled.shape)\n",
    "\n",
    "m, s = unrolled, torch.tensor(digits)[:, 4:] \n",
    "print(m.shape, s.shape)\n",
    "\n",
    "s0_t = torch.tensor((-2,1,-1,3))\n",
    "print(s0_t)\n",
    "\n",
    "r = torch.arange(1997, 0, -1)[None]\n",
    "\n",
    "mask = (m == s0_t).all(dim=2)\n",
    "print(mask.shape)\n",
    "print(mask.sum(), mask.any(1))\n",
    "\n",
    "amax = (mask * r).argmax(1)\n",
    "print(amax)\n",
    "amax_mask = amax > 0    \n",
    "s[amax_mask, amax[amax_mask]]\n",
    "\n",
    "\n"
   ]
  },
  {
   "cell_type": "code",
   "execution_count": 224,
   "metadata": {},
   "outputs": [
    {
     "data": {
      "text/plain": [
       "(array([-2,  1, -1,  3,  1]), tensor([-2,  1, -1,  3]))"
      ]
     },
     "execution_count": 224,
     "metadata": {},
     "output_type": "execute_result"
    }
   ],
   "source": [
    "diff[1, 287:287+5], m[1, 287]"
   ]
  },
  {
   "cell_type": "code",
   "execution_count": 218,
   "metadata": {},
   "outputs": [
    {
     "name": "stderr",
     "output_type": "stream",
     "text": [
      " 72%|███████▏  | 5017/7014 [00:00<00:00, 12610.09it/s]"
     ]
    },
    {
     "name": "stdout",
     "output_type": "stream",
     "text": [
      "tensor(0)\n"
     ]
    },
    {
     "name": "stderr",
     "output_type": "stream",
     "text": [
      "100%|██████████| 7014/7014 [00:00<00:00, 11919.64it/s]\n"
     ]
    },
    {
     "name": "stdout",
     "output_type": "stream",
     "text": [
      "(tensor(16), (2, 5, -5, -3))\n"
     ]
    }
   ],
   "source": [
    "from tqdm import tqdm\n",
    "\n",
    "s0 = torch.tensor(seqs[0])\n",
    "\n",
    "sums, selected_set = [], []\n",
    "for s0 in tqdm(seqs):\n",
    "\n",
    "    s0_t = torch.tensor(s0)\n",
    "    mask = (m == s0_t).all(dim=2)\n",
    "    amax = (mask * r).argmax(1)\n",
    "    amax_mask = amax > 0\n",
    "    ss = s[amax_mask, amax[amax_mask]].sum()\n",
    "    sums.append(ss)\n",
    "    if s0 == (-2,1,-1,3):\n",
    "        print(ss)\n",
    "\n",
    "    selected_set.append(s0)\n",
    "\n",
    "print(max(zip(sums, selected_set)))"
   ]
  },
  {
   "cell_type": "code",
   "execution_count": 28,
   "metadata": {},
   "outputs": [
    {
     "name": "stderr",
     "output_type": "stream",
     "text": [
      "answer a: 14392541715\n",
      "submitting for part b (part a is already completed)\n",
      "wrong answer: That's not the right answer; your answer is too low.  If you're stuck, make sure you're using the full input data; there are also some general tips on the about page, or you can ask for hints on the subreddit.  Please wait one minute before trying again. [Return to Day 22]\n"
     ]
    },
    {
     "name": "stdout",
     "output_type": "stream",
     "text": [
      "\u001b[31mThat's not the right answer; your answer is too low.  If you're stuck, make sure you're using the full input data; there are also some general tips on the about page, or you can ask for hints on the subreddit.  Please wait one minute before trying again. [Return to Day 22]\u001b[0m\n"
     ]
    },
    {
     "data": {
      "text/plain": [
       "<urllib3.response.HTTPResponse at 0x75312a9a9810>"
      ]
     },
     "execution_count": 28,
     "metadata": {},
     "output_type": "execute_result"
    }
   ],
   "source": [
    "aocd.submit(max(sums).item(), day=22, year=2024)"
   ]
  },
  {
   "cell_type": "code",
   "execution_count": null,
   "metadata": {},
   "outputs": [],
   "source": []
  }
 ],
 "metadata": {
  "kernelspec": {
   "display_name": "aoc24-GOpwAQwM-py3.12",
   "language": "python",
   "name": "python3"
  },
  "language_info": {
   "codemirror_mode": {
    "name": "ipython",
    "version": 3
   },
   "file_extension": ".py",
   "mimetype": "text/x-python",
   "name": "python",
   "nbconvert_exporter": "python",
   "pygments_lexer": "ipython3",
   "version": "3.12.7"
  }
 },
 "nbformat": 4,
 "nbformat_minor": 2
}
