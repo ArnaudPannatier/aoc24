{
 "cells": [
  {
   "cell_type": "code",
   "execution_count": 13,
   "metadata": {},
   "outputs": [],
   "source": [
    "import aocd\n",
    "import re\n",
    "from dotenv import load_dotenv\n",
    "import numpy as np\n",
    "\n",
    "load_dotenv()\n",
    "\n",
    "text = aocd.get_data(day=5, year=2024)\n",
    "lines = text.splitlines()\n",
    "\n",
    "example = \"\"\"47|53\n",
    "97|13\n",
    "97|61\n",
    "97|47\n",
    "75|29\n",
    "61|13\n",
    "75|53\n",
    "29|13\n",
    "97|29\n",
    "53|29\n",
    "61|53\n",
    "97|53\n",
    "61|29\n",
    "47|13\n",
    "75|47\n",
    "97|75\n",
    "47|61\n",
    "75|61\n",
    "47|29\n",
    "75|13\n",
    "53|13\n",
    "\n",
    "75,47,61,53,29\n",
    "97,61,53,29,13\n",
    "75,29,13\n",
    "75,97,47,61,53\n",
    "61,13,29\n",
    "97,13,75,29,47\"\"\".splitlines()\n",
    "\n",
    "\n"
   ]
  },
  {
   "cell_type": "code",
   "execution_count": 2,
   "metadata": {},
   "outputs": [],
   "source": [
    "lines = example"
   ]
  },
  {
   "cell_type": "code",
   "execution_count": 17,
   "metadata": {},
   "outputs": [
    {
     "name": "stdout",
     "output_type": "stream",
     "text": [
      "4578\n"
     ]
    }
   ],
   "source": [
    "orders = [tuple(map(int,l.split(\"|\"))) for l in lines if \"|\" in l]\n",
    "numbers = [list(map(int,l.split(\",\"))) for l in lines if \",\" in l]\n",
    "\n",
    "\n",
    "def valid(n, orders):\n",
    "    for o in orders:\n",
    "        o1,o2 = o\n",
    "        if not (o1 in n and o2 in n):\n",
    "            continue\n",
    "\n",
    "        if n.index(o1) > n.index(o2):\n",
    "            return False\n",
    "\n",
    "    return True\n",
    "\n",
    "s = 0\n",
    "for n in numbers:\n",
    "    if valid(n, orders):\n",
    "        h = len(n)//2\n",
    "        s+= n[h]\n",
    "\n",
    "print(s)\n",
    "\n",
    "# aocd.submit(s)"
   ]
  },
  {
   "cell_type": "code",
   "execution_count": 20,
   "metadata": {},
   "outputs": [
    {
     "name": "stderr",
     "output_type": "stream",
     "text": [
      "answer a: 4578\n",
      "submitting for part b (part a is already completed)\n"
     ]
    },
    {
     "name": "stdout",
     "output_type": "stream",
     "text": [
      "6179\n",
      "\u001b[32mThat's the right answer!  You are one gold star closer to finding the Chief Historian.You have completed Day 5! You can [Shareon\n",
      "  Bluesky\n",
      "Twitter\n",
      "Mastodon] this victory or [Return to Your Advent Calendar].\u001b[0m\n"
     ]
    },
    {
     "data": {
      "text/plain": [
       "<urllib3.response.HTTPResponse at 0x76449b54e200>"
      ]
     },
     "execution_count": 20,
     "metadata": {},
     "output_type": "execute_result"
    },
    {
     "name": "stderr",
     "output_type": "stream",
     "text": [
      "Gtk-Message: 08:25:49.698: Not loading module \"atk-bridge\": The functionality is provided by GTK natively. Please try to not load it.\n"
     ]
    }
   ],
   "source": [
    "incorrects = []\n",
    "\n",
    "numbers = [list(map(int,l.split(\",\"))) for l in lines if \",\" in l]\n",
    "\n",
    "\n",
    "def first_incorrect(n, orders):\n",
    "    for o in orders:\n",
    "        o1,o2 = o\n",
    "        if not (o1 in n and o2 in n):\n",
    "            continue\n",
    "\n",
    "        if n.index(o1) > n.index(o2):\n",
    "            return o1, o2\n",
    "\n",
    "\n",
    "\n",
    "for n in numbers:\n",
    "    if not valid(n, orders):\n",
    "        incorrects.append(n)\n",
    "\n",
    "\n",
    "def sort_incorrects(i, orders):\n",
    "    o = first_incorrect(i, orders)\n",
    "    # if o is None:\n",
    "    #     return i\n",
    "\n",
    "    k = 0\n",
    "    while o is not None or k < 1000:\n",
    "        k += 1\n",
    "\n",
    "\n",
    "        o = first_incorrect(i, orders)\n",
    "        if o is None:\n",
    "            return i\n",
    "        \n",
    "        o1, o2 = o\n",
    "        i1,i2 = i.index(o1), i.index(o2)\n",
    "        i[i1] = o2\n",
    "        i[i2] = o1\n",
    "\n",
    "\n",
    "\n",
    "\n",
    "incorrects = [sort_incorrects(i, orders) for i in incorrects]    \n",
    "\n",
    "s = 0\n",
    "for i in incorrects:\n",
    "    h = len(i)//2\n",
    "    s += i[h]\n",
    "\n",
    "print(s)\n",
    "\n",
    "\n",
    "\n",
    "\n",
    "\n",
    "\n",
    "aocd.submit(s)\n",
    "\n",
    "\n"
   ]
  },
  {
   "cell_type": "code",
   "execution_count": 24,
   "metadata": {},
   "outputs": [
    {
     "name": "stderr",
     "output_type": "stream",
     "text": [
      "answer a: None\n",
      "submitting for part a\n"
     ]
    },
    {
     "name": "stdout",
     "output_type": "stream",
     "text": [
      "\u001b[32mThat's the right answer!  You are one gold star closer to finding the Chief Historian. [Continue to Part Two]\u001b[0m\n"
     ]
    },
    {
     "data": {
      "text/plain": [
       "<urllib3.response.HTTPResponse at 0x731ae8b6aa10>"
      ]
     },
     "execution_count": 24,
     "metadata": {},
     "output_type": "execute_result"
    },
    {
     "name": "stderr",
     "output_type": "stream",
     "text": [
      "Gtk-Message: 08:17:41.036: Not loading module \"atk-bridge\": The functionality is provided by GTK natively. Please try to not load it.\n"
     ]
    }
   ],
   "source": [
    "aocd.submit(s, day=4, year=2024)"
   ]
  },
  {
   "cell_type": "code",
   "execution_count": 25,
   "metadata": {},
   "outputs": [],
   "source": [
    "import torch"
   ]
  },
  {
   "cell_type": "code",
   "execution_count": null,
   "metadata": {},
   "outputs": [
    {
     "ename": "TypeError",
     "evalue": "can't convert np.ndarray of type numpy.str_. The only supported types are: float64, float32, float16, complex64, complex128, int64, int32, int16, int8, uint64, uint32, uint16, uint8, and bool.",
     "output_type": "error",
     "traceback": [
      "\u001b[0;31m---------------------------------------------------------------------------\u001b[0m",
      "\u001b[0;31mTypeError\u001b[0m                                 Traceback (most recent call last)",
      "Cell \u001b[0;32mIn[26], line 1\u001b[0m\n\u001b[0;32m----> 1\u001b[0m \u001b[43mtorch\u001b[49m\u001b[38;5;241;43m.\u001b[39;49m\u001b[43mtensor\u001b[49m\u001b[43m(\u001b[49m\u001b[43marr\u001b[49m\u001b[43m)\u001b[49m\n",
      "\u001b[0;31mTypeError\u001b[0m: can't convert np.ndarray of type numpy.str_. The only supported types are: float64, float32, float16, complex64, complex128, int64, int32, int16, int8, uint64, uint32, uint16, uint8, and bool."
     ]
    }
   ],
   "source": [
    "torch.tensor(arr)"
   ]
  },
  {
   "cell_type": "code",
   "execution_count": 52,
   "metadata": {},
   "outputs": [
    {
     "name": "stdout",
     "output_type": "stream",
     "text": [
      "[[77  0 77]\n",
      " [ 0 65  0]\n",
      " [83  0 83]]\n",
      "[[77  0 83]\n",
      " [ 0 65  0]\n",
      " [77  0 83]]\n",
      "[[83  0 77]\n",
      " [ 0 65  0]\n",
      " [83  0 77]]\n",
      "[[83  0 83]\n",
      " [ 0 65  0]\n",
      " [77  0 77]]\n",
      "tensor(452)\n",
      "tensor(490)\n",
      "tensor(521)\n",
      "tensor(571)\n",
      "2034\n"
     ]
    }
   ],
   "source": [
    "t = torch.tensor([[ord(c) for c in line] for line in lines])\n",
    "\n",
    "t = t[None, None, :, :] \n",
    "\n",
    "patches = t.unfold(2, 3, 1).unfold(3, 3, 1)\n",
    "\n",
    "patches = patches.contiguous().view(-1, 3, 3)\n",
    "\n",
    "patches[:, 0, 1] = 0\n",
    "patches[:, 1, 0] = 0\n",
    "patches[:, 1, 2] = 0\n",
    "patches[:, 2, 1] = 0\n",
    "\n",
    "\n",
    "patterns = []\n",
    "for x1 in [\"MAS\", \"SAM\"]:\n",
    "    for x2 in [\"MAS\", \"SAM\"]:\n",
    "        a = np.diag([ord(c) for c in x1]) + np.fliplr(np.diag([ord(c) for c in x2]))\n",
    "        a[1,1] = ord(\"A\")\n",
    "        print(a)\n",
    "        patterns.append(a)\n",
    "\n",
    "\n",
    "s = 0\n",
    "for p in patterns:\n",
    "    match = (patches == p).all(dim=(1,2)).bool()\n",
    "\n",
    "\n",
    "    print(match.sum())\n",
    "    s += match.sum()\n",
    "\n",
    "print(s.item())   \n",
    "\n",
    "\n",
    "\n",
    "\n"
   ]
  },
  {
   "cell_type": "code",
   "execution_count": 53,
   "metadata": {},
   "outputs": [
    {
     "name": "stderr",
     "output_type": "stream",
     "text": [
      "answer a: 2662\n",
      "submitting for part b (part a is already completed)\n"
     ]
    },
    {
     "name": "stdout",
     "output_type": "stream",
     "text": [
      "\u001b[32mThat's the right answer!  You are one gold star closer to finding the Chief Historian.You have completed Day 4! You can [Shareon\n",
      "  Bluesky\n",
      "Twitter\n",
      "Mastodon] this victory or [Return to Your Advent Calendar].\u001b[0m\n"
     ]
    },
    {
     "data": {
      "text/plain": [
       "<urllib3.response.HTTPResponse at 0x731ac4013610>"
      ]
     },
     "execution_count": 53,
     "metadata": {},
     "output_type": "execute_result"
    },
    {
     "name": "stderr",
     "output_type": "stream",
     "text": [
      "Gtk-Message: 08:30:54.552: Not loading module \"atk-bridge\": The functionality is provided by GTK natively. Please try to not load it.\n"
     ]
    }
   ],
   "source": [
    "aocd.submit(s.item(), day=4, year=2024)"
   ]
  },
  {
   "cell_type": "markdown",
   "metadata": {},
   "source": []
  },
  {
   "cell_type": "code",
   "execution_count": 21,
   "metadata": {},
   "outputs": [
    {
     "data": {
      "text/plain": [
       "[<span title=\"Specifically, the surely-stationary stationery stacks.\">stationery</span>]"
      ]
     },
     "execution_count": 21,
     "metadata": {},
     "output_type": "execute_result"
    }
   ],
   "source": [
    "from aocd import models\n",
    "\n",
    "p = models.Puzzle(year=2024, day=5)\n",
    "\n",
    "p.easter_eggs"
   ]
  },
  {
   "cell_type": "code",
   "execution_count": null,
   "metadata": {},
   "outputs": [],
   "source": []
  }
 ],
 "metadata": {
  "kernelspec": {
   "display_name": "aoc24-TyiyelMA-py3.12",
   "language": "python",
   "name": "python3"
  },
  "language_info": {
   "codemirror_mode": {
    "name": "ipython",
    "version": 3
   },
   "file_extension": ".py",
   "mimetype": "text/x-python",
   "name": "python",
   "nbconvert_exporter": "python",
   "pygments_lexer": "ipython3",
   "version": "3.12.7"
  }
 },
 "nbformat": 4,
 "nbformat_minor": 2
}
