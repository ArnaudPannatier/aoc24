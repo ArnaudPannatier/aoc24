{
 "cells": [
  {
   "cell_type": "code",
   "execution_count": 27,
   "metadata": {},
   "outputs": [
    {
     "name": "stdout",
     "output_type": "stream",
     "text": [
      "['Game 1: 2 red, 2 green; 1 red, 1 green, 2 blue; 3 blue, 3 red, 3 green; 1 blue, 3 green, 7 red; 5 red, 3 green, 1 blue', 'Game 2: 5 green, 4 red, 7 blue; 7 red, 4 green, 4 blue; 8 green, 11 blue, 4 red; 2 red, 18 blue, 3 green; 7 red, 15 blue', 'Game 3: 2 green, 4 blue; 2 red, 2 green; 6 red, 1 green; 2 red, 1 green; 2 green; 5 blue, 5 red', 'Game 4: 10 red, 7 green, 10 blue; 8 red, 2 green; 9 green, 6 red, 5 blue; 8 green, 2 blue, 4 red; 5 green, 9 blue; 10 red, 1 green, 9 blue', 'Game 5: 10 blue, 7 green, 2 red; 2 blue, 4 red; 2 green, 9 blue, 8 red', 'Game 6: 3 green, 8 red; 1 blue, 11 red, 2 green; 2 green, 15 red, 8 blue; 13 red, 6 blue, 3 green', 'Game 7: 4 green, 10 red, 7 blue; 6 red, 9 blue, 9 green; 2 red, 1 blue, 6 green', 'Game 8: 1 red, 3 blue, 2 green; 7 green, 2 blue; 10 green, 1 red, 2 blue; 1 red', 'Game 9: 4 red, 3 green, 11 blue; 6 red, 4 green; 15 red, 7 blue, 7 green', 'Game 10: 7 red, 1 blue, 5 green; 11 red, 7 green, 1 blue; 2 green, 4 blue, 13 red']\n"
     ]
    }
   ],
   "source": [
    "import aocd\n",
    "import re\n",
    "from dotenv import load_dotenv\n",
    "\n",
    "load_dotenv()\n",
    "\n",
    "lines = aocd.get_data(day=2, year=2023).splitlines()\n",
    "\n",
    "print(lines[:10])\n"
   ]
  },
  {
   "cell_type": "code",
   "execution_count": 33,
   "metadata": {},
   "outputs": [
    {
     "name": "stderr",
     "output_type": "stream",
     "text": [
      "current_day is only available in December (EST)\n"
     ]
    },
    {
     "name": "stdout",
     "output_type": "stream",
     "text": [
      "[[ 7  3  3]\n",
      " [ 7  8 18]\n",
      " [ 6  2  5]\n",
      " [10  9 10]\n",
      " [ 8  7 10]\n",
      " [15  3  8]\n",
      " [10  9  9]\n",
      " [ 1 10  3]\n",
      " [15  7 11]\n",
      " [13  7  4]]\n",
      "[ True False  True  True  True False  True  True False False]\n",
      "[  1   3   4   5   7   8  12  13  14  16  20  24  25  28  32  35  36  37\n",
      "  38  41  44  48  49  51  52  55  58  59  60  61  62  63  64  66  67  68\n",
      "  69  70  72  74  77  79  82  85  86  87  88  93  94  97  98  99 100]\n",
      "2776\n"
     ]
    },
    {
     "name": "stderr",
     "output_type": "stream",
     "text": [
      "answer a: None\n",
      "submitting for part a\n"
     ]
    },
    {
     "name": "stdout",
     "output_type": "stream",
     "text": [
      "\u001b[32mThat's the right answer!  You are one gold star closer to restoring snow operations. [Continue to Part Two]\u001b[0m\n"
     ]
    },
    {
     "data": {
      "text/plain": [
       "<urllib3.response.HTTPResponse at 0x7a3a0e152740>"
      ]
     },
     "execution_count": 33,
     "metadata": {},
     "output_type": "execute_result"
    },
    {
     "name": "stderr",
     "output_type": "stream",
     "text": [
      "Gtk-Message: 17:08:50.281: Not loading module \"atk-bridge\": The functionality is provided by GTK natively. Please try to not load it.\n"
     ]
    }
   ],
   "source": [
    "import numpy as np\n",
    "\n",
    "# lines = \"\"\"Game 1: 3 blue, 4 red; 1 red, 2 green, 6 blue; 2 green\n",
    "# Game 2: 1 blue, 2 green; 3 green, 4 blue, 1 red; 1 green, 1 blue\n",
    "# Game 3: 8 green, 6 blue, 20 red; 5 blue, 4 red, 13 green; 5 green, 1 red\n",
    "# Game 4: 1 green, 3 red, 6 blue; 3 green, 6 red; 3 green, 15 blue, 14 red\n",
    "# Game 5: 6 red, 1 blue, 3 green; 2 blue, 1 red, 2 green\"\"\".splitlines()\n",
    "\n",
    "\n",
    "idxs = np.array([int(ll.split(\":\")[0].split()[-1]) for ll in lines])\n",
    "\n",
    "sets = [ll.split(\":\")[1].split(\";\") for ll in lines]\n",
    "\n",
    "# print(sets)\n",
    "\n",
    "colors  = [\"red\", \"green\", \"blue\"]\n",
    "def str2tuple(s):\n",
    "    ## r,g,b\n",
    "    res = {\"red\": 0, \"green\": 0, \"blue\": 0}\n",
    "\n",
    "    ss = s.split(\",\")\n",
    "    assert len(ss) <= 3\n",
    "\n",
    "    for nb_c in ss:\n",
    "        nb, c = nb_c.strip().split()\n",
    "        nb = int(nb)\n",
    "        c = c.strip()\n",
    "        res[c] = nb\n",
    "\n",
    "    return (res[\"red\"], res[\"green\"], res[\"blue\"])\n",
    "\n",
    "tuples = [[str2tuple(ss) for ss in s] for s in sets]\n",
    "\n",
    "\n",
    "maxs = np.array([12,13,14])\n",
    "\n",
    "max_in_tuples = np.array([np.stack(s).max(axis=0) for s in tuples])\n",
    "\n",
    "print(max_in_tuples[:10])\n",
    "\n",
    "idx_mask = (max_in_tuples <= maxs).all(1)\n",
    "print(idx_mask[:10])\n",
    "\n",
    "print(idxs[idx_mask])\n",
    "\n",
    "res = int(idxs[idx_mask].sum())\n",
    "print(res)\n",
    "\n",
    "\n",
    "aocd.submit(int(idxs[idx_mask].sum()), day=2, year=2023)\n",
    "        \n",
    "\n"
   ]
  },
  {
   "cell_type": "code",
   "execution_count": 36,
   "metadata": {},
   "outputs": [
    {
     "data": {
      "text/plain": [
       "np.int64(68638)"
      ]
     },
     "execution_count": 36,
     "metadata": {},
     "output_type": "execute_result"
    }
   ],
   "source": [
    "max_in_tuples.prod(1).sum()"
   ]
  },
  {
   "cell_type": "code",
   "execution_count": null,
   "metadata": {},
   "outputs": [],
   "source": []
  }
 ],
 "metadata": {
  "kernelspec": {
   "display_name": "aoc24-TyiyelMA-py3.12",
   "language": "python",
   "name": "python3"
  },
  "language_info": {
   "codemirror_mode": {
    "name": "ipython",
    "version": 3
   },
   "file_extension": ".py",
   "mimetype": "text/x-python",
   "name": "python",
   "nbconvert_exporter": "python",
   "pygments_lexer": "ipython3",
   "version": "3.12.7"
  }
 },
 "nbformat": 4,
 "nbformat_minor": 2
}
