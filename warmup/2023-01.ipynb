{
 "cells": [
  {
   "cell_type": "code",
   "execution_count": null,
   "metadata": {},
   "outputs": [],
   "source": [
    "import aocd\n",
    "import re\n",
    "from dotenv import load_dotenv\n",
    "\n",
    "load_dotenv()\n",
    "\n",
    "lines = aocd.get_data(day=1, year=2023).splitlines()\n",
    "\n",
    "#using re keep only digits\n",
    "lines = [re.sub(r'\\D', '', line) for line in lines]\n",
    "r = sum([int(l[0]+l[-1]) for l in lines])\n",
    "\n",
    "print(r)\n",
    "aocd.submit(r, day=1, year=2023)\n"
   ]
  },
  {
   "cell_type": "code",
   "execution_count": null,
   "metadata": {},
   "outputs": [],
   "source": [
    "s = {\"one\": 1, \"two\": 2, \"three\": 3, \"four\": 4, \"five\": 5, \"six\": 6, \"seven\": 7, \"eight\": 8, \"nine\": 9}\n",
    "\n",
    "def map_nb_to_int_left(seq):\n",
    "    match = [d for d in s if d in seq]\n",
    "    while len(match):\n",
    "        idx, first = sorted([(seq.index(d), d) for d in match])[0]\n",
    "        seq = re.sub(first, str(s[first]), seq, count=1)\n",
    "        match = [d for d in s if d in seq]\n",
    "    return seq\n",
    "\n",
    "inv_s = {k[::-1]: v for k, v in s.items()}\n",
    "def map_nb_to_int_right(seq):\n",
    "    seq = seq[::-1]\n",
    "    match = [d for d in inv_s if d in seq]\n",
    "    while len(match):\n",
    "        idx, first = sorted([(seq.index(d), d) for d in match])[0]\n",
    "        seq = re.sub(first, str(inv_s[first]), seq, count=1)\n",
    "        match = [d for d in inv_s if d in seq]\n",
    "\n",
    "\n",
    "    return seq[::-1]\n",
    "\n",
    "\n",
    "\n",
    "input = aocd.get_data(day=1, year=2023).splitlines()\n",
    "\n",
    "# input = \"\"\"two1nine\n",
    "# eightwothree\n",
    "# abcone2threexyz\n",
    "# xtwone3four\n",
    "# 4nineeightseven2\n",
    "# zoneight234\n",
    "# 7pqrstsixteen\"\"\".splitlines()\n",
    "\n",
    "#using re keep only digits\n",
    "print(\"left\")\n",
    "lines_left = [map_nb_to_int_left(line) for line in input]\n",
    "lines_left = [re.sub(r'\\D', '', line) for line in lines_left]\n",
    "print(\"right\")\n",
    "lines_right = [map_nb_to_int_right(line) for line in input]\n",
    "lines_right = [re.sub(r'\\D', '', line) for line in lines_right]\n",
    "calibration = [int(ll[0]+lr[-1]) for ll, lr in zip(lines_left, lines_right)]\n",
    "\n",
    "\n",
    "\n",
    "r = sum(calibration)\n",
    "\n",
    "print(r)\n",
    "aocd.submit(r, day=1, year=2023, part='b')\n",
    "\n",
    "\n"
   ]
  },
  {
   "cell_type": "code",
   "execution_count": null,
   "metadata": {},
   "outputs": [],
   "source": []
  }
 ],
 "metadata": {
  "kernelspec": {
   "display_name": "aoc24-TyiyelMA-py3.12",
   "language": "python",
   "name": "python3"
  },
  "language_info": {
   "codemirror_mode": {
    "name": "ipython",
    "version": 3
   },
   "file_extension": ".py",
   "mimetype": "text/x-python",
   "name": "python",
   "nbconvert_exporter": "python",
   "pygments_lexer": "ipython3",
   "version": "3.12.7"
  }
 },
 "nbformat": 4,
 "nbformat_minor": 2
}
