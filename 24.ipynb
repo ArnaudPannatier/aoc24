{
 "cells": [
  {
   "cell_type": "code",
   "execution_count": 2,
   "metadata": {},
   "outputs": [
    {
     "name": "stdout",
     "output_type": "stream",
     "text": [
      "[Example(input_data='x00: 1\\nx01: 1\\nx02: 1\\ny00: 0\\ny01: 1\\ny02: 0\\n\\nx00 AND y00 -> z00\\nx01 XOR y01 -> z01\\nx02 OR y02 -> z02', answer_a='z', answer_b=None, extra=None)]\n"
     ]
    },
    {
     "data": {
      "text/plain": [
       "[Example(input_data='x00: 1\\nx01: 1\\nx02: 1\\ny00: 0\\ny01: 1\\ny02: 0\\n\\nx00 AND y00 -> z00\\nx01 XOR y01 -> z01\\nx02 OR y02 -> z02', answer_a='z', answer_b=None, extra=None)]"
      ]
     },
     "execution_count": 2,
     "metadata": {},
     "output_type": "execute_result"
    }
   ],
   "source": [
    "import aocd\n",
    "import re\n",
    "from dotenv import load_dotenv\n",
    "import numpy as np\n",
    "from tqdm import tqdm\n",
    "import networkx as nx\n",
    "\n",
    "load_dotenv()\n",
    "\n",
    "puzzle = aocd.get_puzzle(day=24, year=2024)\n",
    "text = puzzle.input_data\n",
    "examples = puzzle.examples\n",
    "print(examples)\n",
    "\n",
    "lines = text.splitlines()\n",
    "\n",
    "example = examples[0].input_data.splitlines()\n",
    "\n",
    "examples"
   ]
  },
  {
   "cell_type": "code",
   "execution_count": 1,
   "metadata": {},
   "outputs": [
    {
     "ename": "NameError",
     "evalue": "name 'examples' is not defined",
     "output_type": "error",
     "traceback": [
      "\u001b[0;31m---------------------------------------------------------------------------\u001b[0m",
      "\u001b[0;31mNameError\u001b[0m                                 Traceback (most recent call last)",
      "Cell \u001b[0;32mIn[1], line 1\u001b[0m\n\u001b[0;32m----> 1\u001b[0m text \u001b[38;5;241m=\u001b[39m \u001b[43mexamples\u001b[49m[\u001b[38;5;241m0\u001b[39m]\u001b[38;5;241m.\u001b[39minput_data\n\u001b[1;32m      2\u001b[0m lines \u001b[38;5;241m=\u001b[39m text\u001b[38;5;241m.\u001b[39msplitlines()\n\u001b[1;32m      4\u001b[0m example\u001b[38;5;241m=\u001b[39m\u001b[38;5;124m\"\"\"\u001b[39m\u001b[38;5;124mx00: 1\u001b[39m\n\u001b[1;32m      5\u001b[0m \u001b[38;5;124mx01: 0\u001b[39m\n\u001b[1;32m      6\u001b[0m \u001b[38;5;124mx02: 1\u001b[39m\n\u001b[0;32m   (...)\u001b[0m\n\u001b[1;32m     49\u001b[0m \u001b[38;5;124mtgd XOR rvg -> z12\u001b[39m\n\u001b[1;32m     50\u001b[0m \u001b[38;5;124mtnw OR pbm -> gnj\u001b[39m\u001b[38;5;124m\"\"\"\u001b[39m\n",
      "\u001b[0;31mNameError\u001b[0m: name 'examples' is not defined"
     ]
    }
   ],
   "source": [
    "text = examples[0].input_data\n",
    "lines = text.splitlines()\n",
    "\n",
    "example=\"\"\"x00: 1\n",
    "x01: 0\n",
    "x02: 1\n",
    "x03: 1\n",
    "x04: 0\n",
    "y00: 1\n",
    "y01: 1\n",
    "y02: 1\n",
    "y03: 1\n",
    "y04: 1\n",
    "\n",
    "ntg XOR fgs -> mjb\n",
    "y02 OR x01 -> tnw\n",
    "kwq OR kpj -> z05\n",
    "x00 OR x03 -> fst\n",
    "tgd XOR rvg -> z01\n",
    "vdt OR tnw -> bfw\n",
    "bfw AND frj -> z10\n",
    "ffh OR nrd -> bqk\n",
    "y00 AND y03 -> djm\n",
    "y03 OR y00 -> psh\n",
    "bqk OR frj -> z08\n",
    "tnw OR fst -> frj\n",
    "gnj AND tgd -> z11\n",
    "bfw XOR mjb -> z00\n",
    "x03 OR x00 -> vdt\n",
    "gnj AND wpb -> z02\n",
    "x04 AND y00 -> kjc\n",
    "djm OR pbm -> qhw\n",
    "nrd AND vdt -> hwm\n",
    "kjc AND fst -> rvg\n",
    "y04 OR y02 -> fgs\n",
    "y01 AND x02 -> pbm\n",
    "ntg OR kjc -> kwq\n",
    "psh XOR fgs -> tgd\n",
    "qhw XOR tgd -> z09\n",
    "pbm OR djm -> kpj\n",
    "x03 XOR y03 -> ffh\n",
    "x00 XOR y04 -> ntg\n",
    "bfw OR bqk -> z06\n",
    "nrd XOR fgs -> wpb\n",
    "frj XOR qhw -> z04\n",
    "bqk OR frj -> z07\n",
    "y03 OR x01 -> nrd\n",
    "hwm AND bqk -> z03\n",
    "tgd XOR rvg -> z12\n",
    "tnw OR pbm -> gnj\"\"\"\n",
    "\n",
    "\n",
    "text = example"
   ]
  },
  {
   "cell_type": "code",
   "execution_count": 3,
   "metadata": {},
   "outputs": [
    {
     "name": "stdout",
     "output_type": "stream",
     "text": [
      "[('z45', 1), ('z44', 1), ('z43', 0), ('z42', 1), ('z41', 0), ('z40', 1), ('z39', 0), ('z38', 1), ('z37', 1), ('z36', 0), ('z35', 1), ('z34', 1), ('z33', 0), ('z32', 0), ('z31', 1), ('z30', 0), ('z29', 0), ('z28', 1), ('z27', 1), ('z26', 1), ('z25', 0), ('z24', 0), ('z23', 0), ('z22', 1), ('z21', 0), ('z20', 0), ('z19', 1), ('z18', 0), ('z17', 0), ('z16', 0), ('z15', 0), ('z14', 0), ('z13', 0), ('z12', 0), ('z11', 0), ('z10', 1), ('z09', 1), ('z08', 0), ('z07', 1), ('z06', 1), ('z05', 1), ('z04', 0), ('z03', 0), ('z02', 1), ('z01', 1), ('z00', 0)]\n"
     ]
    }
   ],
   "source": [
    "g = nx.DiGraph()\n",
    "\n",
    "init, graph = text.split(\"\\n\\n\")\n",
    "\n",
    "val = {}\n",
    "ops = {}\n",
    "\n",
    "for l in init.splitlines():\n",
    "    k, v = l.split(\": \")\n",
    "    val[k] = int(v)\n",
    "    g.add_node(k)\n",
    "\n",
    "\n",
    "for l in graph.splitlines():\n",
    "    a, op, b, _, c = l.split()\n",
    "    g.add_edge(a, c)\n",
    "    g.add_edge(b, c)\n",
    "    ops[c] = op\n",
    "\n",
    "for n in nx.topological_sort(g):\n",
    "    if n in val:\n",
    "        continue\n",
    "\n",
    "    p1, p2 = g.predecessors(n)\n",
    "    op = ops[n]\n",
    "    if op == \"XOR\":\n",
    "        val[n] = val[p1] ^ val[p2]\n",
    "    if op == \"AND\":\n",
    "        val[n] = val[p1] & val[p2]\n",
    "    if op == \"OR\":\n",
    "        val[n] = val[p1] | val[p2]\n",
    "\n",
    "zs = sorted([(k, v) for k, v in val.items() if k.startswith(\"z\")], reverse=True)\n",
    "print(zs)\n",
    "s = int(\"\".join(str(v) for k, v in zs), 2)\n"
   ]
  },
  {
   "cell_type": "code",
   "execution_count": null,
   "metadata": {},
   "outputs": [
    {
     "data": {
      "text/plain": [
       "1600000000"
      ]
     },
     "execution_count": 7,
     "metadata": {},
     "output_type": "execute_result"
    }
   ],
   "source": []
  },
  {
   "cell_type": "code",
   "execution_count": 21,
   "metadata": {},
   "outputs": [
    {
     "data": {
      "text/plain": [
       "58740594706150"
      ]
     },
     "execution_count": 21,
     "metadata": {},
     "output_type": "execute_result"
    }
   ],
   "source": [
    "s"
   ]
  },
  {
   "cell_type": "code",
   "execution_count": 22,
   "metadata": {},
   "outputs": [
    {
     "name": "stdout",
     "output_type": "stream",
     "text": [
      "\u001b[32mThat's the right answer!  You are one gold star closer to finding the Chief Historian. [Continue to Part Two]\u001b[0m\n"
     ]
    },
    {
     "data": {
      "text/plain": [
       "<urllib3.response.HTTPResponse at 0x7e10142c5480>"
      ]
     },
     "execution_count": 22,
     "metadata": {},
     "output_type": "execute_result"
    },
    {
     "name": "stderr",
     "output_type": "stream",
     "text": [
      "Gtk-Message: 13:17:08.738: Not loading module \"atk-bridge\": The functionality is provided by GTK natively. Please try to not load it.\n"
     ]
    }
   ],
   "source": [
    "aocd.submit(s, day=24, year=2024, part=\"a\")"
   ]
  },
  {
   "cell_type": "code",
   "execution_count": null,
   "metadata": {},
   "outputs": [],
   "source": []
  }
 ],
 "metadata": {
  "kernelspec": {
   "display_name": "aoc24-GOpwAQwM-py3.12",
   "language": "python",
   "name": "python3"
  },
  "language_info": {
   "codemirror_mode": {
    "name": "ipython",
    "version": 3
   },
   "file_extension": ".py",
   "mimetype": "text/x-python",
   "name": "python",
   "nbconvert_exporter": "python",
   "pygments_lexer": "ipython3",
   "version": "3.12.7"
  }
 },
 "nbformat": 4,
 "nbformat_minor": 2
}
