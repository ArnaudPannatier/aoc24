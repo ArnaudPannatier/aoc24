{
 "cells": [
  {
   "cell_type": "code",
   "execution_count": null,
   "metadata": {},
   "outputs": [
    {
     "name": "stdout",
     "output_type": "stream",
     "text": [
      "[Example(input_data='2333133121414131402', answer_a='1928', answer_b='2858', extra=None)]\n"
     ]
    },
    {
     "data": {
      "text/plain": [
       "'8567458267'"
      ]
     },
     "execution_count": 97,
     "metadata": {},
     "output_type": "execute_result"
    }
   ],
   "source": [
    "import aocd\n",
    "import re\n",
    "from dotenv import load_dotenv\n",
    "import numpy as np\n",
    "from tqdm import tqdm   \n",
    "import networkx as nx\n",
    "\n",
    "load_dotenv()\n",
    "\n",
    "puzzle = aocd.get_puzzle(day=10, year=2024)\n",
    "text = puzzle.input_data\n",
    "examples = puzzle.examples\n",
    "print(examples)\n",
    "\n",
    "lines = text.splitlines()\n",
    "\n",
    "example = examples[0].input_data.splitlines()\n",
    "\n",
    "text[-10:]\n"
   ]
  },
  {
   "cell_type": "code",
   "execution_count": 95,
   "metadata": {},
   "outputs": [
    {
     "name": "stdout",
     "output_type": "stream",
     "text": [
      "2333133121414131402\n"
     ]
    }
   ],
   "source": [
    "lines = example\n",
    "text = examples[0].input_data\n",
    "print(text)"
   ]
  },
  {
   "cell_type": "code",
   "execution_count": 100,
   "metadata": {},
   "outputs": [
    {
     "name": "stdout",
     "output_type": "stream",
     "text": [
      "9999 ✏\n",
      "6373055193464\n"
     ]
    }
   ],
   "source": [
    "\n",
    "def create_flat(text):\n",
    "    flat = \"\"\n",
    "    id = 0\n",
    "    ids = []\n",
    "    for i, c in enumerate(text):\n",
    "        if i % 2 == 1:\n",
    "            flat += int(c) * \"❌\"\n",
    "        else:\n",
    "            if id >= 0x10FFFF:\n",
    "                print(\"Overflow\")\n",
    "\n",
    "            ids.append(id)\n",
    "            flat += int(c) * chr(id)\n",
    "            id += 1\n",
    "\n",
    "    print(max(ids), chr(max(ids)))\n",
    "\n",
    "    return flat\n",
    "\n",
    "flat = create_flat(text)\n",
    "\n",
    "def p(l):\n",
    "    return \"\".join([str(ord(id)) if id != \"❌\" else \".\" for id in l])\n",
    "\n",
    "\n",
    "def move_size_to_space(flat, i, k, size):\n",
    "    if i+size>k:\n",
    "        raise ValueError\n",
    "\n",
    "    flat[i:i+size], flat[k:k+size] = flat[k:k+size], flat[i:i+size]\n",
    "    \n",
    "    \n",
    "def move_both_start_next_space(flat, i, j):\n",
    "    i, j = j+1, j+1\n",
    "    while flat[i] != \"❌\":\n",
    "        i += 1\n",
    "        \n",
    "    j = i\n",
    "    return i, j\n",
    "\n",
    "def move_j_to_end_of_space(flat, j):\n",
    "    while flat[j] == \"❌\":\n",
    "        j += 1\n",
    "        \n",
    "    return j\n",
    "\n",
    "def move_both_to_end_of_size(flat, k, l):\n",
    "    k -= 1\n",
    "    while flat[k] == \"❌\":\n",
    "        k -= 1\n",
    "    \n",
    "    l = k\n",
    "    return k, l+1\n",
    "\n",
    "def move_k_beginning_of_size(flat, k):\n",
    "    cur_char = flat[k]\n",
    "    while flat[k] == cur_char:\n",
    "        k -= 1\n",
    "        \n",
    "    return k+1\n",
    "\n",
    "\n",
    "def unroll(flat):\n",
    "    flat = list(flat)\n",
    "    i, j, k, l = 0, 0, len(flat)-1, len(flat)\n",
    "    k = move_k_beginning_of_size(flat, k)\n",
    "    size = l-k\n",
    "    while k > 0:\n",
    "\n",
    "        while j <= k:\n",
    "            i, j = move_both_start_next_space(flat, i, j)\n",
    "            if j > k:\n",
    "                break\n",
    "            j = move_j_to_end_of_space(flat, j)\n",
    "            if j > k:\n",
    "                break\n",
    "\n",
    "            space = j - i\n",
    "\n",
    "\n",
    "\n",
    "            if space >= size:\n",
    "                move_size_to_space(flat, i, k, size)\n",
    "                break\n",
    "\n",
    "        i, j = 0,0\n",
    "        k, l = move_both_to_end_of_size(flat, k, l)\n",
    "        k = move_k_beginning_of_size(flat, k)\n",
    "        size = l-k\n",
    "                \n",
    "\n",
    "    return \"\".join(flat), i\n",
    "\n",
    "flat, j = unroll(flat)\n",
    "\n",
    "def checksum(flat):\n",
    "    return sum([i*int(ord(id)) for i, id in enumerate(flat) if id != \"❌\"])\n",
    "\n",
    "s = checksum(flat)\n",
    "\n",
    "\n",
    "print(s)"
   ]
  },
  {
   "cell_type": "markdown",
   "metadata": {},
   "source": [
    "b : 6373055449881\n",
    "\n",
    "a :6344231241219"
   ]
  },
  {
   "cell_type": "code",
   "execution_count": 83,
   "metadata": {},
   "outputs": [
    {
     "data": {
      "text/plain": [
       "6373055449881"
      ]
     },
     "execution_count": 83,
     "metadata": {},
     "output_type": "execute_result"
    }
   ],
   "source": [
    "s"
   ]
  },
  {
   "cell_type": "code",
   "execution_count": 101,
   "metadata": {},
   "outputs": [
    {
     "name": "stderr",
     "output_type": "stream",
     "text": [
      "answer a: 6346871685398\n",
      "submitting for part b (part a is already completed)\n"
     ]
    },
    {
     "name": "stdout",
     "output_type": "stream",
     "text": [
      "\u001b[32mThat's the right answer!  You are one gold star closer to finding the Chief Historian.You have completed Day 9! You can [Shareon\n",
      "  Bluesky\n",
      "Twitter\n",
      "Mastodon] this victory or [Return to Your Advent Calendar].\u001b[0m\n"
     ]
    },
    {
     "data": {
      "text/plain": [
       "<urllib3.response.HTTPResponse at 0x7ec3c6b9d360>"
      ]
     },
     "execution_count": 101,
     "metadata": {},
     "output_type": "execute_result"
    },
    {
     "name": "stderr",
     "output_type": "stream",
     "text": [
      "Gtk-Message: 17:19:33.429: Not loading module \"atk-bridge\": The functionality is provided by GTK natively. Please try to not load it.\n"
     ]
    }
   ],
   "source": [
    "aocd.submit(s, day=9, year=2024)"
   ]
  },
  {
   "cell_type": "code",
   "execution_count": 16,
   "metadata": {},
   "outputs": [
    {
     "data": {
      "text/plain": [
       "90273982836"
      ]
     },
     "execution_count": 16,
     "metadata": {},
     "output_type": "execute_result"
    }
   ],
   "source": [
    "s"
   ]
  },
  {
   "cell_type": "code",
   "execution_count": null,
   "metadata": {},
   "outputs": [
    {
     "data": {
      "text/plain": [
       "'Ϩ'"
      ]
     },
     "execution_count": 27,
     "metadata": {},
     "output_type": "execute_result"
    }
   ],
   "source": []
  },
  {
   "cell_type": "code",
   "execution_count": null,
   "metadata": {},
   "outputs": [],
   "source": []
  }
 ],
 "metadata": {
  "kernelspec": {
   "display_name": "aoc24-TyiyelMA-py3.12",
   "language": "python",
   "name": "python3"
  },
  "language_info": {
   "codemirror_mode": {
    "name": "ipython",
    "version": 3
   },
   "file_extension": ".py",
   "mimetype": "text/x-python",
   "name": "python",
   "nbconvert_exporter": "python",
   "pygments_lexer": "ipython3",
   "version": "3.12.7"
  }
 },
 "nbformat": 4,
 "nbformat_minor": 2
}
