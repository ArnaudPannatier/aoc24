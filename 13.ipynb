{
 "cells": [
  {
   "cell_type": "code",
   "execution_count": 82,
   "metadata": {},
   "outputs": [
    {
     "name": "stdout",
     "output_type": "stream",
     "text": [
      "[Example(input_data='Button A: X+94, Y+34\\nButton B: X+22, Y+67\\nPrize: X=8400, Y=5400\\n\\nButton A: X+26, Y+66\\nButton B: X+67, Y+21\\nPrize: X=12748, Y=12176\\n\\nButton A: X+17, Y+86\\nButton B: X+84, Y+37\\nPrize: X=7870, Y=6450\\n\\nButton A: X+69, Y+23\\nButton B: X+27, Y+71\\nPrize: X=18641, Y=10279', answer_a='100', answer_b=None, extra=None)]\n"
     ]
    },
    {
     "data": {
      "text/plain": [
       "['Button A: X+94, Y+34',\n",
       " 'Button B: X+22, Y+67',\n",
       " 'Prize: X=8400, Y=5400',\n",
       " '',\n",
       " 'Button A: X+26, Y+66',\n",
       " 'Button B: X+67, Y+21',\n",
       " 'Prize: X=12748, Y=12176',\n",
       " '',\n",
       " 'Button A: X+17, Y+86',\n",
       " 'Button B: X+84, Y+37',\n",
       " 'Prize: X=7870, Y=6450',\n",
       " '',\n",
       " 'Button A: X+69, Y+23',\n",
       " 'Button B: X+27, Y+71',\n",
       " 'Prize: X=18641, Y=10279']"
      ]
     },
     "execution_count": 82,
     "metadata": {},
     "output_type": "execute_result"
    }
   ],
   "source": [
    "import aocd\n",
    "import re\n",
    "from dotenv import load_dotenv\n",
    "import numpy as np\n",
    "from tqdm import tqdm\n",
    "import networkx as nx\n",
    "\n",
    "load_dotenv()\n",
    "\n",
    "puzzle = aocd.get_puzzle(day=13, year=2024)\n",
    "text = puzzle.input_data\n",
    "examples = puzzle.examples\n",
    "print(examples)\n",
    "\n",
    "lines = text.splitlines()\n",
    "\n",
    "example = examples[0].input_data.splitlines()\n",
    "\n",
    "example\n"
   ]
  },
  {
   "cell_type": "code",
   "execution_count": 71,
   "metadata": {},
   "outputs": [],
   "source": [
    "lines = example\n",
    "text = examples[0].input_data"
   ]
  },
  {
   "cell_type": "code",
   "execution_count": 83,
   "metadata": {},
   "outputs": [],
   "source": [
    "import re\n",
    "import numpy as np\n",
    "\n",
    "\n",
    "bas = [np.array(tuple(map(int, re.findall(r'\\d+', ll)))) for ll in lines if ll.startswith('Button A:')]\n",
    "bbs = [np.array(tuple(map(int, re.findall(r'\\d+', ll)))) for ll in lines if ll.startswith('Button B:')]\n",
    "ps = [np.array(tuple(map(int, re.findall(r'\\d+', ll)))) for ll in lines if ll.startswith('Prize:')]\n"
   ]
  },
  {
   "cell_type": "code",
   "execution_count": 86,
   "metadata": {},
   "outputs": [
    {
     "name": "stdout",
     "output_type": "stream",
     "text": [
      "(40, 96)\n",
      "(97, 59)\n",
      "(27, 58)\n",
      "(66, 15)\n",
      "(69, 90)\n",
      "(66, 53)\n",
      "(16, 81)\n",
      "(25, 15)\n",
      "(26, 93)\n",
      "(43, 96)\n",
      "(15, 85)\n",
      "(20, 38)\n",
      "(21, 97)\n",
      "(59, 18)\n",
      "(20, 61)\n",
      "(67, 62)\n",
      "(80, 68)\n",
      "(13, 55)\n",
      "(16, 31)\n",
      "(80, 26)\n",
      "(36, 73)\n",
      "(47, 85)\n",
      "(92, 32)\n",
      "(81, 36)\n",
      "(47, 56)\n",
      "(56, 66)\n",
      "(61, 38)\n",
      "(36, 68)\n",
      "(25, 44)\n",
      "(44, 43)\n",
      "(57, 7)\n",
      "(61, 59)\n",
      "(57, 12)\n",
      "(98, 17)\n",
      "(83, 30)\n",
      "(93, 69)\n",
      "(76, 23)\n",
      "(46, 99)\n",
      "(16, 94)\n",
      "(44, 22)\n",
      "(67, 7)\n",
      "(41, 12)\n",
      "(27, 27)\n",
      "(73, 98)\n",
      "(78, 90)\n",
      "(47, 27)\n",
      "(14, 77)\n",
      "(53, 66)\n",
      "(93, 48)\n",
      "(25, 52)\n",
      "(42, 10)\n",
      "(49, 13)\n",
      "(36, 16)\n",
      "(81, 6)\n",
      "(92, 38)\n",
      "(34, 12)\n",
      "(93, 26)\n",
      "(37, 64)\n",
      "(68, 39)\n",
      "(25, 35)\n",
      "(27, 79)\n",
      "(23, 96)\n",
      "(39, 58)\n",
      "(96, 90)\n",
      "(32, 60)\n",
      "(37, 11)\n",
      "(47, 91)\n",
      "(11, 66)\n",
      "(71, 54)\n",
      "(4, 14)\n",
      "(92, 46)\n",
      "(55, 33)\n",
      "(35, 15)\n",
      "(15, 87)\n",
      "(54, 61)\n",
      "(97, 55)\n",
      "(73, 89)\n",
      "(12, 41)\n",
      "(7, 56)\n",
      "(5, 7)\n",
      "(93, 76)\n",
      "(35, 68)\n",
      "(34, 13)\n",
      "(41, 41)\n",
      "(73, 48)\n",
      "(3, 68)\n",
      "(83, 77)\n",
      "(6, 21)\n",
      "(67, 27)\n",
      "(9, 57)\n",
      "(63, 67)\n",
      "(23, 63)\n",
      "(85, 30)\n",
      "(51, 41)\n",
      "(86, 36)\n",
      "(91, 43)\n",
      "(52, 28)\n",
      "(31, 49)\n",
      "(40, 30)\n",
      "(7, 87)\n",
      "(44, 15)\n",
      "(52, 49)\n",
      "(5, 84)\n",
      "(31, 19)\n",
      "(16, 58)\n",
      "(70, 79)\n",
      "(21, 24)\n",
      "(61, 40)\n",
      "(54, 68)\n",
      "(49, 29)\n",
      "(95, 35)\n",
      "(22, 69)\n",
      "(59, 26)\n",
      "(47, 74)\n",
      "(15, 69)\n",
      "(98, 79)\n",
      "(69, 80)\n",
      "(9, 64)\n",
      "(16, 84)\n",
      "(71, 55)\n",
      "(85, 27)\n",
      "(34, 75)\n",
      "(21, 89)\n",
      "(77, 42)\n",
      "(25, 67)\n",
      "(11, 53)\n",
      "(29, 25)\n",
      "(53, 55)\n",
      "(18, 99)\n",
      "(43, 78)\n",
      "(29, 21)\n",
      "(44, 56)\n",
      "(18, 96)\n",
      "(74, 81)\n",
      "(53, 63)\n",
      "26299\n"
     ]
    }
   ],
   "source": [
    "\n",
    "total = 0\n",
    "for a,b, p in zip(bas, bbs, ps):\n",
    "    sols = []\n",
    "    for i in range(100):\n",
    "        for j in range(100):\n",
    "            if ((i * a + j * b) == p).all():\n",
    "                cost = 3*i +j \n",
    "                sols.append((cost, (i,j)))\n",
    "    if len(sols) > 0:\n",
    "        total += min(sols)[0]\n",
    "        print(min(sols)[1])\n",
    "\n",
    "print(total)\n",
    "\n",
    "\n",
    "    \n",
    "\n"
   ]
  },
  {
   "cell_type": "code",
   "execution_count": 20,
   "metadata": {},
   "outputs": [
    {
     "name": "stderr",
     "output_type": "stream",
     "text": [
      "answer a: None\n",
      "submitting for part a\n"
     ]
    },
    {
     "name": "stdout",
     "output_type": "stream",
     "text": [
      "\u001b[32mThat's the right answer!  You are one gold star closer to finding the Chief Historian. [Continue to Part Two]\u001b[0m\n"
     ]
    },
    {
     "data": {
      "text/plain": [
       "<urllib3.response.HTTPResponse at 0x7deee4593970>"
      ]
     },
     "execution_count": 20,
     "metadata": {},
     "output_type": "execute_result"
    },
    {
     "name": "stderr",
     "output_type": "stream",
     "text": [
      "Gtk-Message: 07:28:22.929: Not loading module \"atk-bridge\": The functionality is provided by GTK natively. Please try to not load it.\n"
     ]
    }
   ],
   "source": [
    "aocd.submit(total, day=13, year=2024)"
   ]
  },
  {
   "cell_type": "code",
   "execution_count": null,
   "metadata": {},
   "outputs": [
    {
     "name": "stderr",
     "output_type": "stream",
     "text": [
      "0it [00:00, ?it/s]"
     ]
    },
    {
     "name": "stdout",
     "output_type": "stream",
     "text": [
      "2876869969\n"
     ]
    },
    {
     "name": "stderr",
     "output_type": "stream",
     "text": [
      "0it [00:43, ?it/s]\n"
     ]
    },
    {
     "ename": "KeyboardInterrupt",
     "evalue": "",
     "output_type": "error",
     "traceback": [
      "\u001b[0;31m---------------------------------------------------------------------------\u001b[0m",
      "\u001b[0;31mKeyboardInterrupt\u001b[0m                         Traceback (most recent call last)",
      "Cell \u001b[0;32mIn[63], line 39\u001b[0m\n\u001b[1;32m     37\u001b[0m \u001b[38;5;28msum\u001b[39m \u001b[38;5;241m=\u001b[39m \u001b[38;5;241m0\u001b[39m\n\u001b[1;32m     38\u001b[0m \u001b[38;5;28;01mfor\u001b[39;00m a,b,c \u001b[38;5;129;01min\u001b[39;00m tqdm(\u001b[38;5;28mzip\u001b[39m(bas, bbs, ps)):\n\u001b[0;32m---> 39\u001b[0m     \u001b[38;5;28msum\u001b[39m \u001b[38;5;241m+\u001b[39m\u001b[38;5;241m=\u001b[39m \u001b[43msolve\u001b[49m\u001b[43m(\u001b[49m\u001b[43ma\u001b[49m\u001b[43m,\u001b[49m\u001b[43mb\u001b[49m\u001b[43m,\u001b[49m\u001b[43mc\u001b[49m\u001b[43m)\u001b[49m\n\u001b[1;32m     41\u001b[0m \u001b[38;5;28mprint\u001b[39m(\u001b[38;5;28msum\u001b[39m)\n",
      "Cell \u001b[0;32mIn[63], line 28\u001b[0m, in \u001b[0;36msolve\u001b[0;34m(a, b, c)\u001b[0m\n\u001b[1;32m     27\u001b[0m \u001b[38;5;28;01mdef\u001b[39;00m \u001b[38;5;21msolve\u001b[39m(a,b,c):\n\u001b[0;32m---> 28\u001b[0m     sols1 \u001b[38;5;241m=\u001b[39m \u001b[43msolve1\u001b[49m\u001b[43m(\u001b[49m\u001b[43ma\u001b[49m\u001b[43m[\u001b[49m\u001b[38;5;241;43m0\u001b[39;49m\u001b[43m]\u001b[49m\u001b[43m,\u001b[49m\u001b[43mb\u001b[49m\u001b[43m[\u001b[49m\u001b[38;5;241;43m0\u001b[39;49m\u001b[43m]\u001b[49m\u001b[43m,\u001b[49m\u001b[43mc\u001b[49m\u001b[43m[\u001b[49m\u001b[38;5;241;43m0\u001b[39;49m\u001b[43m]\u001b[49m\u001b[38;5;241;43m+\u001b[39;49m\u001b[38;5;241;43m10000000000000\u001b[39;49m\u001b[43m)\u001b[49m\n\u001b[1;32m     29\u001b[0m     sols2 \u001b[38;5;241m=\u001b[39m solve1(a[\u001b[38;5;241m1\u001b[39m],b[\u001b[38;5;241m1\u001b[39m],c[\u001b[38;5;241m1\u001b[39m]\u001b[38;5;241m+\u001b[39m\u001b[38;5;241m10000000000000\u001b[39m)\n\u001b[1;32m     30\u001b[0m     sols \u001b[38;5;241m=\u001b[39m sols1\u001b[38;5;241m.\u001b[39mintersection(sols2)\n",
      "Cell \u001b[0;32mIn[63], line 21\u001b[0m, in \u001b[0;36msolve1\u001b[0;34m(a, b, c)\u001b[0m\n\u001b[1;32m     19\u001b[0m \u001b[38;5;28mprint\u001b[39m(ceil(inter\u001b[38;5;241m.\u001b[39msup) \u001b[38;5;241m-\u001b[39m floor(inter\u001b[38;5;241m.\u001b[39minf))\n\u001b[1;32m     20\u001b[0m \u001b[38;5;28;01mfor\u001b[39;00m i \u001b[38;5;129;01min\u001b[39;00m \u001b[38;5;28mrange\u001b[39m(floor(inter\u001b[38;5;241m.\u001b[39minf), ceil(inter\u001b[38;5;241m.\u001b[39msup)):\n\u001b[0;32m---> 21\u001b[0m     xx,yy \u001b[38;5;241m=\u001b[39m s0\u001b[38;5;241m.\u001b[39msubs(t0, i), \u001b[43ms1\u001b[49m\u001b[38;5;241;43m.\u001b[39;49m\u001b[43msubs\u001b[49m\u001b[43m(\u001b[49m\u001b[43mt0\u001b[49m\u001b[43m,\u001b[49m\u001b[43m \u001b[49m\u001b[43mi\u001b[49m\u001b[43m)\u001b[49m\n\u001b[1;32m     22\u001b[0m     \u001b[38;5;28;01mif\u001b[39;00m xx \u001b[38;5;241m>\u001b[39m\u001b[38;5;241m=\u001b[39m \u001b[38;5;241m0\u001b[39m \u001b[38;5;129;01mand\u001b[39;00m yy \u001b[38;5;241m>\u001b[39m\u001b[38;5;241m=\u001b[39m \u001b[38;5;241m0\u001b[39m:\n\u001b[1;32m     23\u001b[0m         sols\u001b[38;5;241m.\u001b[39madd((xx,yy))\n",
      "File \u001b[0;32m~/.cache/pypoetry/virtualenvs/aoc24-GOpwAQwM-py3.12/lib/python3.12/site-packages/sympy/core/basic.py:1123\u001b[0m, in \u001b[0;36mBasic.subs\u001b[0;34m(self, *args, **kwargs)\u001b[0m\n\u001b[1;32m   1121\u001b[0m rv \u001b[38;5;241m=\u001b[39m \u001b[38;5;28mself\u001b[39m\n\u001b[1;32m   1122\u001b[0m \u001b[38;5;28;01mfor\u001b[39;00m old, new \u001b[38;5;129;01min\u001b[39;00m sequence:\n\u001b[0;32m-> 1123\u001b[0m     rv \u001b[38;5;241m=\u001b[39m \u001b[43mrv\u001b[49m\u001b[38;5;241;43m.\u001b[39;49m\u001b[43m_subs\u001b[49m\u001b[43m(\u001b[49m\u001b[43mold\u001b[49m\u001b[43m,\u001b[49m\u001b[43m \u001b[49m\u001b[43mnew\u001b[49m\u001b[43m,\u001b[49m\u001b[43m \u001b[49m\u001b[38;5;241;43m*\u001b[39;49m\u001b[38;5;241;43m*\u001b[39;49m\u001b[43mkwargs\u001b[49m\u001b[43m)\u001b[49m\n\u001b[1;32m   1124\u001b[0m     \u001b[38;5;28;01mif\u001b[39;00m \u001b[38;5;129;01mnot\u001b[39;00m \u001b[38;5;28misinstance\u001b[39m(rv, Basic):\n\u001b[1;32m   1125\u001b[0m         \u001b[38;5;28;01mbreak\u001b[39;00m\n",
      "File \u001b[0;32m~/.cache/pypoetry/virtualenvs/aoc24-GOpwAQwM-py3.12/lib/python3.12/site-packages/sympy/core/cache.py:72\u001b[0m, in \u001b[0;36m__cacheit.<locals>.func_wrapper.<locals>.wrapper\u001b[0;34m(*args, **kwargs)\u001b[0m\n\u001b[1;32m     69\u001b[0m \u001b[38;5;129m@wraps\u001b[39m(func)\n\u001b[1;32m     70\u001b[0m \u001b[38;5;28;01mdef\u001b[39;00m \u001b[38;5;21mwrapper\u001b[39m(\u001b[38;5;241m*\u001b[39margs, \u001b[38;5;241m*\u001b[39m\u001b[38;5;241m*\u001b[39mkwargs):\n\u001b[1;32m     71\u001b[0m     \u001b[38;5;28;01mtry\u001b[39;00m:\n\u001b[0;32m---> 72\u001b[0m         retval \u001b[38;5;241m=\u001b[39m \u001b[43mcfunc\u001b[49m\u001b[43m(\u001b[49m\u001b[38;5;241;43m*\u001b[39;49m\u001b[43margs\u001b[49m\u001b[43m,\u001b[49m\u001b[43m \u001b[49m\u001b[38;5;241;43m*\u001b[39;49m\u001b[38;5;241;43m*\u001b[39;49m\u001b[43mkwargs\u001b[49m\u001b[43m)\u001b[49m\n\u001b[1;32m     73\u001b[0m     \u001b[38;5;28;01mexcept\u001b[39;00m \u001b[38;5;167;01mTypeError\u001b[39;00m \u001b[38;5;28;01mas\u001b[39;00m e:\n\u001b[1;32m     74\u001b[0m         \u001b[38;5;28;01mif\u001b[39;00m \u001b[38;5;129;01mnot\u001b[39;00m e\u001b[38;5;241m.\u001b[39margs \u001b[38;5;129;01mor\u001b[39;00m \u001b[38;5;129;01mnot\u001b[39;00m e\u001b[38;5;241m.\u001b[39margs[\u001b[38;5;241m0\u001b[39m]\u001b[38;5;241m.\u001b[39mstartswith(\u001b[38;5;124m'\u001b[39m\u001b[38;5;124munhashable type:\u001b[39m\u001b[38;5;124m'\u001b[39m):\n",
      "File \u001b[0;32m~/.cache/pypoetry/virtualenvs/aoc24-GOpwAQwM-py3.12/lib/python3.12/site-packages/sympy/core/basic.py:1237\u001b[0m, in \u001b[0;36mBasic._subs\u001b[0;34m(self, old, new, **hints)\u001b[0m\n\u001b[1;32m   1235\u001b[0m rv \u001b[38;5;241m=\u001b[39m \u001b[38;5;28mself\u001b[39m\u001b[38;5;241m.\u001b[39m_eval_subs(old, new)\n\u001b[1;32m   1236\u001b[0m \u001b[38;5;28;01mif\u001b[39;00m rv \u001b[38;5;129;01mis\u001b[39;00m \u001b[38;5;28;01mNone\u001b[39;00m:\n\u001b[0;32m-> 1237\u001b[0m     rv \u001b[38;5;241m=\u001b[39m \u001b[43mfallback\u001b[49m\u001b[43m(\u001b[49m\u001b[38;5;28;43mself\u001b[39;49m\u001b[43m,\u001b[49m\u001b[43m \u001b[49m\u001b[43mold\u001b[49m\u001b[43m,\u001b[49m\u001b[43m \u001b[49m\u001b[43mnew\u001b[49m\u001b[43m)\u001b[49m\n\u001b[1;32m   1238\u001b[0m \u001b[38;5;28;01mreturn\u001b[39;00m rv\n",
      "File \u001b[0;32m~/.cache/pypoetry/virtualenvs/aoc24-GOpwAQwM-py3.12/lib/python3.12/site-packages/sympy/core/basic.py:1209\u001b[0m, in \u001b[0;36mBasic._subs.<locals>.fallback\u001b[0;34m(self, old, new)\u001b[0m\n\u001b[1;32m   1207\u001b[0m \u001b[38;5;28;01mif\u001b[39;00m \u001b[38;5;129;01mnot\u001b[39;00m \u001b[38;5;28mhasattr\u001b[39m(arg, \u001b[38;5;124m'\u001b[39m\u001b[38;5;124m_eval_subs\u001b[39m\u001b[38;5;124m'\u001b[39m):\n\u001b[1;32m   1208\u001b[0m     \u001b[38;5;28;01mcontinue\u001b[39;00m\n\u001b[0;32m-> 1209\u001b[0m arg \u001b[38;5;241m=\u001b[39m \u001b[43marg\u001b[49m\u001b[38;5;241;43m.\u001b[39;49m\u001b[43m_subs\u001b[49m\u001b[43m(\u001b[49m\u001b[43mold\u001b[49m\u001b[43m,\u001b[49m\u001b[43m \u001b[49m\u001b[43mnew\u001b[49m\u001b[43m,\u001b[49m\u001b[43m \u001b[49m\u001b[38;5;241;43m*\u001b[39;49m\u001b[38;5;241;43m*\u001b[39;49m\u001b[43mhints\u001b[49m\u001b[43m)\u001b[49m\n\u001b[1;32m   1210\u001b[0m \u001b[38;5;28;01mif\u001b[39;00m \u001b[38;5;129;01mnot\u001b[39;00m _aresame(arg, args[i]):\n\u001b[1;32m   1211\u001b[0m     hit \u001b[38;5;241m=\u001b[39m \u001b[38;5;28;01mTrue\u001b[39;00m\n",
      "File \u001b[0;32m~/.cache/pypoetry/virtualenvs/aoc24-GOpwAQwM-py3.12/lib/python3.12/site-packages/sympy/core/cache.py:69\u001b[0m, in \u001b[0;36m__cacheit.<locals>.func_wrapper.<locals>.wrapper\u001b[0;34m(*args, **kwargs)\u001b[0m\n\u001b[1;32m     66\u001b[0m \u001b[38;5;28;01mdef\u001b[39;00m \u001b[38;5;21mfunc_wrapper\u001b[39m(func):\n\u001b[1;32m     67\u001b[0m     cfunc \u001b[38;5;241m=\u001b[39m lru_cache(maxsize, typed\u001b[38;5;241m=\u001b[39m\u001b[38;5;28;01mTrue\u001b[39;00m)(func)\n\u001b[0;32m---> 69\u001b[0m     \u001b[38;5;129m@wraps\u001b[39m(func)\n\u001b[1;32m     70\u001b[0m     \u001b[38;5;28;01mdef\u001b[39;00m \u001b[38;5;21mwrapper\u001b[39m(\u001b[38;5;241m*\u001b[39margs, \u001b[38;5;241m*\u001b[39m\u001b[38;5;241m*\u001b[39mkwargs):\n\u001b[1;32m     71\u001b[0m         \u001b[38;5;28;01mtry\u001b[39;00m:\n\u001b[1;32m     72\u001b[0m             retval \u001b[38;5;241m=\u001b[39m cfunc(\u001b[38;5;241m*\u001b[39margs, \u001b[38;5;241m*\u001b[39m\u001b[38;5;241m*\u001b[39mkwargs)\n",
      "\u001b[0;31mKeyboardInterrupt\u001b[0m: "
     ]
    }
   ],
   "source": [
    "from sympy import diophantine, symbols, solve_univariate_inequality\n",
    "from math import floor, ceil\n",
    "from tqdm import tqdm\n",
    "a,b,c = bas[0][0], bbs[0][0], ps[0][0]\n",
    "\n",
    "def solve1(a,b,c):\n",
    "    x,y = symbols('x, y', integer=True)   \n",
    "    d = diophantine(a*x + b*y - c)\n",
    "    if len(d) == 0:\n",
    "        return set()\n",
    "\n",
    "    s0,s1 = d.pop()\n",
    "    t0 = symbols('t_0', integer=True)\n",
    "    i1 = solve_univariate_inequality(s0 >0, t0, relational=False)\n",
    "    i2 = solve_univariate_inequality(s1 >0, t0, relational=False)\n",
    "    inter = i1.intersection(i2)\n",
    "\n",
    "    sols = set()\n",
    "    print(ceil(inter.sup) - floor(inter.inf))\n",
    "    for i in range(floor(inter.inf), ceil(inter.sup)):\n",
    "        xx,yy = s0.subs(t0, i), s1.subs(t0, i)\n",
    "        if xx >= 0 and yy >= 0:\n",
    "            sols.add((xx,yy))\n",
    "\n",
    "    return sols\n",
    "\n",
    "def solve(a,b,c):\n",
    "    # sols1 = solve1(a[0],b[0],c[0]+10_000_000_000_000)\n",
    "    # sols2 = solve1(a[1],b[1],c[1]+10000000000000)\n",
    "    sols1 = solve1(a[0],b[0],c[0])\n",
    "    sols2 = solve1(a[1],b[1],c[1])\n",
    "    sols = sols1.intersection(sols2)\n",
    "\n",
    "    if len(sols) == 0:\n",
    "        return 0\n",
    "    \n",
    "    return min([3*x + y for x,y in sols])\n",
    "\n",
    "sum = 0\n",
    "for a,b,c in tqdm(zip(bas, bbs, ps)):\n",
    "    sum += solve(a,b,c)\n",
    "\n",
    "print(sum)\n"
   ]
  },
  {
   "cell_type": "code",
   "execution_count": 88,
   "metadata": {},
   "outputs": [
    {
     "name": "stderr",
     "output_type": "stream",
     "text": [
      "answer a: 26299\n",
      "submitting for part b (part a is already completed)\n"
     ]
    },
    {
     "name": "stdout",
     "output_type": "stream",
     "text": [
      "\u001b[32mThat's the right answer!  You are one gold star closer to finding the Chief Historian.You have completed Day 13! You can [Shareon\n",
      "  Bluesky\n",
      "Twitter\n",
      "Mastodon] this victory or [Return to Your Advent Calendar].\u001b[0m\n"
     ]
    },
    {
     "data": {
      "text/plain": [
       "<urllib3.response.HTTPResponse at 0x70a7d7968940>"
      ]
     },
     "execution_count": 88,
     "metadata": {},
     "output_type": "execute_result"
    },
    {
     "name": "stderr",
     "output_type": "stream",
     "text": [
      "Gtk-Message: 21:23:10.685: Not loading module \"atk-bridge\": The functionality is provided by GTK natively. Please try to not load it.\n"
     ]
    }
   ],
   "source": [
    "from sympy import diophantine, symbols, solve_univariate_inequality, linsolve\n",
    "from math import floor, ceil\n",
    "from tqdm import tqdm\n",
    "\n",
    "\n",
    "def solve(a,b,c):\n",
    "    x,y = symbols('x, y', integer=True)   \n",
    "    eq1 = a[0]*x + b[0]*y - c[0] - 10_000_000_000_000\n",
    "    eq2 = a[1]*x + b[1]*y - c[1] - 10_000_000_000_000\n",
    "    sol = linsolve([eq1, eq2], x, y)\n",
    "    if len(sol) == 0:\n",
    "        return 0\n",
    "    elif len(sol) == 1:\n",
    "        s0 = list(sol).pop()\n",
    "        if all(s.is_integer for s in s0):\n",
    "            return int(3*s0[0] + s0[1])\n",
    "    else:\n",
    "        raise ValueError('More than one solution')\n",
    "    return 0\n",
    "\n",
    "s = 0\n",
    "for a,b,c in zip(bas, bbs, ps):\n",
    "    s += solve(a,b,c)\n",
    "\n",
    "aocd.submit(s, day=13, year=2024)"
   ]
  },
  {
   "cell_type": "code",
   "execution_count": null,
   "metadata": {},
   "outputs": [],
   "source": []
  }
 ],
 "metadata": {
  "kernelspec": {
   "display_name": "aoc24-GOpwAQwM-py3.12",
   "language": "python",
   "name": "python3"
  },
  "language_info": {
   "codemirror_mode": {
    "name": "ipython",
    "version": 3
   },
   "file_extension": ".py",
   "mimetype": "text/x-python",
   "name": "python",
   "nbconvert_exporter": "python",
   "pygments_lexer": "ipython3",
   "version": "3.12.7"
  }
 },
 "nbformat": 4,
 "nbformat_minor": 2
}
