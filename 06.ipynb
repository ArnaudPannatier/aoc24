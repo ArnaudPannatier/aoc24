{
 "cells": [
  {
   "cell_type": "code",
   "execution_count": 4,
   "metadata": {},
   "outputs": [
    {
     "name": "stdout",
     "output_type": "stream",
     "text": [
      "[Example(input_data='....#.....\\n.........#\\n..........\\n..#.......\\n.......#..\\n..........\\n.#..^.....\\n........#.\\n#.........\\n......#...', answer_a='41', answer_b='6', extra=None)]\n"
     ]
    },
    {
     "data": {
      "text/plain": [
       "['....#.....',\n",
       " '.........#',\n",
       " '..........',\n",
       " '..#.......',\n",
       " '.......#..',\n",
       " '..........',\n",
       " '.#..^.....',\n",
       " '........#.',\n",
       " '#.........',\n",
       " '......#...']"
      ]
     },
     "execution_count": 4,
     "metadata": {},
     "output_type": "execute_result"
    }
   ],
   "source": [
    "import aocd\n",
    "import re\n",
    "from dotenv import load_dotenv\n",
    "import numpy as np\n",
    "from tqdm import tqdm   \n",
    "\n",
    "load_dotenv()\n",
    "\n",
    "puzzle = aocd.get_puzzle(day=6, year=2024)\n",
    "text = puzzle.input_data\n",
    "examples = puzzle.examples\n",
    "print(examples)\n",
    "\n",
    "lines = text.splitlines()\n",
    "\n",
    "example = examples[0].input_data.splitlines()\n",
    "\n",
    "example\n",
    "\n"
   ]
  },
  {
   "cell_type": "code",
   "execution_count": 2,
   "metadata": {},
   "outputs": [],
   "source": [
    "lines = example"
   ]
  },
  {
   "cell_type": "code",
   "execution_count": 5,
   "metadata": {},
   "outputs": [
    {
     "name": "stderr",
     "output_type": "stream",
     "text": [
      "100%|██████████| 5452/5452 [02:54<00:00, 31.22it/s]"
     ]
    },
    {
     "name": "stdout",
     "output_type": "stream",
     "text": [
      "2188\n"
     ]
    },
    {
     "name": "stderr",
     "output_type": "stream",
     "text": [
      "\n"
     ]
    }
   ],
   "source": [
    "\n",
    "arr = np.array([[c for c in line] for line in lines])\n",
    "\n",
    "start = np.hstack(np.where(arr == '^'))\n",
    "\n",
    "def direction_iterator():\n",
    "    while True:\n",
    "        yield np.array([-1, 0])\n",
    "        yield np.array([0, 1])\n",
    "        yield np.array([1, 0])\n",
    "        yield np.array([0, -1])\n",
    "\n",
    "it  = direction_iterator()\n",
    "\n",
    "def out_of_bounds(pos):\n",
    "    return pos[0] < 0 or pos[1] < 0 or pos[0] >= arr.shape[0] or pos[1] >= arr.shape[1]\n",
    "\n",
    "def next_is_wall(arr, pos, direction):\n",
    "    next_pos = pos + direction\n",
    "    if out_of_bounds(next_pos):\n",
    "        return False\n",
    "\n",
    "    return arr[*next_pos] == '#'\n",
    "\n",
    "def step(arr, pos, direction, it):\n",
    "    \n",
    "    arr[*pos] = 'X'\n",
    "    while next_is_wall(arr, pos, direction):\n",
    "        direction = next(it)\n",
    "    pos += direction\n",
    "    return arr, pos, direction\n",
    "\n",
    "def traverse(arr, start, direction):\n",
    "    pos = start.copy()\n",
    "    while not out_of_bounds(pos):\n",
    "        arr, pos, direction = step(arr, pos, direction)\n",
    "    return arr\n",
    "\n",
    "\n",
    "def candidates_pos(arr, start, direction, it):\n",
    "    pos = start.copy()\n",
    "    c = []\n",
    "    while not out_of_bounds(pos):\n",
    "        arr, pos, direction = step(arr, pos, direction, it)\n",
    "        c.append(tuple(map(int, pos)))\n",
    "    return c[:-1]\n",
    "\n",
    "\n",
    "\n",
    "\n",
    "def already_visited(pos, direction, visited_positions): \n",
    "    return tuple(map(int, pos)) +  tuple(map(int, direction)) in visited_positions\n",
    "\n",
    "\n",
    "def loop(arr, start, it):\n",
    "    visited_positions= set()\n",
    "\n",
    "    a = False\n",
    "    direction = next(it)\n",
    "\n",
    "    pos = start.copy()\n",
    "\n",
    "    s = 0\n",
    "    while not out_of_bounds(pos) and not a:\n",
    "        arr, pos, direction = step(arr, pos, direction, it)\n",
    "        a = already_visited(pos, direction, visited_positions)\n",
    "        visited_positions.add(tuple(map(int, pos)) +  tuple(map(int, direction)))\n",
    "        s+= 1\n",
    "\n",
    "    if a: \n",
    "        return True\n",
    "\n",
    "\n",
    "    return False\n",
    "\n",
    "\n",
    "\n",
    "arr = np.array([[c for c in line] for line in lines])\n",
    "start = np.hstack(np.where(arr == '^'))\n",
    "\n",
    "it = direction_iterator()\n",
    "\n",
    "candidates = set(candidates_pos(arr, start, next(it), it))\n",
    "arr = np.array([[c for c in line] for line in lines])\n",
    "start = np.hstack(np.where(arr == '^'))\n",
    "\n",
    "\n",
    "\n",
    "\n",
    "\n",
    "sum = 0\n",
    "\n",
    "for i,j in tqdm(candidates):\n",
    "    arr2 = arr.copy()\n",
    "    start = np.hstack(np.where(arr == '^'))\n",
    "    if arr2[i, j] == '#' or arr2[i, j] == '^':\n",
    "        continue\n",
    "\n",
    "\n",
    "    arr2[i, j] = '#'\n",
    "    it = direction_iterator()\n",
    "    \n",
    "    \n",
    "    if loop(arr2, start, it):\n",
    "        sum += 1\n",
    "\n",
    "print(sum)\n",
    "\n",
    "\n",
    "# aocd.submit(int((arr == \"X\").sum()), day=6, year=2024)\n"
   ]
  },
  {
   "cell_type": "code",
   "execution_count": 6,
   "metadata": {},
   "outputs": [
    {
     "name": "stderr",
     "output_type": "stream",
     "text": [
      "answer a: 5453\n",
      "submitting for part b (part a is already completed)\n"
     ]
    },
    {
     "name": "stdout",
     "output_type": "stream",
     "text": [
      "\u001b[32mThat's the right answer!  You are one gold star closer to finding the Chief Historian.You have completed Day 6! You can [Shareon\n",
      "  Bluesky\n",
      "Twitter\n",
      "Mastodon] this victory or [Return to Your Advent Calendar].\u001b[0m\n"
     ]
    },
    {
     "data": {
      "text/plain": [
       "<urllib3.response.HTTPResponse at 0x7c6b6ab02470>"
      ]
     },
     "execution_count": 6,
     "metadata": {},
     "output_type": "execute_result"
    },
    {
     "name": "stderr",
     "output_type": "stream",
     "text": [
      "[25422:25422:1206/105917.701401:ERROR:object_proxy.cc(576)] Failed to call method: org.freedesktop.portal.Secret.RetrieveSecret: object_path= /org/freedesktop/portal/desktop: org.freedesktop.DBus.Error.UnknownMethod: No such interface “org.freedesktop.portal.Secret” on object at path /org/freedesktop/portal/desktop\n",
      "[25422:25422:1206/105917.701423:ERROR:secret_portal_key_provider.cc(150)] Failed to retrieve secret: No response from portal.\n"
     ]
    }
   ],
   "source": [
    "aocd.submit(sum, day=6, year=2024)"
   ]
  },
  {
   "cell_type": "code",
   "execution_count": null,
   "metadata": {},
   "outputs": [],
   "source": [
    "arr2 = arr.copy()\n",
    "\n",
    "it = direction_iterator()\n",
    "\n",
    "\n",
    "loop(arr2, start, it)"
   ]
  },
  {
   "cell_type": "code",
   "execution_count": null,
   "metadata": {},
   "outputs": [],
   "source": [
    "arr = np.array([[c for c in line] for line in lines])\n",
    "start = np.hstack(np.where(arr == '^'))\n",
    "\n",
    "arr2 = arr.copy()\n",
    "arr2[7,7] = \"#\"\n",
    "\n",
    "it = direction_iterator()\n",
    "loop(arr2, start, it)"
   ]
  },
  {
   "cell_type": "code",
   "execution_count": null,
   "metadata": {},
   "outputs": [],
   "source": [
    "\n",
    "arr = np.array([[c for c in line] for line in lines])\n",
    "start = np.hstack(np.where(arr == '^'))\n",
    "print(start)\n",
    "sum = 0\n",
    "for i, line in enumerate(arr):\n",
    "    print(f\"{i}/{len(arr)}\")\n",
    "    for j, c in enumerate(line):\n",
    "        arr2 = arr.copy()\n",
    "        start = np.hstack(np.where(arr == '^'))\n",
    "        if arr2[i, j] == '#' or arr2[i, j] == '^':\n",
    "            continue\n",
    "\n",
    "\n",
    "        arr2[i, j] = '#'\n",
    "        it = direction_iterator()\n",
    "        if loop(arr2, start, it):\n",
    "            sum += 1\n",
    "\n",
    "print(sum)"
   ]
  },
  {
   "cell_type": "code",
   "execution_count": null,
   "metadata": {},
   "outputs": [],
   "source": [
    "aocd.submit(sum, day=6, year=2024)"
   ]
  },
  {
   "cell_type": "code",
   "execution_count": null,
   "metadata": {},
   "outputs": [],
   "source": [
    "print(puzzle.easter_eggs)"
   ]
  },
  {
   "cell_type": "code",
   "execution_count": null,
   "metadata": {},
   "outputs": [],
   "source": [
    "130*6"
   ]
  },
  {
   "cell_type": "code",
   "execution_count": null,
   "metadata": {},
   "outputs": [],
   "source": []
  }
 ],
 "metadata": {
  "kernelspec": {
   "display_name": "aoc24-TyiyelMA-py3.12",
   "language": "python",
   "name": "python3"
  },
  "language_info": {
   "codemirror_mode": {
    "name": "ipython",
    "version": 3
   },
   "file_extension": ".py",
   "mimetype": "text/x-python",
   "name": "python",
   "nbconvert_exporter": "python",
   "pygments_lexer": "ipython3",
   "version": "3.12.7"
  }
 },
 "nbformat": 4,
 "nbformat_minor": 2
}
